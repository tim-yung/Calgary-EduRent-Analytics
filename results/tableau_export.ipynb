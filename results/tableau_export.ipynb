{
 "cells": [
  {
   "cell_type": "code",
   "execution_count": 11,
   "metadata": {},
   "outputs": [],
   "source": [
    "import sqlite3\n",
    "import pandas as pd\n",
    "import geopandas as gpd\n"
   ]
  },
  {
   "cell_type": "code",
   "execution_count": 12,
   "metadata": {},
   "outputs": [],
   "source": [
    "sql_query = '''\n",
    "SELECT\n",
    "    rl.community,\n",
    "    rl.\"type\",\n",
    "    rl.beds,\n",
    "\trl.has_den,\n",
    "    rl.sq_feet, \n",
    "\trl.baths,\n",
    "\trl.cats,\n",
    "\trl.dogs,\n",
    "    rl.price,\n",
    "    rl.latitude,\n",
    "    rl.longitude,\n",
    "    ROUND(PERCENT_RANK() OVER (ORDER BY c.crime_count),2) AS crime_percentile,\n",
    "    (SELECT s.name FROM schools s\n",
    "        JOIN school_ranking sr ON sr.school_id = s.school_id\n",
    "        WHERE sr.school_id = swwz.school_id\n",
    "        ORDER BY sr.school_rating DESC\n",
    "        LIMIT 1) AS highest_rated_school_name,\n",
    "    MAX(sr.school_rating) AS highest_school_rating,\n",
    "  (SELECT sr.school_rank\n",
    "     FROM school_ranking sr \n",
    "     WHERE sr.school_id = swwz.school_id\n",
    "     ORDER BY sr.school_rating DESC\n",
    "     LIMIT 1) AS highest_school_rank,    \n",
    "    CASE \n",
    "        WHEN sl.school_id IS NOT NULL THEN 'Required'\n",
    "        ELSE 'Not Required'\n",
    "    END AS lottery_requirement,\n",
    "    ('https://www.rentfaster.ca'|| rl.link) AS link\n",
    "FROM\n",
    "    rental_listings rl\n",
    "    INNER JOIN schools_within_walk_zone swwz ON swwz.listing_id = rl.id\n",
    "    INNER JOIN listing_with_crime lwc ON lwc.listing_id = rl.id\n",
    "    INNER JOIN community_crime c ON c.id = lwc.crime_id\n",
    "    INNER JOIN schools s ON s.school_id = swwz.school_id\n",
    "    INNER JOIN school_ranking sr ON sr.school_id = s.school_id\n",
    "    LEFT JOIN school_lottery sl ON sl.school_id = s.school_id \n",
    "WHERE\n",
    "    sr.school_group = 'elementary'\n",
    "    AND rl.is_active = True\n",
    "GROUP BY\n",
    "    rl.id\n",
    "ORDER BY\n",
    "    highest_school_rating DESC,\n",
    "    price ASC\n",
    "'''"
   ]
  },
  {
   "cell_type": "code",
   "execution_count": 13,
   "metadata": {},
   "outputs": [],
   "source": [
    "with sqlite3.connect('../database.db') as conn:\n",
    "    df_tb = pd.read_sql_query(sql_query,conn)"
   ]
  },
  {
   "cell_type": "code",
   "execution_count": 14,
   "metadata": {},
   "outputs": [],
   "source": [
    "gdf_tb = gpd.GeoDataFrame(df_tb,geometry=gpd.points_from_xy(df_tb['longitude'], df_tb['latitude'], crs=\"EPSG:4326\"))"
   ]
  },
  {
   "cell_type": "code",
   "execution_count": 15,
   "metadata": {},
   "outputs": [
    {
     "name": "stdout",
     "output_type": "stream",
     "text": [
      "<class 'geopandas.geodataframe.GeoDataFrame'>\n",
      "RangeIndex: 1548 entries, 0 to 1547\n",
      "Data columns (total 18 columns):\n",
      " #   Column                     Non-Null Count  Dtype   \n",
      "---  ------                     --------------  -----   \n",
      " 0   community                  1548 non-null   object  \n",
      " 1   type                       1548 non-null   object  \n",
      " 2   beds                       1523 non-null   float64 \n",
      " 3   has_den                    1548 non-null   int64   \n",
      " 4   sq_feet                    1215 non-null   float64 \n",
      " 5   baths                      1548 non-null   float64 \n",
      " 6   cats                       1548 non-null   int64   \n",
      " 7   dogs                       1548 non-null   int64   \n",
      " 8   price                      1548 non-null   int64   \n",
      " 9   latitude                   1548 non-null   float64 \n",
      " 10  longitude                  1548 non-null   float64 \n",
      " 11  crime_percentile           1548 non-null   float64 \n",
      " 12  highest_rated_school_name  1548 non-null   object  \n",
      " 13  highest_school_rating      1548 non-null   float64 \n",
      " 14  highest_school_rank        1548 non-null   object  \n",
      " 15  lottery_requirement        1548 non-null   object  \n",
      " 16  link                       1548 non-null   object  \n",
      " 17  geometry                   1548 non-null   geometry\n",
      "dtypes: float64(7), geometry(1), int64(4), object(6)\n",
      "memory usage: 217.8+ KB\n"
     ]
    }
   ],
   "source": [
    "gdf_tb.info()"
   ]
  },
  {
   "cell_type": "code",
   "execution_count": 16,
   "metadata": {},
   "outputs": [],
   "source": [
    "gdf_tb.reset_index(inplace=True)\n",
    "gdf_tb[\"row_id\"] = gdf_tb.index + 1\n",
    "gdf_tb.reset_index(drop=True, inplace=True)\n",
    "gdf_tb.set_index(\"row_id\", inplace = True)"
   ]
  },
  {
   "cell_type": "code",
   "execution_count": 19,
   "metadata": {},
   "outputs": [
    {
     "data": {
      "text/html": [
       "<div>\n",
       "<style scoped>\n",
       "    .dataframe tbody tr th:only-of-type {\n",
       "        vertical-align: middle;\n",
       "    }\n",
       "\n",
       "    .dataframe tbody tr th {\n",
       "        vertical-align: top;\n",
       "    }\n",
       "\n",
       "    .dataframe thead th {\n",
       "        text-align: right;\n",
       "    }\n",
       "</style>\n",
       "<table border=\"1\" class=\"dataframe\">\n",
       "  <thead>\n",
       "    <tr style=\"text-align: right;\">\n",
       "      <th></th>\n",
       "      <th>index</th>\n",
       "      <th>community</th>\n",
       "      <th>type</th>\n",
       "      <th>beds</th>\n",
       "      <th>has_den</th>\n",
       "      <th>sq_feet</th>\n",
       "      <th>baths</th>\n",
       "      <th>cats</th>\n",
       "      <th>dogs</th>\n",
       "      <th>price</th>\n",
       "      <th>latitude</th>\n",
       "      <th>longitude</th>\n",
       "      <th>crime_percentile</th>\n",
       "      <th>highest_rated_school_name</th>\n",
       "      <th>highest_school_rating</th>\n",
       "      <th>highest_school_rank</th>\n",
       "      <th>lottery_requirement</th>\n",
       "      <th>link</th>\n",
       "      <th>geometry</th>\n",
       "    </tr>\n",
       "    <tr>\n",
       "      <th>row_id</th>\n",
       "      <th></th>\n",
       "      <th></th>\n",
       "      <th></th>\n",
       "      <th></th>\n",
       "      <th></th>\n",
       "      <th></th>\n",
       "      <th></th>\n",
       "      <th></th>\n",
       "      <th></th>\n",
       "      <th></th>\n",
       "      <th></th>\n",
       "      <th></th>\n",
       "      <th></th>\n",
       "      <th></th>\n",
       "      <th></th>\n",
       "      <th></th>\n",
       "      <th></th>\n",
       "      <th></th>\n",
       "      <th></th>\n",
       "    </tr>\n",
       "  </thead>\n",
       "  <tbody>\n",
       "  </tbody>\n",
       "</table>\n",
       "</div>"
      ],
      "text/plain": [
       "Empty GeoDataFrame\n",
       "Columns: [index, community, type, beds, has_den, sq_feet, baths, cats, dogs, price, latitude, longitude, crime_percentile, highest_rated_school_name, highest_school_rating, highest_school_rank, lottery_requirement, link, geometry]\n",
       "Index: []"
      ]
     },
     "execution_count": 19,
     "metadata": {},
     "output_type": "execute_result"
    }
   ],
   "source": [
    "gdf_tb[gdf_tb['community']=='Mahogany']"
   ]
  },
  {
   "cell_type": "code",
   "execution_count": 17,
   "metadata": {},
   "outputs": [],
   "source": [
    "gdf_tb.to_file('tableau_export.geojson',driver = 'GeoJSON')"
   ]
  }
 ],
 "metadata": {
  "kernelspec": {
   "display_name": "py310",
   "language": "python",
   "name": "python3"
  },
  "language_info": {
   "codemirror_mode": {
    "name": "ipython",
    "version": 3
   },
   "file_extension": ".py",
   "mimetype": "text/x-python",
   "name": "python",
   "nbconvert_exporter": "python",
   "pygments_lexer": "ipython3",
   "version": "3.10.13"
  }
 },
 "nbformat": 4,
 "nbformat_minor": 2
}
