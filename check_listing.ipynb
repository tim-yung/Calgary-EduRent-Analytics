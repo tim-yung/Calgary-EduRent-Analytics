{
 "cells": [
  {
   "cell_type": "markdown",
   "metadata": {},
   "source": [
    "## Get listing from RentFaster"
   ]
  },
  {
   "cell_type": "code",
   "execution_count": 1,
   "metadata": {},
   "outputs": [
    {
     "name": "stdout",
     "output_type": "stream",
     "text": [
      "Number of listing for Apartment: 383\n",
      "Number of listing for Townhouse: 405\n",
      "Number of listing for Mobile: 1\n",
      "Number of listing for Vacation Home: 0\n",
      "Number of listing for Storage: 24\n",
      "Number of listing for Room For Rent: 264\n",
      "Number of listing for House: 500\n",
      "Number of listing for Loft: 9\n",
      "Number of listing for Condo Unit: 500\n",
      "Number of listing for Basement: 500\n",
      "Number of listing for Parking Spot: 15\n",
      "Number of listing for Main Floor: 292\n",
      "Number of listing for Duplex: 148\n",
      "Number of listing for Acreage: 4\n",
      "Total number of rows: 3045\n"
     ]
    }
   ],
   "source": [
    "import httpx\n",
    "import pandas as pd\n",
    "from urllib.parse import urlencode\n",
    "import asyncio\n",
    "import nest_asyncio\n",
    "\n",
    "nest_asyncio.apply()\n",
    "\n",
    "async def fetch_data():\n",
    "    url = \"https://www.rentfaster.ca/api/map.json\"\n",
    "    headers = {\n",
    "        \"cookie\": \"RFUUID=0b2cd84e-b1d0-48b0-b875-3bffa61e40f5; PHPSESSID=83de974bcdf5b8e0a88ba17f40b97296\",\n",
    "        \"content-type\": \"application/x-www-form-urlencoded\",\n",
    "        \"user-agent\": \"Mozilla/5.0 (Windows NT 10.0; Win64; x64) AppleWebKit/537.36 (KHTML, like Gecko) Chrome/118.0.0.0 Safari/537.36\"\n",
    "    }\n",
    "\n",
    "    types = [\"Apartment\", \"Townhouse\", \"Mobile\", \"Vacation Home\", \"Storage\", \"Room For Rent\", \"House\", \"Loft\", \"Condo Unit\", \"Basement\", \"Parking Spot\", \"Main Floor\", \"Duplex\", \"Acreage\"]\n",
    "    city_id = \"ab/calgary\"\n",
    "\n",
    "    dataframes = []\n",
    "    async with httpx.AsyncClient() as client:\n",
    "        for type_ in types:\n",
    "            data = {\"type[]\": type_, \"city_id\": city_id}\n",
    "            payload = urlencode(data)\n",
    "            response = await client.post(url, data=payload, headers=headers)\n",
    "            df = pd.json_normalize(response.json()['listings'])\n",
    "            print(f\"Number of listing for {type_}: {len(df)}\")\n",
    "            dataframes.append(df)\n",
    "\n",
    "    final_df = pd.concat(dataframes)\n",
    "    print(f\"Total number of rows: {len(final_df)}\")\n",
    "    return final_df\n",
    "\n",
    "# Run the function\n",
    "df = asyncio.run(fetch_data())"
   ]
  },
  {
   "cell_type": "code",
   "execution_count": 2,
   "metadata": {},
   "outputs": [
    {
     "data": {
      "text/plain": [
       "(3045, 33)"
      ]
     },
     "execution_count": 2,
     "metadata": {},
     "output_type": "execute_result"
    }
   ],
   "source": [
    "df.drop_duplicates\n",
    "\n",
    "df.shape"
   ]
  },
  {
   "cell_type": "markdown",
   "metadata": {},
   "source": [
    "## Plot listing on a map (Optional)"
   ]
  },
  {
   "cell_type": "code",
   "execution_count": 3,
   "metadata": {},
   "outputs": [],
   "source": [
    "import folium\n",
    "\n",
    "# Create a map centered at some location\n",
    "m = folium.Map(location=[df['latitude'].mean(), df['longitude'].mean()], zoom_start=10)\n",
    "\n",
    "# Add points\n",
    "for idx, row in df.iterrows():\n",
    "    folium.CircleMarker(\n",
    "        location=[row['latitude'], row['longitude']],\n",
    "        radius=1,  # defines the radius of the CircleMarker\n",
    "        color=\"blue\",\n",
    "        fill=True,\n",
    "        fill_color=\"blue\",\n",
    "        fill_opacity=0.3  # 50% transparency\n",
    "    ).add_to(m)\n",
    "# Save it to html\n",
    "#m.save('map.html')\n",
    "#m"
   ]
  },
  {
   "cell_type": "code",
   "execution_count": 4,
   "metadata": {},
   "outputs": [
    {
     "data": {
      "text/plain": [
       "Index(['ref_id', 'id', 'userId', 'phone', 'phone_2', 'email', 'availability',\n",
       "       'a', 'v', 'f', 's', 'title', 'intro', 'city', 'community', 'latitude',\n",
       "       'longitude', 'marker', 'link', 'thumb2', 'preferred_contact', 'type',\n",
       "       'price', 'price2', 'beds', 'beds2', 'sq_feet', 'sq_feet2', 'baths',\n",
       "       'baths2', 'cats', 'dogs', 'utilities_included'],\n",
       "      dtype='object')"
      ]
     },
     "execution_count": 4,
     "metadata": {},
     "output_type": "execute_result"
    }
   ],
   "source": [
    "df.columns"
   ]
  },
  {
   "cell_type": "markdown",
   "metadata": {},
   "source": [
    "## Get the first row for testing"
   ]
  },
  {
   "cell_type": "code",
   "execution_count": 5,
   "metadata": {},
   "outputs": [
    {
     "name": "stdout",
     "output_type": "stream",
     "text": [
      "ref_id: 531446\n",
      "id: 531446\n",
      "userId: 1433701\n",
      "phone: 4036898269\n",
      "phone_2: \n",
      "email: True\n",
      "availability: Immediate\n",
      "a: 2000-01-01\n",
      "v: 1\n",
      "f: 2\n",
      "s: RSYNC\n",
      "title: Downtown Calgary Apartments\n",
      "intro: 825 8 Avenue SW\n",
      "city: Calgary\n",
      "community: Beltline\n",
      "latitude: 51.0457187\n",
      "longitude: -114.0805283\n",
      "marker: 48fe460417812991985db96c922835c3\n",
      "link: /ab/calgary/rentals/apartment/1-bedroom/beltline/pet-friendly/531446\n",
      "thumb2: https://f1a3d4fea3a9a877e732-356deb4d9644d2835b7712e712dbd1ea.ssl.cf2.rackcdn.com/531446/thumber_8998700.v.ac5adea583bcdd311300f8b3137a0685.jpg\n",
      "preferred_contact: Phone||Text||Email\n",
      "type: Apartment\n",
      "price: 1995\n",
      "price2: 2350\n",
      "beds: 1\n",
      "beds2: 2\n",
      "sq_feet: 606\n",
      "sq_feet2: 890\n",
      "baths: 1\n",
      "baths2: 2\n",
      "cats: 2.0\n",
      "dogs: 2.0\n",
      "utilities_included: ['Heat', 'Water']\n",
      "['Heat', 'Water']\n"
     ]
    },
    {
     "name": "stderr",
     "output_type": "stream",
     "text": [
      "C:\\Users\\smart\\AppData\\Local\\Temp\\ipykernel_10516\\689567336.py:8: FutureWarning: Series.__getitem__ treating keys as positions is deprecated. In a future version, integer keys will always be treated as labels (consistent with DataFrame behavior). To access a value by position, use `ser.iloc[pos]`\n",
      "  print(first_row[32])\n"
     ]
    }
   ],
   "source": [
    "# Access the first row using iloc[0]\n",
    "first_row = df.iloc[0]\n",
    "\n",
    "# Convert the Series to a dictionary and iterate over its items\n",
    "for column_name, value in first_row.to_dict().items():\n",
    "    print(f\"{column_name}: {value}\")\n",
    "\n",
    "print(first_row[32])"
   ]
  },
  {
   "cell_type": "markdown",
   "metadata": {},
   "source": [
    "### Reload the modules after making changes to them"
   ]
  },
  {
   "cell_type": "code",
   "execution_count": 29,
   "metadata": {},
   "outputs": [
    {
     "data": {
      "text/plain": [
       "<module 'polygon_module' from 'c:\\\\Users\\\\smart\\\\Documents\\\\Hobby Projects\\\\2_Web Scraping\\\\cbe\\\\polygon_module.py'>"
      ]
     },
     "execution_count": 29,
     "metadata": {},
     "output_type": "execute_result"
    }
   ],
   "source": [
    "import models\n",
    "#import get_listing\n",
    "import polygon_module\n",
    "\n",
    "import importlib\n",
    "importlib.reload(models)\n",
    "importlib.reload(polygon_module)\n",
    "#importlib.reload(get_listing)\n"
   ]
  },
  {
   "cell_type": "markdown",
   "metadata": {},
   "source": [
    "## Testing database functions"
   ]
  },
  {
   "cell_type": "code",
   "execution_count": 7,
   "metadata": {},
   "outputs": [],
   "source": [
    "def store_df_to_db(df, db):\n",
    "    db.deactivate_old_listings()\n",
    "    for _, row in df.iterrows():\n",
    "        db.insert_listing(row)\n",
    "\n",
    "# Usage:\n",
    "# Create an instance of Listing_db\n",
    "#listing_db = Listing_db()\n",
    "\n",
    "# DataFrame df is assumed to exist\n",
    "#store_df_to_db(df, listing_db)"
   ]
  },
  {
   "cell_type": "markdown",
   "metadata": {},
   "source": [
    "Close connection to prevent database being locked."
   ]
  },
  {
   "cell_type": "markdown",
   "metadata": {},
   "source": [
    "Troubleshooting:"
   ]
  },
  {
   "cell_type": "code",
   "execution_count": 8,
   "metadata": {},
   "outputs": [],
   "source": [
    "school_db = models.School_db()\n",
    "\n",
    "listing_db = models.Listing_db()"
   ]
  },
  {
   "cell_type": "code",
   "execution_count": 9,
   "metadata": {},
   "outputs": [],
   "source": [
    "#school_db.con.close()"
   ]
  },
  {
   "cell_type": "code",
   "execution_count": 10,
   "metadata": {},
   "outputs": [],
   "source": [
    "school_ids = school_db.get_all_school_ids()"
   ]
  },
  {
   "cell_type": "code",
   "execution_count": 11,
   "metadata": {},
   "outputs": [],
   "source": [
    "all_listing_ids_coordinates = listing_db.get_all_listing_ids_coordinates()"
   ]
  },
  {
   "cell_type": "code",
   "execution_count": 12,
   "metadata": {},
   "outputs": [],
   "source": [
    "#listing_db.con.commit()"
   ]
  }
 ],
 "metadata": {
  "kernelspec": {
   "display_name": "py310",
   "language": "python",
   "name": "python3"
  },
  "language_info": {
   "codemirror_mode": {
    "name": "ipython",
    "version": 3
   },
   "file_extension": ".py",
   "mimetype": "text/x-python",
   "name": "python",
   "nbconvert_exporter": "python",
   "pygments_lexer": "ipython3",
   "version": "3.10.13"
  }
 },
 "nbformat": 4,
 "nbformat_minor": 2
}
