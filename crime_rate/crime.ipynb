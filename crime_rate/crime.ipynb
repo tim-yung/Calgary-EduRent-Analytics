{
 "cells": [
  {
   "cell_type": "markdown",
   "metadata": {},
   "source": [
    "# Import and load data"
   ]
  },
  {
   "cell_type": "code",
   "execution_count": 255,
   "metadata": {},
   "outputs": [],
   "source": [
    "import pandas as pd\n",
    "import sqlite3"
   ]
  },
  {
   "cell_type": "code",
   "execution_count": 256,
   "metadata": {},
   "outputs": [],
   "source": [
    "df_crime = pd.read_csv('calgary_crime_stats.csv')"
   ]
  },
  {
   "cell_type": "code",
   "execution_count": 257,
   "metadata": {},
   "outputs": [],
   "source": [
    "conn = sqlite3.connect('../database.db')\n",
    "\n",
    "df_listings = pd.read_sql_query(\"SELECT * FROM rental_listings \", conn)\n",
    "conn.close()"
   ]
  },
  {
   "cell_type": "markdown",
   "metadata": {},
   "source": [
    "# Looking at the data"
   ]
  },
  {
   "cell_type": "code",
   "execution_count": 258,
   "metadata": {},
   "outputs": [
    {
     "name": "stdout",
     "output_type": "stream",
     "text": [
      "<class 'pandas.core.frame.DataFrame'>\n",
      "RangeIndex: 81875 entries, 0 to 81874\n",
      "Data columns (total 10 columns):\n",
      " #   Column                  Non-Null Count  Dtype  \n",
      "---  ------                  --------------  -----  \n",
      " 0   Sector                  81691 non-null  object \n",
      " 1   Community Name          81875 non-null  object \n",
      " 2   Category                81875 non-null  object \n",
      " 3   Crime Count             81874 non-null  float64\n",
      " 4   Date                    81875 non-null  object \n",
      " 5   Year                    81875 non-null  int64  \n",
      " 6   Month                   81875 non-null  object \n",
      " 7   ID                      81875 non-null  object \n",
      " 8   Resident Count          2488 non-null   float64\n",
      " 9   Community Center Point  81691 non-null  object \n",
      "dtypes: float64(2), int64(1), object(7)\n",
      "memory usage: 6.2+ MB\n"
     ]
    }
   ],
   "source": [
    "df_crime.info()"
   ]
  },
  {
   "cell_type": "code",
   "execution_count": 259,
   "metadata": {},
   "outputs": [
    {
     "data": {
      "text/html": [
       "<div>\n",
       "<style scoped>\n",
       "    .dataframe tbody tr th:only-of-type {\n",
       "        vertical-align: middle;\n",
       "    }\n",
       "\n",
       "    .dataframe tbody tr th {\n",
       "        vertical-align: top;\n",
       "    }\n",
       "\n",
       "    .dataframe thead th {\n",
       "        text-align: right;\n",
       "    }\n",
       "</style>\n",
       "<table border=\"1\" class=\"dataframe\">\n",
       "  <thead>\n",
       "    <tr style=\"text-align: right;\">\n",
       "      <th></th>\n",
       "      <th>Sector</th>\n",
       "      <th>Community Name</th>\n",
       "      <th>Category</th>\n",
       "      <th>Crime Count</th>\n",
       "      <th>Date</th>\n",
       "      <th>Year</th>\n",
       "      <th>Month</th>\n",
       "      <th>ID</th>\n",
       "      <th>Resident Count</th>\n",
       "      <th>Community Center Point</th>\n",
       "    </tr>\n",
       "  </thead>\n",
       "  <tbody>\n",
       "    <tr>\n",
       "      <th>0</th>\n",
       "      <td>NORTH</td>\n",
       "      <td>03W</td>\n",
       "      <td>Theft FROM Vehicle</td>\n",
       "      <td>1.0</td>\n",
       "      <td>2022/04</td>\n",
       "      <td>2022</td>\n",
       "      <td>APR</td>\n",
       "      <td>2022-APR-03W-Theft FROM Vehicle</td>\n",
       "      <td>NaN</td>\n",
       "      <td>POINT (-114.026242634091 51.197967711165)</td>\n",
       "    </tr>\n",
       "    <tr>\n",
       "      <th>1</th>\n",
       "      <td>NORTHEAST</td>\n",
       "      <td>05D</td>\n",
       "      <td>Theft FROM Vehicle</td>\n",
       "      <td>1.0</td>\n",
       "      <td>2022/04</td>\n",
       "      <td>2022</td>\n",
       "      <td>APR</td>\n",
       "      <td>2022-APR-05D-Theft FROM Vehicle</td>\n",
       "      <td>NaN</td>\n",
       "      <td>POINT (-113.958660846149 51.179594126023)</td>\n",
       "    </tr>\n",
       "    <tr>\n",
       "      <th>2</th>\n",
       "      <td>EAST</td>\n",
       "      <td>09O</td>\n",
       "      <td>Theft OF Vehicle</td>\n",
       "      <td>2.0</td>\n",
       "      <td>2022/04</td>\n",
       "      <td>2022</td>\n",
       "      <td>APR</td>\n",
       "      <td>2022-APR-09O-Theft OF Vehicle</td>\n",
       "      <td>NaN</td>\n",
       "      <td>POINT (-113.877106941343 51.052571080807)</td>\n",
       "    </tr>\n",
       "  </tbody>\n",
       "</table>\n",
       "</div>"
      ],
      "text/plain": [
       "      Sector Community Name            Category  Crime Count     Date  Year  \\\n",
       "0      NORTH            03W  Theft FROM Vehicle          1.0  2022/04  2022   \n",
       "1  NORTHEAST            05D  Theft FROM Vehicle          1.0  2022/04  2022   \n",
       "2       EAST            09O    Theft OF Vehicle          2.0  2022/04  2022   \n",
       "\n",
       "  Month                               ID  Resident Count  \\\n",
       "0   APR  2022-APR-03W-Theft FROM Vehicle             NaN   \n",
       "1   APR  2022-APR-05D-Theft FROM Vehicle             NaN   \n",
       "2   APR    2022-APR-09O-Theft OF Vehicle             NaN   \n",
       "\n",
       "                      Community Center Point  \n",
       "0  POINT (-114.026242634091 51.197967711165)  \n",
       "1  POINT (-113.958660846149 51.179594126023)  \n",
       "2  POINT (-113.877106941343 51.052571080807)  "
      ]
     },
     "execution_count": 259,
     "metadata": {},
     "output_type": "execute_result"
    }
   ],
   "source": [
    "df_crime.head(3)"
   ]
  },
  {
   "cell_type": "markdown",
   "metadata": {},
   "source": [
    "## (a) Simple cleaning (lowercase and strip)"
   ]
  },
  {
   "cell_type": "code",
   "execution_count": 260,
   "metadata": {},
   "outputs": [],
   "source": [
    "df_crime['Community Name_cleaned']=df_crime['Community Name'].str.lower().str.strip()"
   ]
  },
  {
   "cell_type": "code",
   "execution_count": 261,
   "metadata": {},
   "outputs": [],
   "source": [
    "df_listings['community_cleaned'] = df_listings['community'].str.lower().str.strip()"
   ]
  },
  {
   "cell_type": "code",
   "execution_count": 262,
   "metadata": {},
   "outputs": [],
   "source": [
    "df_listings['is_in'] = df_listings['community_cleaned'].apply(lambda x: any(x in name for name in df_crime['Community Name_cleaned']))\n"
   ]
  },
  {
   "cell_type": "code",
   "execution_count": 263,
   "metadata": {},
   "outputs": [
    {
     "data": {
      "text/plain": [
       "is_in\n",
       "True     0.942318\n",
       "False    0.057682\n",
       "Name: proportion, dtype: float64"
      ]
     },
     "execution_count": 263,
     "metadata": {},
     "output_type": "execute_result"
    }
   ],
   "source": [
    "df_listings['is_in'].value_counts(normalize=True)"
   ]
  },
  {
   "cell_type": "markdown",
   "metadata": {},
   "source": [
    "Not bad, 94.2% of the communities matched, 5.8% unmatched."
   ]
  },
  {
   "cell_type": "code",
   "execution_count": 264,
   "metadata": {},
   "outputs": [
    {
     "data": {
      "text/plain": [
       "array(['academy', 'bearspaw', 'belaire', 'connaught', 'creekstone',\n",
       "       'douglas glen', 'dover glen', 'evergreen estates', 'fonda',\n",
       "       'greenwich', 'hanson ranch', 'heritage pointe', 'kensington',\n",
       "       'lynnwood', 'marda loop', 'mountview parc',\n",
       "       'parkhill-stanley park', 'patterson heights', 'pumphill',\n",
       "       'quarry park', 'richmond/knob hill', 'rockland park',\n",
       "       'saddlebrook', 'savanna', 'silverton', 'sirocco',\n",
       "       'st andrews heights', 'stanley park', 'trinity hills', 'triwood',\n",
       "       'vermillon hill', 'victoria park', 'west dover', 'westbrook',\n",
       "       'westmount'], dtype=object)"
      ]
     },
     "execution_count": 264,
     "metadata": {},
     "output_type": "execute_result"
    }
   ],
   "source": [
    "unmatched_listings = df_listings[df_listings['is_in'] == False].copy()\n",
    "unmatched_listings['community_cleaned'].sort_values().unique()"
   ]
  },
  {
   "cell_type": "code",
   "execution_count": 265,
   "metadata": {},
   "outputs": [
    {
     "data": {
      "text/plain": [
       "(556, 36)"
      ]
     },
     "execution_count": 265,
     "metadata": {},
     "output_type": "execute_result"
    }
   ],
   "source": [
    "unmatched_listings.shape"
   ]
  },
  {
   "cell_type": "code",
   "execution_count": 266,
   "metadata": {},
   "outputs": [],
   "source": [
    "matched_names = df_listings[df_listings['is_in'] == True]['community_cleaned'].unique()\n",
    "\n",
    "# Get the unmatched names\n",
    "unmatched_in_crime = df_crime[~df_crime['Community Name_cleaned'].isin(matched_names)]['Community Name_cleaned'].unique()\n"
   ]
  },
  {
   "cell_type": "code",
   "execution_count": 267,
   "metadata": {},
   "outputs": [
    {
     "data": {
      "text/plain": [
       "array(['03w', '05d', '09o', '12a', '12j', 'albert park/radisson heights',\n",
       "       'alyth/bonnybrook', 'applewood park', 'beddington heights',\n",
       "       'bridgeland/riverside', 'burns industrial',\n",
       "       'calgary international airport', 'chinatown', 'christie park',\n",
       "       '05c', 'deerfoot business centre', 'douglasdale/glen',\n",
       "       'downtown commercial core', 'downtown east village',\n",
       "       'downtown west end', 'eagle ridge', 'east fairview industrial',\n",
       "       'east shepard industrial', '03i', 'eastfield',\n",
       "       'fairview industrial', 'fish creek park', 'foothills',\n",
       "       'forest lawn industrial', 'franklin', 'glendeer business park',\n",
       "       'glenmore park', 'golden triangle', 'great plains',\n",
       "       'greenview industrial park', 'greenwood/greenbriar', 'highfield',\n",
       "       'horizon', 'hounsfield heights/briar hill', 'killarney/glengarry',\n",
       "       'manchester industrial', 'mayland', 'mccall', 'meridian',\n",
       "       'north airways', 'nose hill park', 'ogden shops', 'parkhill',\n",
       "       'pegasus', '01k', '02e', 'pump hill', '14v', '02a', '10a', '10c',\n",
       "       'scarboro/sunalta west', '01c', 'richmond', 'royal vista',\n",
       "       'saddle ridge industrial', 'sandstone valley', 'section 23',\n",
       "       'shepard industrial', 'skyline east', 'skyline west',\n",
       "       'skyview ranch', 'south airways', 'south foothills',\n",
       "       'st. andrews heights', 'starfield', 'stonegate landing',\n",
       "       'stoney 1', 'stoney 2', 'stoney 3', 'stoney 4', 'sunridge',\n",
       "       'university of calgary', 'upper mount royal', 'valleyfield',\n",
       "       'westwinds', 'winston heights/mountview', '09h', '09q', '10d',\n",
       "       '10e', '13f', '13m', 'aurora business park', 'bel-aire',\n",
       "       'bonavista downs', 'chinook park', '05b', 'haskayne',\n",
       "       'macewan glen', 'north haven upper', 'queens park village',\n",
       "       'symons valley ranch', '02c', '03s', 'cornerstone& 05f',\n",
       "       'canada olympic park', '02f', '09k', '13g', 'mayfair', '01b',\n",
       "       '06a', '12l', 'medicine hill', 'roxboro', '09p', '12b',\n",
       "       'scarboro/ sunalta west', '12c', '12k', '02b', '01f', '03h', '02k',\n",
       "       '05e', '03v', '10b', '01h', 'tnps', '13b', '09q & belvedere',\n",
       "       '13e', '13a', '02l', '05g', '01d', 'keystone hills', '05f', '12i',\n",
       "       'keystone hills & stoney 4'], dtype=object)"
      ]
     },
     "execution_count": 267,
     "metadata": {},
     "output_type": "execute_result"
    }
   ],
   "source": [
    "unmatched_in_crime"
   ]
  },
  {
   "cell_type": "markdown",
   "metadata": {},
   "source": [
    "## (b) Matching with Fuzzy Matching"
   ]
  },
  {
   "cell_type": "code",
   "execution_count": 268,
   "metadata": {},
   "outputs": [],
   "source": [
    "from thefuzz import process\n",
    "\n",
    "# Get a list of unique community names from df_crime\n",
    "names_array = df_crime['Community Name_cleaned'].unique()\n",
    "\n",
    "def fuzzy_match(name):\n",
    "    \n",
    "    #print(f'fuzzy matching {name}')\n",
    "    best_match = process.extractOne(name, names_array) #score_cutoff=90\n",
    "    return best_match[0]  if best_match[1] >= 90 else 'Unmatched'\n",
    "\n",
    "\n",
    "unmatched_listings['community_cleaned_fuzz_one'] = unmatched_listings['community_cleaned'].apply(fuzzy_match)"
   ]
  },
  {
   "cell_type": "code",
   "execution_count": 269,
   "metadata": {},
   "outputs": [
    {
     "data": {
      "text/plain": [
       "community_cleaned_fuzz_one\n",
       "Unmatched              451\n",
       "richmond                61\n",
       "parkhill                18\n",
       "evergreen                8\n",
       "st. andrews heights      7\n",
       "pump hill                5\n",
       "dover                    3\n",
       "bel-aire                 2\n",
       "patterson                1\n",
       "Name: count, dtype: int64"
      ]
     },
     "execution_count": 269,
     "metadata": {},
     "output_type": "execute_result"
    }
   ],
   "source": [
    "unmatched_listings['community_cleaned_fuzz_one'].value_counts()"
   ]
  },
  {
   "cell_type": "markdown",
   "metadata": {},
   "source": [
    "Remove those unmatched in fuzz one, only show unique combinations.\n",
    "\n",
    "Known correct matches:\n",
    "\n",
    "richmond/knob hill -> richmond\n",
    "pumphill -> pump hill\n",
    "st andrews heights -> st. andrews heights\n",
    "west dover\t-> dover\n",
    "evergreen estates -> evergreen\n",
    "belaire -> bel-aire\n",
    "douglas glen -> douglasdale/glen\n",
    "parkhill-stanley park -> parkhill\n",
    "mountview parc -> winston heights/mountview\n",
    "patterson heights -> patterson\n",
    "dover glen -> dover\n"
   ]
  },
  {
   "cell_type": "code",
   "execution_count": 270,
   "metadata": {},
   "outputs": [
    {
     "data": {
      "text/html": [
       "<div>\n",
       "<style scoped>\n",
       "    .dataframe tbody tr th:only-of-type {\n",
       "        vertical-align: middle;\n",
       "    }\n",
       "\n",
       "    .dataframe tbody tr th {\n",
       "        vertical-align: top;\n",
       "    }\n",
       "\n",
       "    .dataframe thead th {\n",
       "        text-align: right;\n",
       "    }\n",
       "</style>\n",
       "<table border=\"1\" class=\"dataframe\">\n",
       "  <thead>\n",
       "    <tr style=\"text-align: right;\">\n",
       "      <th></th>\n",
       "      <th>community_cleaned</th>\n",
       "      <th>community_cleaned_fuzz_one</th>\n",
       "    </tr>\n",
       "  </thead>\n",
       "  <tbody>\n",
       "    <tr>\n",
       "      <th>162</th>\n",
       "      <td>richmond/knob hill</td>\n",
       "      <td>richmond</td>\n",
       "    </tr>\n",
       "    <tr>\n",
       "      <th>182</th>\n",
       "      <td>pumphill</td>\n",
       "      <td>pump hill</td>\n",
       "    </tr>\n",
       "    <tr>\n",
       "      <th>396</th>\n",
       "      <td>st andrews heights</td>\n",
       "      <td>st. andrews heights</td>\n",
       "    </tr>\n",
       "    <tr>\n",
       "      <th>532</th>\n",
       "      <td>west dover</td>\n",
       "      <td>dover</td>\n",
       "    </tr>\n",
       "    <tr>\n",
       "      <th>1241</th>\n",
       "      <td>evergreen estates</td>\n",
       "      <td>evergreen</td>\n",
       "    </tr>\n",
       "    <tr>\n",
       "      <th>1515</th>\n",
       "      <td>belaire</td>\n",
       "      <td>bel-aire</td>\n",
       "    </tr>\n",
       "    <tr>\n",
       "      <th>1560</th>\n",
       "      <td>parkhill-stanley park</td>\n",
       "      <td>parkhill</td>\n",
       "    </tr>\n",
       "    <tr>\n",
       "      <th>6779</th>\n",
       "      <td>patterson heights</td>\n",
       "      <td>patterson</td>\n",
       "    </tr>\n",
       "    <tr>\n",
       "      <th>8345</th>\n",
       "      <td>dover glen</td>\n",
       "      <td>dover</td>\n",
       "    </tr>\n",
       "  </tbody>\n",
       "</table>\n",
       "</div>"
      ],
      "text/plain": [
       "          community_cleaned community_cleaned_fuzz_one\n",
       "162      richmond/knob hill                   richmond\n",
       "182                pumphill                  pump hill\n",
       "396      st andrews heights        st. andrews heights\n",
       "532              west dover                      dover\n",
       "1241      evergreen estates                  evergreen\n",
       "1515                belaire                   bel-aire\n",
       "1560  parkhill-stanley park                   parkhill\n",
       "6779      patterson heights                  patterson\n",
       "8345             dover glen                      dover"
      ]
     },
     "execution_count": 270,
     "metadata": {},
     "output_type": "execute_result"
    }
   ],
   "source": [
    "unmatched_listings[unmatched_listings['community_cleaned_fuzz_one'] != 'Unmatched'][['community_cleaned','community_cleaned_fuzz_one']].drop_duplicates()"
   ]
  },
  {
   "cell_type": "markdown",
   "metadata": {},
   "source": [
    "After testing with different cut-off thresholds, the matching result with cutoff score 90 is satisfactory."
   ]
  },
  {
   "cell_type": "code",
   "execution_count": 271,
   "metadata": {},
   "outputs": [],
   "source": [
    "\n",
    "df_listings['community_cleaned_fuzz_one'] = df_listings['community_cleaned'].apply(fuzzy_match)"
   ]
  },
  {
   "cell_type": "code",
   "execution_count": 272,
   "metadata": {},
   "outputs": [],
   "source": [
    "matched_results = df_listings[df_listings['community_cleaned_fuzz_one'] != 'Unmatched'][['community_cleaned','community_cleaned_fuzz_one']].drop_duplicates()"
   ]
  },
  {
   "cell_type": "code",
   "execution_count": 432,
   "metadata": {},
   "outputs": [
    {
     "data": {
      "text/plain": [
       "community_cleaned_fuzz_one\n",
       "Unmatched                   451\n",
       "beltline                    427\n",
       "downtown commercial core    277\n",
       "seton                       264\n",
       "livingston                  253\n",
       "                           ... \n",
       "maple ridge                   4\n",
       "valley ridge                  3\n",
       "bel-aire                      2\n",
       "diamond cove                  2\n",
       "hotchkiss                     2\n",
       "Name: count, Length: 199, dtype: int64"
      ]
     },
     "execution_count": 432,
     "metadata": {},
     "output_type": "execute_result"
    }
   ],
   "source": [
    "df_listings['community_cleaned_fuzz_one'].value_counts()"
   ]
  },
  {
   "cell_type": "code",
   "execution_count": 273,
   "metadata": {},
   "outputs": [
    {
     "data": {
      "text/plain": [
       "community_cleaned_fuzz_one\n",
       "Unmatched                   0.046789\n",
       "beltline                    0.044299\n",
       "downtown commercial core    0.028737\n",
       "seton                       0.027389\n",
       "livingston                  0.026248\n",
       "                              ...   \n",
       "maple ridge                 0.000415\n",
       "valley ridge                0.000311\n",
       "bel-aire                    0.000207\n",
       "diamond cove                0.000207\n",
       "hotchkiss                   0.000207\n",
       "Name: proportion, Length: 199, dtype: float64"
      ]
     },
     "execution_count": 273,
     "metadata": {},
     "output_type": "execute_result"
    }
   ],
   "source": [
    "df_listings['community_cleaned_fuzz_one'].value_counts(normalize=True)"
   ]
  },
  {
   "cell_type": "markdown",
   "metadata": {},
   "source": [
    "The unmatched percentage improved from 5.8 to 4.7. \n",
    "Now verify the matched pairs."
   ]
  },
  {
   "cell_type": "code",
   "execution_count": 274,
   "metadata": {},
   "outputs": [
    {
     "name": "stdout",
     "output_type": "stream",
     "text": [
      "bridlewood vs bridlewood\n",
      "rosemont vs rosemont\n",
      "hamptons vs hamptons\n",
      "lincoln park vs lincoln park\n",
      "huntington hills vs huntington hills\n",
      "hillhurst vs hillhurst\n",
      "thorncliffe vs thorncliffe\n",
      "beltline vs beltline\n",
      "bowness vs bowness\n",
      "inglewood vs inglewood\n",
      "tuscany vs tuscany\n",
      "varsity vs varsity\n",
      "parkdale vs parkdale\n",
      "capitol hill vs capitol hill\n",
      "elboya vs elboya\n",
      "midnapore vs midnapore\n",
      "bankview vs bankview\n",
      "coventry hills vs coventry hills\n",
      "mission vs mission\n",
      "garrison woods vs garrison woods\n",
      "marlborough park vs marlborough park\n",
      "downtown vs downtown commercial core\n",
      "martindale vs martindale\n",
      "acadia vs acadia\n",
      "tuxedo park vs tuxedo park\n",
      "renfrew vs renfrew\n",
      "somerset vs somerset\n",
      "fairview vs fairview\n",
      "glenbrook vs glenbrook\n",
      "pineridge vs pineridge\n",
      "lower mount royal vs lower mount royal\n",
      "university heights vs university heights\n",
      "west hillhurst vs west hillhurst\n",
      "cranston vs cranston\n",
      "rundle vs rundle\n",
      "sunalta vs sunalta\n",
      "rutland park vs rutland park\n",
      "kingsland vs kingsland\n",
      "rocky ridge vs rocky ridge\n",
      "wildwood vs wildwood\n",
      "mount pleasant vs mount pleasant\n",
      "patterson vs patterson\n",
      "bridgeland vs bridgeland/riverside\n",
      "point mckay vs point mckay\n",
      "maple ridge vs maple ridge\n",
      "dover vs dover\n",
      "woodlands vs woodlands\n",
      "evanston vs evanston\n",
      "albert park vs albert park/radisson heights\n",
      "ogden vs ogden\n",
      "lake bonavista vs lake bonavista\n",
      "canyon meadows vs canyon meadows\n",
      "tuxedo vs tuxedo park\n",
      "winston heights vs winston heights/mountview\n",
      "panorama hills vs panorama hills\n",
      "eau claire vs eau claire\n",
      "glamorgan vs glamorgan\n",
      "highland park vs highland park\n",
      "killarney vs killarney/glengarry\n",
      "south calgary vs south calgary\n",
      "southwood vs southwood\n",
      "mayland heights vs mayland heights\n",
      "altadore vs altadore\n",
      "windsor park vs windsor park\n",
      "monterey park vs monterey park\n",
      "springbank hill vs springbank hill\n",
      "abbeydale vs abbeydale\n",
      "brentwood vs brentwood\n",
      "aspen woods vs aspen woods\n",
      "country hills vs country hills\n",
      "sunnyside vs sunnyside\n",
      "temple vs temple\n",
      "country hills village vs country hills village\n",
      "evergreen vs evergreen\n",
      "erlton vs erlton\n",
      "rosscarrock vs rosscarrock\n",
      "willow park vs willow park\n",
      "ranchlands vs ranchlands\n",
      "edgemont vs edgemont\n",
      "dalhousie vs dalhousie\n",
      "sherwood vs sherwood\n",
      "mckenzie towne vs mckenzie towne\n",
      "citadel vs citadel\n",
      "beddington vs beddington heights\n",
      "silverado vs silverado\n",
      "richmond/knob hill vs richmond\n",
      "falconridge vs falconridge\n",
      "auburn bay vs auburn bay\n",
      "castleridge vs castleridge\n",
      "charleswood vs charleswood\n",
      "cambrian heights vs cambrian heights\n",
      "penbrooke meadows vs penbrooke meadows\n",
      "pumphill vs pump hill\n",
      "forest lawn vs forest lawn\n",
      "manchester vs manchester\n",
      "scarboro vs scarboro\n",
      "shawnessy vs shawnessy\n",
      "crescent heights vs crescent heights\n",
      "walden vs walden\n",
      "whitehorn vs whitehorn\n",
      "spruce cliff vs spruce cliff\n",
      "sundance vs sundance\n",
      "marlborough vs marlborough\n",
      "coral springs vs coral springs\n",
      "montgomery vs montgomery\n",
      "greenview vs greenview\n",
      "haysboro vs haysboro\n",
      "millrise vs millrise\n",
      "royal oak vs royal oak\n",
      "saddle ridge vs saddle ridge\n",
      "taradale vs taradale\n",
      "sage hill vs sage hill\n",
      "east village vs downtown east village\n",
      "kincora vs kincora\n",
      "cityscape vs cityscape\n",
      "skyview vs skyview ranch\n",
      "braeside vs braeside\n",
      "glendale vs glendale\n",
      "shaganappi vs shaganappi\n",
      "macewan vs macewan glen\n",
      "garrison green vs garrison green\n",
      "legacy vs legacy\n",
      "riverbend vs riverbend\n",
      "north glenmore park vs north glenmore park\n",
      "seton vs seton\n",
      "mount royal vs lower mount royal\n",
      "banff trail vs banff trail\n",
      "new brighton vs new brighton\n",
      "coach hill vs coach hill\n",
      "cedarbrae vs cedarbrae\n",
      "springbank vs springbank hill\n",
      "chaparral vs chaparral\n",
      "collingwood vs collingwood\n",
      "st andrews heights vs st. andrews heights\n",
      "nolan hill vs nolan hill\n",
      "queensland vs queensland\n",
      "meadowlark park vs meadowlark park\n",
      "highwood vs highwood\n",
      "harvest hills vs harvest hills\n",
      "lakeview vs lakeview\n",
      "bayview vs bayview\n",
      "hidden valley vs hidden valley\n",
      "university district vs university district\n",
      "copperfield vs copperfield\n",
      "west dover vs dover\n",
      "cornerstone vs cornerstone\n",
      "scenic acres vs scenic acres\n",
      "north haven vs north haven\n",
      "silver springs vs silver springs\n",
      "cliff bungalow vs cliff bungalow\n",
      "mckenzie lake vs mckenzie lake\n",
      "livingston vs livingston\n",
      "mahogany vs mahogany\n",
      "hawkwood vs hawkwood\n",
      "douglasdale vs douglasdale/glen\n",
      "palliser vs palliser\n",
      "west springs vs west springs\n",
      "redstone vs redstone\n",
      "cougar ridge vs cougar ridge\n",
      "oakridge vs oakridge\n",
      "erin woods vs erin woods\n",
      "carrington vs carrington\n",
      "elbow park vs elbow park\n",
      "briar hill vs hounsfield heights/briar hill\n",
      "yorkville vs yorkville\n",
      "vista heights vs vista heights\n",
      "arbour lake vs arbour lake\n",
      "diamond cove vs diamond cove\n",
      "signal hill vs signal hill\n",
      "kelvin grove vs kelvin grove\n",
      "red carpet vs red carpet\n",
      "wolf willow vs wolf willow\n",
      "discovery ridge vs discovery ridge\n",
      "deer run vs deer run\n",
      "britannia vs britannia\n",
      "deer ridge vs deer ridge\n",
      "pine creek vs pine creek\n",
      "crestmont vs crestmont\n",
      "woodbine vs woodbine\n",
      "ambleton vs ambleton\n",
      "evergreen estates vs evergreen\n",
      "rosedale vs rosedale\n",
      "belmont vs belmont\n",
      "ramsay vs ramsay\n",
      "glacier ridge vs glacier ridge\n",
      "belvedere vs belvedere\n",
      "homestead vs homestead\n",
      "strathcona park vs strathcona park\n",
      "belaire vs bel-aire\n",
      "southview vs southview\n",
      "parkhill-stanley park vs parkhill\n",
      "rangeview vs rangeview\n",
      "westgate vs westgate\n",
      "sandstone vs sandstone valley\n",
      "applewood vs applewood park\n",
      "radisson heights vs albert park/radisson heights\n",
      "alpine park vs alpine park\n",
      "parkland vs parkland\n",
      "forest heights vs forest heights\n",
      "rideau park vs rideau park\n",
      "currie barracks vs currie barracks\n",
      "valley ridge vs valley ridge\n",
      "patterson heights vs patterson\n",
      "hotchkiss vs hotchkiss\n",
      "dover glen vs dover\n",
      "shawnee slopes vs shawnee slopes\n"
     ]
    }
   ],
   "source": [
    "for result in matched_results.itertuples():\n",
    "    print(f'{result.community_cleaned} vs {result.community_cleaned_fuzz_one}')"
   ]
  },
  {
   "cell_type": "markdown",
   "metadata": {},
   "source": [
    "The matching is generally accurate. So fuzzing matching will be acopted."
   ]
  },
  {
   "cell_type": "markdown",
   "metadata": {},
   "source": [
    "# Evaluation"
   ]
  },
  {
   "cell_type": "markdown",
   "metadata": {},
   "source": [
    "## Which communities in df_listings are unmatched?"
   ]
  },
  {
   "cell_type": "code",
   "execution_count": 278,
   "metadata": {},
   "outputs": [],
   "source": [
    "unmatched_results = df_listings[df_listings['community_cleaned_fuzz_one'] == 'Unmatched']['community_cleaned']"
   ]
  },
  {
   "cell_type": "code",
   "execution_count": 281,
   "metadata": {},
   "outputs": [
    {
     "data": {
      "text/plain": [
       "community_cleaned\n",
       "victoria park      134\n",
       "savanna             75\n",
       "rockland park       46\n",
       "creekstone          40\n",
       "connaught           36\n",
       "saddlebrook         18\n",
       "bearspaw            13\n",
       "quarry park         12\n",
       "greenwich           11\n",
       "douglas glen         9\n",
       "lynnwood             7\n",
       "silverton            7\n",
       "trinity hills        6\n",
       "sirocco              5\n",
       "westmount            5\n",
       "fonda                4\n",
       "stanley park         4\n",
       "marda loop           3\n",
       "westbrook            3\n",
       "triwood              3\n",
       "hanson ranch         2\n",
       "vermillon hill       2\n",
       "heritage pointe      2\n",
       "academy              2\n",
       "mountview parc       1\n",
       "kensington           1\n",
       "Name: count, dtype: int64"
      ]
     },
     "execution_count": 281,
     "metadata": {},
     "output_type": "execute_result"
    }
   ],
   "source": [
    "unmatched_results.value_counts()"
   ]
  },
  {
   "cell_type": "markdown",
   "metadata": {},
   "source": [
    "## Which communities in df_crime is unmatched?"
   ]
  },
  {
   "cell_type": "markdown",
   "metadata": {},
   "source": [
    "Just for record"
   ]
  },
  {
   "cell_type": "code",
   "execution_count": 282,
   "metadata": {},
   "outputs": [],
   "source": [
    "\n",
    "unmatched_in_crime_fuzz = df_crime[~df_crime['Community Name_cleaned'].isin(matched_results['community_cleaned_fuzz_one'])]['Community Name_cleaned'].unique()"
   ]
  },
  {
   "cell_type": "code",
   "execution_count": 283,
   "metadata": {},
   "outputs": [
    {
     "data": {
      "text/plain": [
       "array(['03w', '05d', '09o', '12a', '12j', 'alyth/bonnybrook',\n",
       "       'burns industrial', 'calgary international airport', 'chinatown',\n",
       "       'christie park', '05c', 'deerfoot business centre',\n",
       "       'downtown west end', 'eagle ridge', 'east fairview industrial',\n",
       "       'east shepard industrial', '03i', 'eastfield',\n",
       "       'fairview industrial', 'fish creek park', 'foothills',\n",
       "       'forest lawn industrial', 'franklin', 'glendeer business park',\n",
       "       'glenmore park', 'golden triangle', 'great plains',\n",
       "       'greenview industrial park', 'greenwood/greenbriar', 'highfield',\n",
       "       'horizon', 'manchester industrial', 'mayland', 'mccall',\n",
       "       'meridian', 'north airways', 'nose hill park', 'ogden shops',\n",
       "       'pegasus', '01k', '02e', '14v', '02a', '10a', '10c',\n",
       "       'scarboro/sunalta west', '01c', 'royal vista',\n",
       "       'saddle ridge industrial', 'section 23', 'shepard industrial',\n",
       "       'skyline east', 'skyline west', 'south airways', 'south foothills',\n",
       "       'starfield', 'stonegate landing', 'stoney 1', 'stoney 2',\n",
       "       'stoney 3', 'stoney 4', 'sunridge', 'university of calgary',\n",
       "       'upper mount royal', 'valleyfield', 'westwinds', '09h', '09q',\n",
       "       '10d', '10e', '13f', '13m', 'aurora business park',\n",
       "       'bonavista downs', 'chinook park', '05b', 'haskayne',\n",
       "       'north haven upper', 'queens park village', 'symons valley ranch',\n",
       "       '02c', '03s', 'cornerstone& 05f', 'canada olympic park', '02f',\n",
       "       '09k', '13g', 'mayfair', '01b', '06a', '12l', 'medicine hill',\n",
       "       'roxboro', '09p', '12b', 'scarboro/ sunalta west', '12c', '12k',\n",
       "       '02b', '01f', '03h', '02k', '05e', '03v', '10b', '01h', 'tnps',\n",
       "       '13b', '09q & belvedere', '13e', '13a', '02l', '05g', '01d',\n",
       "       'keystone hills', '05f', '12i', 'keystone hills & stoney 4'],\n",
       "      dtype=object)"
      ]
     },
     "execution_count": 283,
     "metadata": {},
     "output_type": "execute_result"
    }
   ],
   "source": [
    "unmatched_in_crime_fuzz"
   ]
  },
  {
   "cell_type": "markdown",
   "metadata": {},
   "source": [
    "# Transforming data"
   ]
  },
  {
   "cell_type": "code",
   "execution_count": 284,
   "metadata": {},
   "outputs": [
    {
     "data": {
      "text/html": [
       "<div>\n",
       "<style scoped>\n",
       "    .dataframe tbody tr th:only-of-type {\n",
       "        vertical-align: middle;\n",
       "    }\n",
       "\n",
       "    .dataframe tbody tr th {\n",
       "        vertical-align: top;\n",
       "    }\n",
       "\n",
       "    .dataframe thead th {\n",
       "        text-align: right;\n",
       "    }\n",
       "</style>\n",
       "<table border=\"1\" class=\"dataframe\">\n",
       "  <thead>\n",
       "    <tr style=\"text-align: right;\">\n",
       "      <th></th>\n",
       "      <th>Sector</th>\n",
       "      <th>Community Name</th>\n",
       "      <th>Category</th>\n",
       "      <th>Crime Count</th>\n",
       "      <th>Date</th>\n",
       "      <th>Year</th>\n",
       "      <th>Month</th>\n",
       "      <th>ID</th>\n",
       "      <th>Resident Count</th>\n",
       "      <th>Community Center Point</th>\n",
       "      <th>Community Name_cleaned</th>\n",
       "    </tr>\n",
       "  </thead>\n",
       "  <tbody>\n",
       "    <tr>\n",
       "      <th>0</th>\n",
       "      <td>NORTH</td>\n",
       "      <td>03W</td>\n",
       "      <td>Theft FROM Vehicle</td>\n",
       "      <td>1.0</td>\n",
       "      <td>2022/04</td>\n",
       "      <td>2022</td>\n",
       "      <td>APR</td>\n",
       "      <td>2022-APR-03W-Theft FROM Vehicle</td>\n",
       "      <td>NaN</td>\n",
       "      <td>POINT (-114.026242634091 51.197967711165)</td>\n",
       "      <td>03w</td>\n",
       "    </tr>\n",
       "    <tr>\n",
       "      <th>1</th>\n",
       "      <td>NORTHEAST</td>\n",
       "      <td>05D</td>\n",
       "      <td>Theft FROM Vehicle</td>\n",
       "      <td>1.0</td>\n",
       "      <td>2022/04</td>\n",
       "      <td>2022</td>\n",
       "      <td>APR</td>\n",
       "      <td>2022-APR-05D-Theft FROM Vehicle</td>\n",
       "      <td>NaN</td>\n",
       "      <td>POINT (-113.958660846149 51.179594126023)</td>\n",
       "      <td>05d</td>\n",
       "    </tr>\n",
       "    <tr>\n",
       "      <th>2</th>\n",
       "      <td>EAST</td>\n",
       "      <td>09O</td>\n",
       "      <td>Theft OF Vehicle</td>\n",
       "      <td>2.0</td>\n",
       "      <td>2022/04</td>\n",
       "      <td>2022</td>\n",
       "      <td>APR</td>\n",
       "      <td>2022-APR-09O-Theft OF Vehicle</td>\n",
       "      <td>NaN</td>\n",
       "      <td>POINT (-113.877106941343 51.052571080807)</td>\n",
       "      <td>09o</td>\n",
       "    </tr>\n",
       "    <tr>\n",
       "      <th>3</th>\n",
       "      <td>SOUTHEAST</td>\n",
       "      <td>12A</td>\n",
       "      <td>Break &amp; Enter - Commercial</td>\n",
       "      <td>3.0</td>\n",
       "      <td>2022/04</td>\n",
       "      <td>2022</td>\n",
       "      <td>APR</td>\n",
       "      <td>2022-APR-12A-Break &amp; Enter - Commercial</td>\n",
       "      <td>NaN</td>\n",
       "      <td>POINT (-113.893231521478 50.965056151113)</td>\n",
       "      <td>12a</td>\n",
       "    </tr>\n",
       "    <tr>\n",
       "      <th>4</th>\n",
       "      <td>SOUTHEAST</td>\n",
       "      <td>12A</td>\n",
       "      <td>Theft OF Vehicle</td>\n",
       "      <td>2.0</td>\n",
       "      <td>2022/04</td>\n",
       "      <td>2022</td>\n",
       "      <td>APR</td>\n",
       "      <td>2022-APR-12A-Theft OF Vehicle</td>\n",
       "      <td>NaN</td>\n",
       "      <td>POINT (-113.893231521478 50.965056151113)</td>\n",
       "      <td>12a</td>\n",
       "    </tr>\n",
       "  </tbody>\n",
       "</table>\n",
       "</div>"
      ],
      "text/plain": [
       "      Sector Community Name                    Category  Crime Count     Date  \\\n",
       "0      NORTH            03W          Theft FROM Vehicle          1.0  2022/04   \n",
       "1  NORTHEAST            05D          Theft FROM Vehicle          1.0  2022/04   \n",
       "2       EAST            09O            Theft OF Vehicle          2.0  2022/04   \n",
       "3  SOUTHEAST            12A  Break & Enter - Commercial          3.0  2022/04   \n",
       "4  SOUTHEAST            12A            Theft OF Vehicle          2.0  2022/04   \n",
       "\n",
       "   Year Month                                       ID  Resident Count  \\\n",
       "0  2022   APR          2022-APR-03W-Theft FROM Vehicle             NaN   \n",
       "1  2022   APR          2022-APR-05D-Theft FROM Vehicle             NaN   \n",
       "2  2022   APR            2022-APR-09O-Theft OF Vehicle             NaN   \n",
       "3  2022   APR  2022-APR-12A-Break & Enter - Commercial             NaN   \n",
       "4  2022   APR            2022-APR-12A-Theft OF Vehicle             NaN   \n",
       "\n",
       "                      Community Center Point Community Name_cleaned  \n",
       "0  POINT (-114.026242634091 51.197967711165)                    03w  \n",
       "1  POINT (-113.958660846149 51.179594126023)                    05d  \n",
       "2  POINT (-113.877106941343 51.052571080807)                    09o  \n",
       "3  POINT (-113.893231521478 50.965056151113)                    12a  \n",
       "4  POINT (-113.893231521478 50.965056151113)                    12a  "
      ]
     },
     "execution_count": 284,
     "metadata": {},
     "output_type": "execute_result"
    }
   ],
   "source": [
    "df_crime.head()"
   ]
  },
  {
   "cell_type": "code",
   "execution_count": 349,
   "metadata": {},
   "outputs": [
    {
     "data": {
      "text/plain": [
       "Index(['Sector', 'Community Name', 'Category', 'Crime Count', 'Date', 'Year',\n",
       "       'Month', 'ID', 'Resident Count', 'Community Center Point',\n",
       "       'Community Name_cleaned'],\n",
       "      dtype='object')"
      ]
     },
     "execution_count": 349,
     "metadata": {},
     "output_type": "execute_result"
    }
   ],
   "source": [
    "df_crime.columns"
   ]
  },
  {
   "cell_type": "code",
   "execution_count": 372,
   "metadata": {},
   "outputs": [],
   "source": [
    "df_agg = df_crime.groupby(by=['Sector','Community Name_cleaned'])['Crime Count'].sum().reset_index().copy()"
   ]
  },
  {
   "cell_type": "code",
   "execution_count": 373,
   "metadata": {},
   "outputs": [
    {
     "data": {
      "image/png": "[encoded data removed]",
      "text/plain": [
       "<Figure size 1000x400 with 1 Axes>"
      ]
     },
     "metadata": {},
     "output_type": "display_data"
    }
   ],
   "source": [
    "import seaborn as sns\n",
    "import matplotlib.pyplot as plt\n",
    "\n",
    "plt.figure(figsize=(10, 4)) # Adjust the figure size as needed\n",
    "sns.boxplot(x='Sector', y='Crime Count', data=df_agg, showfliers=False)\n",
    "plt.xticks(rotation=90) # Rotate the sector names\n",
    "plt.title('Boxplot of Crime Count by Sector (Outliers Excluded)')\n",
    "plt.show()"
   ]
  },
  {
   "cell_type": "markdown",
   "metadata": {},
   "source": [
    "Add a column called 'crime_pct' to showing the percentile of the crime count."
   ]
  },
  {
   "cell_type": "code",
   "execution_count": 374,
   "metadata": {},
   "outputs": [
    {
     "data": {
      "text/plain": [
       "0    0.821429\n",
       "1    0.607143\n",
       "2    0.844156\n",
       "3    0.905844\n",
       "4    0.201299\n",
       "Name: crime_pct, dtype: float64"
      ]
     },
     "execution_count": 374,
     "metadata": {},
     "output_type": "execute_result"
    }
   ],
   "source": [
    "df_agg['crime_pct'] = df_agg['Crime Count'].rank(pct=True,method = 'min')\n",
    "\n",
    "df_agg['crime_pct'].head()"
   ]
  },
  {
   "cell_type": "code",
   "execution_count": 375,
   "metadata": {},
   "outputs": [
    {
     "data": {
      "text/html": [
       "<div>\n",
       "<style scoped>\n",
       "    .dataframe tbody tr th:only-of-type {\n",
       "        vertical-align: middle;\n",
       "    }\n",
       "\n",
       "    .dataframe tbody tr th {\n",
       "        vertical-align: top;\n",
       "    }\n",
       "\n",
       "    .dataframe thead th {\n",
       "        text-align: right;\n",
       "    }\n",
       "</style>\n",
       "<table border=\"1\" class=\"dataframe\">\n",
       "  <thead>\n",
       "    <tr style=\"text-align: right;\">\n",
       "      <th></th>\n",
       "      <th>Sector</th>\n",
       "      <th>Community Name_cleaned</th>\n",
       "      <th>Crime Count</th>\n",
       "      <th>crime_pct</th>\n",
       "    </tr>\n",
       "  </thead>\n",
       "  <tbody>\n",
       "    <tr>\n",
       "      <th>5</th>\n",
       "      <td>CENTRE</td>\n",
       "      <td>beltline</td>\n",
       "      <td>11188.0</td>\n",
       "      <td>1.000000</td>\n",
       "    </tr>\n",
       "    <tr>\n",
       "      <th>14</th>\n",
       "      <td>CENTRE</td>\n",
       "      <td>downtown commercial core</td>\n",
       "      <td>8028.0</td>\n",
       "      <td>0.996753</td>\n",
       "    </tr>\n",
       "    <tr>\n",
       "      <th>77</th>\n",
       "      <td>EAST</td>\n",
       "      <td>forest lawn</td>\n",
       "      <td>3611.0</td>\n",
       "      <td>0.993506</td>\n",
       "    </tr>\n",
       "    <tr>\n",
       "      <th>175</th>\n",
       "      <td>NORTHWEST</td>\n",
       "      <td>bowness</td>\n",
       "      <td>2942.0</td>\n",
       "      <td>0.990260</td>\n",
       "    </tr>\n",
       "    <tr>\n",
       "      <th>33</th>\n",
       "      <td>CENTRE</td>\n",
       "      <td>manchester industrial</td>\n",
       "      <td>2650.0</td>\n",
       "      <td>0.987013</td>\n",
       "    </tr>\n",
       "    <tr>\n",
       "      <th>140</th>\n",
       "      <td>NORTHEAST</td>\n",
       "      <td>marlborough</td>\n",
       "      <td>2603.0</td>\n",
       "      <td>0.983766</td>\n",
       "    </tr>\n",
       "    <tr>\n",
       "      <th>150</th>\n",
       "      <td>NORTHEAST</td>\n",
       "      <td>pineridge</td>\n",
       "      <td>2516.0</td>\n",
       "      <td>0.980519</td>\n",
       "    </tr>\n",
       "    <tr>\n",
       "      <th>162</th>\n",
       "      <td>NORTHEAST</td>\n",
       "      <td>sunridge</td>\n",
       "      <td>2498.0</td>\n",
       "      <td>0.977273</td>\n",
       "    </tr>\n",
       "    <tr>\n",
       "      <th>72</th>\n",
       "      <td>EAST</td>\n",
       "      <td>dover</td>\n",
       "      <td>2485.0</td>\n",
       "      <td>0.974026</td>\n",
       "    </tr>\n",
       "    <tr>\n",
       "      <th>13</th>\n",
       "      <td>CENTRE</td>\n",
       "      <td>crescent heights</td>\n",
       "      <td>2478.0</td>\n",
       "      <td>0.970779</td>\n",
       "    </tr>\n",
       "  </tbody>\n",
       "</table>\n",
       "</div>"
      ],
      "text/plain": [
       "        Sector    Community Name_cleaned  Crime Count  crime_pct\n",
       "5       CENTRE                  beltline      11188.0   1.000000\n",
       "14      CENTRE  downtown commercial core       8028.0   0.996753\n",
       "77        EAST               forest lawn       3611.0   0.993506\n",
       "175  NORTHWEST                   bowness       2942.0   0.990260\n",
       "33      CENTRE     manchester industrial       2650.0   0.987013\n",
       "140  NORTHEAST               marlborough       2603.0   0.983766\n",
       "150  NORTHEAST                 pineridge       2516.0   0.980519\n",
       "162  NORTHEAST                  sunridge       2498.0   0.977273\n",
       "72        EAST                     dover       2485.0   0.974026\n",
       "13      CENTRE          crescent heights       2478.0   0.970779"
      ]
     },
     "execution_count": 375,
     "metadata": {},
     "output_type": "execute_result"
    }
   ],
   "source": [
    "df_agg.sort_values('crime_pct',ascending=False).head(10)"
   ]
  },
  {
   "cell_type": "code",
   "execution_count": 376,
   "metadata": {},
   "outputs": [
    {
     "data": {
      "text/plain": [
       "<Axes: xlabel='crime_pct', ylabel='Crime Count'>"
      ]
     },
     "execution_count": 376,
     "metadata": {},
     "output_type": "execute_result"
    },
    {
     "data": {
      "image/png": "[encoded data removed]",
      "text/plain": [
       "<Figure size 640x480 with 1 Axes>"
      ]
     },
     "metadata": {},
     "output_type": "display_data"
    }
   ],
   "source": [
    "sns.lineplot(x = 'crime_pct', y = 'Crime Count', data = df_agg)"
   ]
  },
  {
   "cell_type": "markdown",
   "metadata": {},
   "source": [
    "Update column names according to naming convention"
   ]
  },
  {
   "cell_type": "code",
   "execution_count": 379,
   "metadata": {},
   "outputs": [],
   "source": [
    "df_agg.columns = df_agg.columns.str.lower().str.replace(' ', '_')"
   ]
  },
  {
   "cell_type": "code",
   "execution_count": 389,
   "metadata": {},
   "outputs": [],
   "source": [
    "df_agg.rename(columns={'community_name_cleaned': 'community'},inplace=True)"
   ]
  },
  {
   "cell_type": "markdown",
   "metadata": {},
   "source": [
    "Add a new column called 'id' as PRIMARY KEY."
   ]
  },
  {
   "cell_type": "code",
   "execution_count": 391,
   "metadata": {},
   "outputs": [],
   "source": [
    "df_agg['id'] = range(1, len(df_agg) + 1)"
   ]
  },
  {
   "cell_type": "code",
   "execution_count": 397,
   "metadata": {},
   "outputs": [],
   "source": [
    "df_agg = df_agg.reindex(columns=['id', 'sector', 'community', 'crime_count', 'crime_pct'])"
   ]
  },
  {
   "cell_type": "code",
   "execution_count": 400,
   "metadata": {},
   "outputs": [
    {
     "name": "stdout",
     "output_type": "stream",
     "text": [
      "<class 'pandas.core.frame.DataFrame'>\n",
      "RangeIndex: 308 entries, 0 to 307\n",
      "Data columns (total 5 columns):\n",
      " #   Column       Non-Null Count  Dtype  \n",
      "---  ------       --------------  -----  \n",
      " 0   id           308 non-null    int64  \n",
      " 1   sector       308 non-null    object \n",
      " 2   community    308 non-null    object \n",
      " 3   crime_count  308 non-null    float64\n",
      " 4   crime_pct    308 non-null    float64\n",
      "dtypes: float64(2), int64(1), object(2)\n",
      "memory usage: 12.2+ KB\n"
     ]
    }
   ],
   "source": [
    "df_agg.info()"
   ]
  },
  {
   "cell_type": "markdown",
   "metadata": {},
   "source": [
    "# Loading into database"
   ]
  },
  {
   "cell_type": "code",
   "execution_count": 435,
   "metadata": {},
   "outputs": [],
   "source": [
    "\n",
    "conn = sqlite3.connect('../database.db')\n",
    "\n",
    "# Create a cursor\n",
    "cursor = conn.cursor()\n",
    "\n"
   ]
  },
  {
   "cell_type": "code",
   "execution_count": null,
   "metadata": {},
   "outputs": [],
   "source": [
    "\n",
    "'''\n",
    "# Create a new table with an auto-incrementing id\n",
    "cursor.execute(\"\"\"\n",
    "    CREATE TABLE crime (\n",
    "        id INTEGER PRIMARY KEY,\n",
    "        sector TEXT,\n",
    "        community TEXT,\n",
    "        crime_count REAL,\n",
    "        crime_pct REAL\n",
    "    )\n",
    "\"\"\")\n",
    "\n",
    "# Insert the data from the DataFrame into the table\n",
    "\n",
    "df_agg.to_sql('crime', conn, if_exists='append', index=False)\n",
    "'''"
   ]
  },
  {
   "cell_type": "markdown",
   "metadata": {},
   "source": [
    "Check if the table is correct."
   ]
  },
  {
   "cell_type": "code",
   "execution_count": 417,
   "metadata": {},
   "outputs": [
    {
     "data": {
      "text/plain": [
       "[(1, 'CENTRE', 'altadore', 1394.0, 0.8214285714285714),\n",
       " (2, 'CENTRE', 'alyth/bonnybrook', 663.0, 0.6071428571428571),\n",
       " (3, 'CENTRE', 'banff trail', 1477.0, 0.8441558441558441),\n",
       " (4, 'CENTRE', 'bankview', 1713.0, 0.9058441558441559),\n",
       " (5, 'CENTRE', 'bel-aire', 65.0, 0.2012987012987013),\n",
       " (6, 'CENTRE', 'beltline', 11188.0, 1.0),\n",
       " (7, 'CENTRE', 'bridgeland/riverside', 2359.0, 0.9675324675324676),\n",
       " (8, 'CENTRE', 'britannia', 150.0, 0.2792207792207792),\n",
       " (9, 'CENTRE', 'burns industrial', 470.0, 0.487012987012987),\n",
       " (10, 'CENTRE', 'cambrian heights', 346.0, 0.38311688311688313),\n",
       " (11, 'CENTRE', 'capitol hill', 1534.0, 0.8636363636363636),\n",
       " (12, 'CENTRE', 'chinatown', 514.0, 0.525974025974026),\n",
       " (13, 'CENTRE', 'cliff bungalow', 1028.0, 0.7305194805194806),\n",
       " (14, 'CENTRE', 'crescent heights', 2478.0, 0.9707792207792207),\n",
       " (15, 'CENTRE', 'downtown commercial core', 8028.0, 0.9967532467532467),\n",
       " (16, 'CENTRE', 'downtown east village', 1997.0, 0.9318181818181818),\n",
       " (17, 'CENTRE', 'downtown west end', 693.0, 0.6266233766233766),\n",
       " (18, 'CENTRE', 'eau claire', 630.0, 0.5876623376623377),\n",
       " (19, 'CENTRE', 'elbow park', 543.0, 0.5454545454545454),\n",
       " (20, 'CENTRE', 'elboya', 438.0, 0.4642857142857143),\n",
       " (21, 'CENTRE', 'erlton', 394.0, 0.4155844155844156),\n",
       " (22, 'CENTRE', 'garrison woods', 137.0, 0.2694805194805195),\n",
       " (23, 'CENTRE', 'greenview', 505.0, 0.5162337662337663),\n",
       " (24, 'CENTRE', 'greenview industrial park', 1034.0, 0.7337662337662337),\n",
       " (25, 'CENTRE', 'highfield', 895.0, 0.7077922077922078),\n",
       " (26, 'CENTRE', 'highland park', 1222.0, 0.788961038961039),\n",
       " (27, 'CENTRE', 'highwood', 593.0, 0.5551948051948052),\n",
       " (28, 'CENTRE', 'hillhurst', 2289.0, 0.9512987012987013),\n",
       " (29, 'CENTRE', 'hounsfield heights/briar hill', 1178.0, 0.7792207792207793),\n",
       " (30, 'CENTRE', 'inglewood', 1298.0, 0.8084415584415584),\n",
       " (31, 'CENTRE', 'killarney/glengarry', 1725.0, 0.9090909090909091),\n",
       " (32, 'CENTRE', 'lower mount royal', 1226.0, 0.7922077922077922),\n",
       " (33, 'CENTRE', 'manchester', 770.0, 0.6688311688311688),\n",
       " (34, 'CENTRE', 'manchester industrial', 2650.0, 0.987012987012987),\n",
       " (35, 'CENTRE', 'mayfair', 63.0, 0.19480519480519481),\n",
       " (36, 'CENTRE', 'meadowlark park', 1058.0, 0.737012987012987),\n",
       " (37, 'CENTRE', 'mission', 1535.0, 0.8701298701298701),\n",
       " (38, 'CENTRE', 'mount pleasant', 1662.0, 0.8961038961038961),\n",
       " (39, 'CENTRE', 'parkdale', 474.0, 0.4902597402597403),\n",
       " (40, 'CENTRE', 'parkhill', 599.0, 0.5616883116883117),\n",
       " (41, 'CENTRE', 'point mckay', 124.0, 0.25),\n",
       " (42, 'CENTRE', 'queens park village', 73.0, 0.21428571428571427),\n",
       " (43, 'CENTRE', 'ramsay', 510.0, 0.5194805194805194),\n",
       " (44, 'CENTRE', 'renfrew', 1840.0, 0.922077922077922),\n",
       " (45, 'CENTRE', 'richmond', 1161.0, 0.775974025974026),\n",
       " (46, 'CENTRE', 'rideau park', 127.0, 0.2532467532467532),\n",
       " (47, 'CENTRE', 'rosedale', 313.0, 0.36363636363636365),\n",
       " (48, 'CENTRE', 'rosemont', 209.0, 0.3051948051948052),\n",
       " (49, 'CENTRE', 'roxboro', 74.0, 0.21753246753246752),\n",
       " (50, 'CENTRE', 'scarboro', 222.0, 0.3116883116883117),\n",
       " (51, 'CENTRE', 'scarboro/ sunalta west', 67.0, 0.2077922077922078),\n",
       " (52, 'CENTRE', 'shaganappi', 498.0, 0.512987012987013),\n",
       " (53, 'CENTRE', 'south calgary', 1325.0, 0.814935064935065),\n",
       " (54, 'CENTRE', 'st. andrews heights', 681.0, 0.6168831168831169),\n",
       " (55, 'CENTRE', 'sunalta', 1598.0, 0.8831168831168831),\n",
       " (56, 'CENTRE', 'sunnyside', 1319.0, 0.8116883116883117),\n",
       " (57, 'CENTRE', 'tuxedo park', 1806.0, 0.9155844155844156),\n",
       " (58, 'CENTRE', 'upper mount royal', 512.0, 0.5227272727272727),\n",
       " (59, 'CENTRE', 'west hillhurst', 1435.0, 0.8409090909090909),\n",
       " (60, 'CENTRE', 'windsor park', 1210.0, 0.7824675324675324),\n",
       " (61, 'CENTRE', 'winston heights/mountview', 1148.0, 0.7694805194805194),\n",
       " (62, 'EAST', '09h', 7.0, 0.06493506493506493),\n",
       " (63, 'EAST', '09k', 31.0, 0.15584415584415584),\n",
       " (64, 'EAST', '09o', 69.0, 0.21103896103896103),\n",
       " (65, 'EAST', '09p', 13.0, 0.09090909090909091),\n",
       " (66, 'EAST', '09q', 34.0, 0.16558441558441558),\n",
       " (67, 'EAST', '10a', 19.0, 0.11688311688311688),\n",
       " (68, 'EAST', '10b', 3.0, 0.03571428571428571),\n",
       " (69, 'EAST', '10c', 7.0, 0.06493506493506493),\n",
       " (70, 'EAST', 'albert park/radisson heights', 2278.0, 0.948051948051948),\n",
       " (71, 'EAST', 'applewood park', 814.0, 0.6753246753246753),\n",
       " (72, 'EAST', 'belvedere', 127.0, 0.2532467532467532),\n",
       " (73, 'EAST', 'dover', 2485.0, 0.974025974025974),\n",
       " (74, 'EAST', 'eastfield', 288.0, 0.35064935064935066),\n",
       " (75, 'EAST', 'erin woods', 1210.0, 0.7824675324675324),\n",
       " (76, 'EAST', 'foothills', 1747.0, 0.9123376623376623),\n",
       " (77, 'EAST', 'forest heights', 1517.0, 0.8603896103896104),\n",
       " (78, 'EAST', 'forest lawn', 3611.0, 0.9935064935064936),\n",
       " (79, 'EAST', 'forest lawn industrial', 647.0, 0.5974025974025974),\n",
       " (80, 'EAST', 'golden triangle', 196.0, 0.29545454545454547),\n",
       " (81, 'EAST', 'great plains', 338.0, 0.37662337662337664),\n",
       " (82, 'EAST', 'ogden shops', 43.0, 0.17532467532467533),\n",
       " (83, 'EAST', 'penbrooke meadows', 1830.0, 0.9188311688311688),\n",
       " (84, 'EAST', 'red carpet', 295.0, 0.35714285714285715),\n",
       " (85, 'EAST', 'southview', 876.0, 0.7012987012987013),\n",
       " (86, 'EAST', 'starfield', 231.0, 0.31493506493506496),\n",
       " (87, 'EAST', 'valleyfield', 360.0, 0.38961038961038963),\n",
       " (88, 'NORTH', '02b', 4.0, 0.048701298701298704),\n",
       " (89, 'NORTH', '02c', 17.0, 0.1038961038961039),\n",
       " (90, 'NORTH', '02k', 44.0, 0.17857142857142858),\n",
       " (91, 'NORTH', '02l', 6.0, 0.05844155844155844),\n",
       " (92, 'NORTH', '03w', 26.0, 0.14935064935064934),\n",
       " (93, 'NORTH', 'ambleton', 5.0, 0.05519480519480519),\n",
       " (94, 'NORTH', 'aurora business park', 123.0, 0.2435064935064935),\n",
       " (95, 'NORTH', 'beddington heights', 1401.0, 0.827922077922078),\n",
       " (96, 'NORTH', 'carrington', 115.0, 0.23376623376623376),\n",
       " (97, 'NORTH', 'country hills', 367.0, 0.3961038961038961),\n",
       " (98, 'NORTH', 'country hills village', 681.0, 0.6168831168831169),\n",
       " (99, 'NORTH', 'coventry hills', 1252.0, 0.7987012987012987),\n",
       " (100, 'NORTH', 'evanston', 849.0, 0.6915584415584416),\n",
       " (101, 'NORTH', 'glacier ridge', 3.0, 0.03571428571428571),\n",
       " (102, 'NORTH', 'harvest hills', 817.0, 0.6785714285714286),\n",
       " (103, 'NORTH', 'hidden valley', 776.0, 0.672077922077922),\n",
       " (104, 'NORTH', 'huntington hills', 2295.0, 0.9545454545454546),\n",
       " (105, 'NORTH', 'keystone hills', 1.0, 0.003246753246753247),\n",
       " (106, 'NORTH', 'kincora', 430.0, 0.4577922077922078),\n",
       " (107, 'NORTH', 'livingston', 259.0, 0.3344155844155844),\n",
       " (108, 'NORTH', 'macewan glen', 338.0, 0.37662337662337664),\n",
       " (109, 'NORTH', 'nolan hill', 415.0, 0.42857142857142855),\n",
       " (110, 'NORTH', 'north haven', 276.0, 0.34415584415584416),\n",
       " (111, 'NORTH', 'north haven upper', 64.0, 0.19805194805194806),\n",
       " (112, 'NORTH', 'panorama hills', 1510.0, 0.8538961038961039),\n",
       " (113, 'NORTH', 'sage hill', 738.0, 0.6525974025974026),\n",
       " (114, 'NORTH', 'sandstone valley', 420.0, 0.4383116883116883),\n",
       " (115, 'NORTH', 'sherwood', 529.0, 0.5324675324675324),\n",
       " (116, 'NORTH', 'skyline west', 252.0, 0.32792207792207795),\n",
       " (117, 'NORTH', 'stoney 1', 206.0, 0.30194805194805197),\n",
       " (118, 'NORTH', 'symons valley ranch', 16.0, 0.09740259740259741),\n",
       " (119, 'NORTH', 'thorncliffe', 1647.0, 0.8896103896103896),\n",
       " (120, 'NORTHEAST', '03h', 3.0, 0.03571428571428571),\n",
       " (121, 'NORTHEAST', '03i', 8.0, 0.08116883116883117),\n",
       " (122, 'NORTHEAST', '03s', 1.0, 0.003246753246753247),\n",
       " (123, 'NORTHEAST', '05c', 6.0, 0.05844155844155844),\n",
       " (124, 'NORTHEAST', '05d', 19.0, 0.11688311688311688),\n",
       " (125, 'NORTHEAST', '05e', 1.0, 0.003246753246753247),\n",
       " (126, 'NORTHEAST', '05f', 1.0, 0.003246753246753247),\n",
       " (127, 'NORTHEAST', '05g', 2.0, 0.02922077922077922),\n",
       " (128, 'NORTHEAST', '10d', 12.0, 0.08766233766233766),\n",
       " (129, 'NORTHEAST', '10e', 85.0, 0.22077922077922077),\n",
       " (130, 'NORTHEAST', 'abbeydale', 817.0, 0.6785714285714286),\n",
       " (131, 'NORTHEAST', 'calgary international airport', 1077.0, 0.75),\n",
       " (132, 'NORTHEAST', 'castleridge', 1073.0, 0.7467532467532467),\n",
       " (133, 'NORTHEAST', 'cityscape', 295.0, 0.35714285714285715),\n",
       " (134, 'NORTHEAST', 'coral springs', 528.0, 0.5292207792207793),\n",
       " (135, 'NORTHEAST', 'cornerstone', 441.0, 0.4675324675324675),\n",
       " (136, 'NORTHEAST', 'deerfoot business centre', 360.0, 0.38961038961038963),\n",
       " (137, 'NORTHEAST', 'falconridge', 2322.0, 0.961038961038961),\n",
       " (138, 'NORTHEAST', 'franklin', 1259.0, 0.801948051948052),\n",
       " (139, 'NORTHEAST', 'homestead', 18.0, 0.11038961038961038),\n",
       " (140, 'NORTHEAST', 'horizon', 1395.0, 0.8246753246753247),\n",
       " (141, 'NORTHEAST', 'marlborough', 2603.0, 0.9837662337662337),\n",
       " (142, 'NORTHEAST', 'marlborough park', 1706.0, 0.9025974025974026),\n",
       " (143, 'NORTHEAST', 'martindale', 2162.0, 0.9415584415584416),\n",
       " (144, 'NORTHEAST', 'mayland', 415.0, 0.42857142857142855),\n",
       " (145, 'NORTHEAST', 'mayland heights', 1537.0, 0.8733766233766234),\n",
       " (146, 'NORTHEAST', 'mccall', 541.0, 0.538961038961039),\n",
       " (147, 'NORTHEAST', 'meridian', 1017.0, 0.724025974025974),\n",
       " (148, 'NORTHEAST', 'monterey park', 1064.0, 0.7435064935064936),\n",
       " (149, 'NORTHEAST', 'north airways', 630.0, 0.5876623376623377),\n",
       " (150, 'NORTHEAST', 'pegasus', 155.0, 0.2824675324675325),\n",
       " (151, 'NORTHEAST', 'pineridge', 2516.0, 0.9805194805194806),\n",
       " (152, 'NORTHEAST', 'redstone', 474.0, 0.4902597402597403),\n",
       " (153, 'NORTHEAST', 'rundle', 2315.0, 0.9577922077922078),\n",
       " (154, 'NORTHEAST', 'saddle ridge', 2334.0, 0.9642857142857143),\n",
       " (155, 'NORTHEAST', 'saddle ridge industrial', 323.0, 0.36688311688311687),\n",
       " (156, 'NORTHEAST', 'skyline east', 136.0, 0.2662337662337662),\n",
       " (157, 'NORTHEAST', 'skyview ranch', 1425.0, 0.8376623376623377),\n",
       " (158, 'NORTHEAST', 'south airways', 1147.0, 0.762987012987013),\n",
       " (159, 'NORTHEAST', 'stonegate landing', 145.0, 0.275974025974026),\n",
       " (160, 'NORTHEAST', 'stoney 2', 764.0, 0.6623376623376623),\n",
       " (161, 'NORTHEAST', 'stoney 3', 203.0, 0.2987012987012987),\n",
       " (162, 'NORTHEAST', 'stoney 4', 111.0, 0.2305194805194805),\n",
       " (163, 'NORTHEAST', 'sunridge', 2498.0, 0.9772727272727273),\n",
       " (164, 'NORTHEAST', 'taradale', 1849.0, 0.9253246753246753),\n",
       " (165, 'NORTHEAST', 'temple', 2001.0, 0.935064935064935),\n",
       " (166, 'NORTHEAST', 'vista heights', 694.0, 0.6331168831168831),\n",
       " (167, 'NORTHEAST', 'westwinds', 1245.0, 0.7954545454545454),\n",
       " (168, 'NORTHEAST', 'whitehorn', 1986.0, 0.9285714285714286),\n",
       " (169, 'NORTHWEST', '01b', 27.0, 0.1525974025974026),\n",
       " (170, 'NORTHWEST', '01f', 16.0, 0.09740259740259741),\n",
       " (171, 'NORTHWEST', '01k', 50.0, 0.18181818181818182),\n",
       " (172, 'NORTHWEST', '02a', 3.0, 0.03571428571428571),\n",
       " (173, 'NORTHWEST', '02e', 486.0, 0.5032467532467533),\n",
       " (174, 'NORTHWEST', '02f', 25.0, 0.1396103896103896),\n",
       " (175, 'NORTHWEST', 'arbour lake', 1508.0, 0.8506493506493507),\n",
       " (176, 'NORTHWEST', 'bowness', 2942.0, 0.9902597402597403),\n",
       " (177, 'NORTHWEST', 'brentwood', 1611.0, 0.8863636363636364),\n",
       " (178, 'NORTHWEST', 'charleswood', 474.0, 0.4902597402597403),\n",
       " (179, 'NORTHWEST', 'citadel', 480.0, 0.5),\n",
       " (180, 'NORTHWEST', 'collingwood', 410.0, 0.42207792207792205),\n",
       " (181, 'NORTHWEST', 'dalhousie', 1153.0, 0.7727272727272727),\n",
       " (182, 'NORTHWEST', 'edgemont', 1013.0, 0.7207792207792207),\n",
       " (183, 'NORTHWEST', 'greenwood/greenbriar', 110.0, 0.22727272727272727),\n",
       " (184, 'NORTHWEST', 'hamptons', 353.0, 0.38636363636363635),\n",
       " (185, 'NORTHWEST', 'haskayne', 21.0, 0.13636363636363635),\n",
       " (186, 'NORTHWEST', 'hawkwood', 579.0, 0.551948051948052),\n",
       " (187, 'NORTHWEST', 'montgomery', 1657.0, 0.8928571428571429),\n",
       " (188, 'NORTHWEST', 'nose hill park', 244.0, 0.3246753246753247),\n",
       " (189, 'NORTHWEST', 'ranchlands', 694.0, 0.6331168831168831),\n",
       " (190, 'NORTHWEST', 'rocky ridge', 420.0, 0.4383116883116883),\n",
       " (191, 'NORTHWEST', 'royal oak', 666.0, 0.6103896103896104),\n",
       " (192, 'NORTHWEST', 'royal vista', 188.0, 0.2922077922077922),\n",
       " (193, 'NORTHWEST', 'scenic acres', 619.0, 0.5844155844155844),\n",
       " (194, 'NORTHWEST', 'silver springs', 840.0, 0.6883116883116883),\n",
       " (195, 'NORTHWEST', 'tuscany', 1059.0, 0.7402597402597403),\n",
       " (196, 'NORTHWEST', 'university district', 163.0, 0.2857142857142857),\n",
       " (197, 'NORTHWEST', 'university heights', 497.0, 0.5097402597402597),\n",
       " (198, 'NORTHWEST', 'university of calgary', 447.0, 0.474025974025974),\n",
       " (199, 'NORTHWEST', 'varsity', 2131.0, 0.9383116883116883),\n",
       " (200, 'SOUTH', '13a', 2.0, 0.02922077922077922),\n",
       " (201, 'SOUTH', '13b', 1.0, 0.003246753246753247),\n",
       " (202, 'SOUTH', '13e', 1.0, 0.003246753246753247),\n",
       " (203, 'SOUTH', '13f', 25.0, 0.1396103896103896),\n",
       " (204, 'SOUTH', '13g', 18.0, 0.11038961038961038),\n",
       " (205, 'SOUTH', '13m', 7.0, 0.06493506493506493),\n",
       " (206, 'SOUTH', '14v', 4.0, 0.048701298701298704),\n",
       " (207, 'SOUTH', 'acadia', 2204.0, 0.9448051948051948),\n",
       " (208, 'SOUTH', 'alpine park', 7.0, 0.06493506493506493),\n",
       " (209, 'SOUTH', 'bayview', 121.0, 0.237012987012987),\n",
       " (210, 'SOUTH', 'belmont', 33.0, 0.16233766233766234),\n",
       " (211, 'SOUTH', 'bonavista downs', 61.0, 0.18506493506493507),\n",
       " (212, 'SOUTH', 'braeside', 615.0, 0.577922077922078),\n",
       " (213, 'SOUTH', 'bridlewood', 675.0, 0.6136363636363636),\n",
       " (214, 'SOUTH', 'canyon meadows', 1003.0, 0.7175324675324676),\n",
       " (215, 'SOUTH', 'cedarbrae', 542.0, 0.5422077922077922),\n",
       " (216, 'SOUTH', 'chaparral', 693.0, 0.6266233766233766),\n",
       " (217, 'SOUTH', 'chinook park', 231.0, 0.31493506493506496),\n",
       " (218, 'SOUTH', 'deer ridge', 458.0, 0.4837662337662338),\n",
       " (219, 'SOUTH', 'deer run', 331.0, 0.37012987012987014),\n",
       " (220, 'SOUTH', 'diamond cove', 62.0, 0.19155844155844157),\n",
       " (221, 'SOUTH', 'eagle ridge', 287.0, 0.3474025974025974),\n",
       " (222, 'SOUTH', 'east fairview industrial', 548.0, 0.5487012987012987),\n",
       " (223, 'SOUTH', 'evergreen', 916.0, 0.711038961038961),\n",
       " (224, 'SOUTH', 'fairview', 769.0, 0.6655844155844156),\n",
       " (225, 'SOUTH', 'fairview industrial', 718.0, 0.6461038961038961),\n",
       " (226, 'SOUTH', 'fish creek park', 140.0, 0.2727272727272727),\n",
       " (227, 'SOUTH', 'glendeer business park', 61.0, 0.18506493506493507),\n",
       " (228, 'SOUTH', 'glenmore park', 233.0, 0.32142857142857145),\n",
       " (229, 'SOUTH', 'haysboro', 1674.0, 0.8993506493506493),\n",
       " (230, 'SOUTH', 'kelvin grove', 413.0, 0.4253246753246753),\n",
       " (231, 'SOUTH', 'kingsland', 1512.0, 0.8571428571428571),\n",
       " (232, 'SOUTH', 'lake bonavista', 1413.0, 0.8344155844155844),\n",
       " (233, 'SOUTH', 'legacy', 532.0, 0.5357142857142857),\n",
       " (234, 'SOUTH', 'maple ridge', 258.0, 0.33116883116883117),\n",
       " (235, 'SOUTH', 'midnapore', 826.0, 0.685064935064935),\n",
       " (236, 'SOUTH', 'millrise', 603.0, 0.564935064935065),\n",
       " (237, 'SOUTH', 'oakridge', 496.0, 0.5064935064935064),\n",
       " (238, 'SOUTH', 'palliser', 396.0, 0.41883116883116883),\n",
       " (239, 'SOUTH', 'parkland', 260.0, 0.33766233766233766),\n",
       " (240, 'SOUTH', 'pine creek', 37.0, 0.17207792207792208),\n",
       " (241, 'SOUTH', 'pump hill', 176.0, 0.288961038961039),\n",
       " (242, 'SOUTH', 'queensland', 436.0, 0.461038961038961),\n",
       " (243, 'SOUTH', 'shawnee slopes', 331.0, 0.37012987012987014),\n",
       " (244, 'SOUTH', 'shawnessy', 1479.0, 0.8474025974025974),\n",
       " (245, 'SOUTH', 'silverado', 444.0, 0.4707792207792208),\n",
       " (246, 'SOUTH', 'somerset', 702.0, 0.6396103896103896),\n",
       " (247, 'SOUTH', 'southwood', 1564.0, 0.8798701298701299),\n",
       " (248, 'SOUTH', 'sundance', 651.0, 0.6006493506493507),\n",
       " (249, 'SOUTH', 'walden', 421.0, 0.44805194805194803),\n",
       " (250, 'SOUTH', 'willow park', 1291.0, 0.8051948051948052),\n",
       " (251, 'SOUTH', 'wolf willow', 19.0, 0.11688311688311688),\n",
       " (252, 'SOUTH', 'woodbine', 655.0, 0.6038961038961039),\n",
       " (253, 'SOUTH', 'woodlands', 722.0, 0.6493506493506493),\n",
       " (254, 'SOUTH', 'yorkville', 25.0, 0.1396103896103896),\n",
       " (255, 'SOUTHEAST', '12a', 383.0, 0.40584415584415584),\n",
       " (256, 'SOUTHEAST', '12b', 31.0, 0.15584415584415584),\n",
       " (257, 'SOUTHEAST', '12c', 20.0, 0.1266233766233766),\n",
       " (258, 'SOUTHEAST', '12i', 1.0, 0.003246753246753247),\n",
       " (259, 'SOUTHEAST', '12j', 89.0, 0.22402597402597402),\n",
       " (260, 'SOUTHEAST', '12k', 1.0, 0.003246753246753247),\n",
       " (261, 'SOUTHEAST', '12l', 20.0, 0.1266233766233766),\n",
       " (262, 'SOUTHEAST', 'auburn bay', 1147.0, 0.762987012987013),\n",
       " (263, 'SOUTHEAST', 'copperfield', 849.0, 0.6915584415584416),\n",
       " (264, 'SOUTHEAST', 'cranston', 1129.0, 0.7532467532467533),\n",
       " (265, 'SOUTHEAST', 'douglasdale/glen', 1137.0, 0.7564935064935064),\n",
       " (266, 'SOUTHEAST', 'east shepard industrial', 1138.0, 0.7597402597402597),\n",
       " (267, 'SOUTHEAST', 'hotchkiss', 10.0, 0.08441558441558442),\n",
       " (268, 'SOUTHEAST', 'mahogany', 738.0, 0.6525974025974026),\n",
       " (269, 'SOUTHEAST', 'mckenzie lake', 876.0, 0.7012987012987013),\n",
       " (270, 'SOUTHEAST', 'mckenzie towne', 1547.0, 0.8766233766233766),\n",
       " (271, 'SOUTHEAST', 'new brighton', 738.0, 0.6525974025974026),\n",
       " (272, 'SOUTHEAST', 'ogden', 1534.0, 0.8636363636363636),\n",
       " (273, 'SOUTHEAST', 'rangeview', 17.0, 0.1038961038961039),\n",
       " (274, 'SOUTHEAST', 'riverbend', 854.0, 0.698051948051948),\n",
       " (275, 'SOUTHEAST', 'section 23', 128.0, 0.2597402597402597),\n",
       " (276, 'SOUTHEAST', 'seton', 617.0, 0.5811688311688312),\n",
       " (277, 'SOUTHEAST', 'shepard industrial', 606.0, 0.5714285714285714),\n",
       " (278, 'SOUTHEAST', 'south foothills', 390.0, 0.41233766233766234),\n",
       " (279, 'WEST', '01c', 36.0, 0.16883116883116883),\n",
       " (280, 'WEST', '01h', 7.0, 0.06493506493506493),\n",
       " (281, 'WEST', '06a', 15.0, 0.09415584415584416),\n",
       " (282, 'WEST', 'aspen woods', 646.0, 0.5941558441558441),\n",
       " (283, 'WEST', 'canada olympic park', 66.0, 0.20454545454545456),\n",
       " (284, 'WEST', 'christie park', 218.0, 0.30844155844155846),\n",
       " (285, 'WEST', 'coach hill', 275.0, 0.3409090909090909),\n",
       " (286, 'WEST', 'cougar ridge', 419.0, 0.43506493506493504),\n",
       " (287, 'WEST', 'crestmont', 129.0, 0.262987012987013),\n",
       " (288, 'WEST', 'currie barracks', 123.0, 0.2435064935064935),\n",
       " (289, 'WEST', 'discovery ridge', 290.0, 0.3538961038961039),\n",
       " (290, 'WEST', 'garrison green', 121.0, 0.237012987012987),\n",
       " (291, 'WEST', 'glamorgan', 965.0, 0.7142857142857143),\n",
       " (292, 'WEST', 'glenbrook', 1026.0, 0.7272727272727273),\n",
       " (293, 'WEST', 'glendale', 613.0, 0.5746753246753247),\n",
       " (294, 'WEST', 'lakeview', 594.0, 0.5584415584415584),\n",
       " (295, 'WEST', 'lincoln park', 448.0, 0.4772727272727273),\n",
       " (296, 'WEST', 'medicine hill', 20.0, 0.1266233766233766),\n",
       " (297, 'WEST', 'north glenmore park', 423.0, 0.4512987012987013),\n",
       " (298, 'WEST', 'patterson', 429.0, 0.45454545454545453),\n",
       " (299, 'WEST', 'rosscarrock', 1338.0, 0.8181818181818182),\n",
       " (300, 'WEST', 'rutland park', 378.0, 0.4025974025974026),\n",
       " (301, 'WEST', 'signal hill', 1412.0, 0.8311688311688312),\n",
       " (302, 'WEST', 'springbank hill', 682.0, 0.6233766233766234),\n",
       " (303, 'WEST', 'spruce cliff', 605.0, 0.5681818181818182),\n",
       " (304, 'WEST', 'strathcona park', 457.0, 0.4805194805194805),\n",
       " (305, 'WEST', 'valley ridge', 389.0, 0.4090909090909091),\n",
       " (306, 'WEST', 'west springs', 708.0, 0.6428571428571429),\n",
       " (307, 'WEST', 'westgate', 377.0, 0.39935064935064934),\n",
       " (308, 'WEST', 'wildwood', 420.0, 0.4383116883116883)]"
      ]
     },
     "execution_count": 417,
     "metadata": {},
     "output_type": "execute_result"
    }
   ],
   "source": [
    "res = cursor.execute(\"SELECT * from crime\")\n",
    "res.fetchall()\n"
   ]
  },
  {
   "cell_type": "markdown",
   "metadata": {},
   "source": [
    "## Create a relationship table between rental_listings and crime."
   ]
  },
  {
   "cell_type": "code",
   "execution_count": 427,
   "metadata": {},
   "outputs": [],
   "source": [
    "def fuzzy_match(name,names_array):\n",
    "    best_match = process.extractOne(name, names_array, score_cutoff=90)\n",
    "    return best_match[0] if best_match else None\n",
    "\n",
    "# Clean the community names in df_listings\n",
    "df_listings['community_clean'] = df_listings['community'].str.lower().str.strip()\n",
    "\n",
    "# Create an empty DataFrame for df_listing_with_crime\n",
    "df_listing_with_crime = pd.DataFrame(columns=['id', 'listing_id', 'crime_id'])\n",
    "\n",
    "# Initialize a list to collect new rows\n",
    "new_rows = []\n",
    "\n",
    "# Iterate through df_listings using itertuples for better performance\n",
    "for listing in df_listings.itertuples():\n",
    "    matched_community = fuzzy_match(listing.community_clean,df_agg['community'].unique())\n",
    "    if matched_community:\n",
    "        # Find the crime_id from df_agg where the community matches the fuzzy matched community\n",
    "        crime_id = df_agg[df_agg['community'] == matched_community]['id'].iloc[0]\n",
    "        # Append a new row to the list\n",
    "        new_rows.append({'listing_id': listing.id, 'crime_id': crime_id})\n",
    "\n",
    "# Create a DataFrame from the list of new rows\n",
    "df_listing_with_crime = pd.DataFrame(new_rows)\n",
    "\n",
    "# Create a new 'id' column that starts with 1 and increments for each row\n",
    "df_listing_with_crime.insert(0, 'id', range(1, 1 + len(df_listing_with_crime)))"
   ]
  },
  {
   "cell_type": "code",
   "execution_count": 430,
   "metadata": {},
   "outputs": [
    {
     "name": "stdout",
     "output_type": "stream",
     "text": [
      "<class 'pandas.core.frame.DataFrame'>\n",
      "RangeIndex: 9188 entries, 0 to 9187\n",
      "Data columns (total 3 columns):\n",
      " #   Column      Non-Null Count  Dtype\n",
      "---  ------      --------------  -----\n",
      " 0   id          9188 non-null   int64\n",
      " 1   listing_id  9188 non-null   int64\n",
      " 2   crime_id    9188 non-null   int64\n",
      "dtypes: int64(3)\n",
      "memory usage: 215.5 KB\n"
     ]
    }
   ],
   "source": [
    "df_listing_with_crime.info()"
   ]
  },
  {
   "cell_type": "code",
   "execution_count": 434,
   "metadata": {},
   "outputs": [
    {
     "data": {
      "text/html": [
       "<div>\n",
       "<style scoped>\n",
       "    .dataframe tbody tr th:only-of-type {\n",
       "        vertical-align: middle;\n",
       "    }\n",
       "\n",
       "    .dataframe tbody tr th {\n",
       "        vertical-align: top;\n",
       "    }\n",
       "\n",
       "    .dataframe thead th {\n",
       "        text-align: right;\n",
       "    }\n",
       "</style>\n",
       "<table border=\"1\" class=\"dataframe\">\n",
       "  <thead>\n",
       "    <tr style=\"text-align: right;\">\n",
       "      <th></th>\n",
       "      <th>id</th>\n",
       "      <th>listing_id</th>\n",
       "      <th>crime_id</th>\n",
       "    </tr>\n",
       "  </thead>\n",
       "  <tbody>\n",
       "    <tr>\n",
       "      <th>0</th>\n",
       "      <td>1</td>\n",
       "      <td>1613</td>\n",
       "      <td>213</td>\n",
       "    </tr>\n",
       "    <tr>\n",
       "      <th>1</th>\n",
       "      <td>2</td>\n",
       "      <td>2256</td>\n",
       "      <td>48</td>\n",
       "    </tr>\n",
       "    <tr>\n",
       "      <th>2</th>\n",
       "      <td>3</td>\n",
       "      <td>3744</td>\n",
       "      <td>184</td>\n",
       "    </tr>\n",
       "  </tbody>\n",
       "</table>\n",
       "</div>"
      ],
      "text/plain": [
       "   id  listing_id  crime_id\n",
       "0   1        1613       213\n",
       "1   2        2256        48\n",
       "2   3        3744       184"
      ]
     },
     "execution_count": 434,
     "metadata": {},
     "output_type": "execute_result"
    }
   ],
   "source": [
    "df_listing_with_crime.head(3)"
   ]
  },
  {
   "cell_type": "markdown",
   "metadata": {},
   "source": [
    "Now create a new table for linking 'rental_listings' and 'crime'."
   ]
  },
  {
   "cell_type": "code",
   "execution_count": null,
   "metadata": {},
   "outputs": [
    {
     "data": {
      "text/plain": [
       "<sqlite3.Cursor at 0x20157fd27c0>"
      ]
     },
     "metadata": {},
     "output_type": "display_data"
    }
   ],
   "source": [
    "'''cursor.execute(\"\"\"\n",
    "    CREATE TABLE IF NOT EXISTS listing_with_crime (\n",
    "        id INTEGER PRIMARY KEY,\n",
    "        listing_id INTEGER,\n",
    "        crime_id INTEGER,\n",
    "        FOREIGN KEY(listing_id) REFERENCES rental_listings (id)\n",
    "        FOREIGN KEY(crime_id) REFERENCES crime(id)\n",
    "        )\n",
    "\"\"\")'''"
   ]
  },
  {
   "cell_type": "code",
   "execution_count": 436,
   "metadata": {},
   "outputs": [
    {
     "data": {
      "text/plain": [
       "9188"
      ]
     },
     "execution_count": 436,
     "metadata": {},
     "output_type": "execute_result"
    }
   ],
   "source": [
    "df_listing_with_crime.to_sql('listing_with_crime', conn, if_exists='append', index=False)"
   ]
  },
  {
   "cell_type": "code",
   "execution_count": null,
   "metadata": {},
   "outputs": [],
   "source": [
    "conn.commit()"
   ]
  },
  {
   "cell_type": "code",
   "execution_count": 439,
   "metadata": {},
   "outputs": [],
   "source": [
    "conn.close()"
   ]
  }
 ],
 "metadata": {
  "kernelspec": {
   "display_name": "py310",
   "language": "python",
   "name": "python3"
  },
  "language_info": {
   "codemirror_mode": {
    "name": "ipython",
    "version": 3
   },
   "file_extension": ".py",
   "mimetype": "text/x-python",
   "name": "python",
   "nbconvert_exporter": "python",
   "pygments_lexer": "ipython3",
   "version": "3.10.13"
  }
 },
 "nbformat": 4,
 "nbformat_minor": 2
}
