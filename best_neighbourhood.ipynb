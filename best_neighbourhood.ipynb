{
 "cells": [
  {
   "cell_type": "markdown",
   "metadata": {},
   "source": [
    "# Objective\n",
    "\n",
    "Finding the best rental listings in Calgary.\n",
    "\n",
    "Criteria:\n",
    "\n",
    "(1): Affordable price (<= 2000 CAD)\n",
    "(2): Within the catchment areas of good elementary schools (school rating >= 7)\n",
    "(3): Low crime rate (below 50th percentile of historic crime count)"
   ]
  },
  {
   "cell_type": "code",
   "execution_count": 6,
   "metadata": {},
   "outputs": [],
   "source": [
    "import sqlite3\n",
    "import pandas as pd\n",
    "import numpy as np\n",
    "import re"
   ]
  },
  {
   "cell_type": "markdown",
   "metadata": {},
   "source": [
    "### Collecting The Data"
   ]
  },
  {
   "cell_type": "code",
   "execution_count": 40,
   "metadata": {},
   "outputs": [],
   "source": [
    "conn = sqlite3.connect('database.db')\n",
    "\n",
    "df_report = pd.read_sql_query('''\n",
    "                              SELECT\n",
    "    rl.community,\n",
    "    rl.\"type\",\n",
    "    rl.beds,\n",
    "    rl.sq_feet, \n",
    "    rl.price,\n",
    "    rl.baths,\n",
    "    rl.cats,\n",
    "    rl.dogs,\n",
    "    rl.utilities_included,\n",
    "    rl.latitude,\n",
    "    rl.longitude,\n",
    "    c.crime_count,\n",
    "    ROUND(c.crime_pct, 2) AS crime_percentile,\n",
    "    (SELECT s.name FROM schools s\n",
    "        JOIN school_ranking sr ON sr.school_id = s.school_id\n",
    "        WHERE sr.school_id = swwz.school_id\n",
    "        ORDER BY sr.school_rating DESC\n",
    "        LIMIT 1) AS highest_rated_school_name,\n",
    "    MAX(sr.school_rating) AS highest_school_rating,    \n",
    "    CASE \n",
    "        WHEN sl.school_id IS NOT NULL THEN 'Required'\n",
    "        ELSE 'Not Required'\n",
    "    END AS lottery_requirement\n",
    "    \n",
    "FROM\n",
    "    rental_listings rl\n",
    "    INNER JOIN schools_within_walk_zone swwz ON swwz.listing_id = rl.id\n",
    "    INNER JOIN listing_with_crime lwc ON lwc.listing_id = rl.id\n",
    "    INNER JOIN crime c ON c.id = lwc.crime_id\n",
    "    INNER JOIN schools s ON s.school_id = swwz.school_id\n",
    "    INNER JOIN school_ranking sr ON sr.school_id = s.school_id\n",
    "    LEFT JOIN school_lottery sl ON sl.school_id = s.school_id \n",
    "GROUP BY\n",
    "    rl.id\n",
    "ORDER BY\n",
    "    highest_school_rating DESC,\n",
    "    price ASC\n",
    "                              ''',conn)\n",
    "\n",
    "conn.close()"
   ]
  },
  {
   "cell_type": "markdown",
   "metadata": {},
   "source": [
    "### Data Transform and Load"
   ]
  },
  {
   "cell_type": "markdown",
   "metadata": {},
   "source": [
    "#### Basic Analysis (Descriptive)"
   ]
  },
  {
   "cell_type": "code",
   "execution_count": 41,
   "metadata": {},
   "outputs": [],
   "source": [
    "conn = sqlite3.connect('database.db')\n",
    "\n",
    "df_listing = pd.read_sql_query('''\n",
    "                            SELECT community,\n",
    "                                  \"type\",\n",
    "                                  beds,\n",
    "                                  sq_feet, \n",
    "                                  price,\n",
    "                                  baths,\n",
    "                                  cats,\n",
    "                                  dogs,\n",
    "                                  utilities_included,\n",
    "                                  latitude,\n",
    "                                  longitude \n",
    "                            FROM\n",
    "                            rental_listings\n",
    "                              ''',conn)\n",
    "\n",
    "conn.close()"
   ]
  },
  {
   "cell_type": "code",
   "execution_count": 42,
   "metadata": {},
   "outputs": [
    {
     "name": "stdout",
     "output_type": "stream",
     "text": [
      "<class 'pandas.core.frame.DataFrame'>\n",
      "RangeIndex: 3718 entries, 0 to 3717\n",
      "Data columns (total 11 columns):\n",
      " #   Column              Non-Null Count  Dtype  \n",
      "---  ------              --------------  -----  \n",
      " 0   community           3718 non-null   object \n",
      " 1   type                3718 non-null   object \n",
      " 2   beds                3675 non-null   object \n",
      " 3   sq_feet             3675 non-null   object \n",
      " 4   price               3718 non-null   object \n",
      " 5   baths               3675 non-null   object \n",
      " 6   cats                3675 non-null   float64\n",
      " 7   dogs                3675 non-null   float64\n",
      " 8   utilities_included  3718 non-null   object \n",
      " 9   latitude            3718 non-null   float64\n",
      " 10  longitude           3718 non-null   float64\n",
      "dtypes: float64(4), object(7)\n",
      "memory usage: 319.6+ KB\n"
     ]
    }
   ],
   "source": [
    "df_listing.info()"
   ]
  },
  {
   "cell_type": "code",
   "execution_count": 43,
   "metadata": {},
   "outputs": [
    {
     "data": {
      "text/html": [
       "<div>\n",
       "<style scoped>\n",
       "    .dataframe tbody tr th:only-of-type {\n",
       "        vertical-align: middle;\n",
       "    }\n",
       "\n",
       "    .dataframe tbody tr th {\n",
       "        vertical-align: top;\n",
       "    }\n",
       "\n",
       "    .dataframe thead th {\n",
       "        text-align: right;\n",
       "    }\n",
       "</style>\n",
       "<table border=\"1\" class=\"dataframe\">\n",
       "  <thead>\n",
       "    <tr style=\"text-align: right;\">\n",
       "      <th></th>\n",
       "      <th>community</th>\n",
       "      <th>type</th>\n",
       "      <th>beds</th>\n",
       "      <th>sq_feet</th>\n",
       "      <th>price</th>\n",
       "      <th>baths</th>\n",
       "      <th>cats</th>\n",
       "      <th>dogs</th>\n",
       "      <th>utilities_included</th>\n",
       "      <th>latitude</th>\n",
       "      <th>longitude</th>\n",
       "    </tr>\n",
       "  </thead>\n",
       "  <tbody>\n",
       "    <tr>\n",
       "      <th>0</th>\n",
       "      <td>Eau Claire</td>\n",
       "      <td>Condo Unit</td>\n",
       "      <td>1</td>\n",
       "      <td>600</td>\n",
       "      <td>1900</td>\n",
       "      <td>1</td>\n",
       "      <td>0.0</td>\n",
       "      <td>0.0</td>\n",
       "      <td>[\"Heat\", \"Electricity\", \"Water\", \"Cable\", \"Int...</td>\n",
       "      <td>51.050855</td>\n",
       "      <td>-114.077663</td>\n",
       "    </tr>\n",
       "    <tr>\n",
       "      <th>1</th>\n",
       "      <td>Hamptons</td>\n",
       "      <td>Townhouse</td>\n",
       "      <td>3</td>\n",
       "      <td>1700</td>\n",
       "      <td>2350</td>\n",
       "      <td>2.5</td>\n",
       "      <td>0.0</td>\n",
       "      <td>0.0</td>\n",
       "      <td>[\"See Full Description\", \"\"]</td>\n",
       "      <td>51.145227</td>\n",
       "      <td>-114.142047</td>\n",
       "    </tr>\n",
       "    <tr>\n",
       "      <th>2</th>\n",
       "      <td>Huntington Hills</td>\n",
       "      <td>Room For Rent</td>\n",
       "      <td>1</td>\n",
       "      <td></td>\n",
       "      <td>750</td>\n",
       "      <td>1</td>\n",
       "      <td>0.0</td>\n",
       "      <td>0.0</td>\n",
       "      <td>[\"Heat\", \"Electricity\", \"Water\", \"Cable\", \"\"]</td>\n",
       "      <td>51.123184</td>\n",
       "      <td>-114.058484</td>\n",
       "    </tr>\n",
       "  </tbody>\n",
       "</table>\n",
       "</div>"
      ],
      "text/plain": [
       "          community           type beds sq_feet price baths  cats  dogs  \\\n",
       "0        Eau Claire     Condo Unit    1     600  1900     1   0.0   0.0   \n",
       "1          Hamptons      Townhouse    3    1700  2350   2.5   0.0   0.0   \n",
       "2  Huntington Hills  Room For Rent    1           750     1   0.0   0.0   \n",
       "\n",
       "                                  utilities_included   latitude   longitude  \n",
       "0  [\"Heat\", \"Electricity\", \"Water\", \"Cable\", \"Int...  51.050855 -114.077663  \n",
       "1                       [\"See Full Description\", \"\"]  51.145227 -114.142047  \n",
       "2      [\"Heat\", \"Electricity\", \"Water\", \"Cable\", \"\"]  51.123184 -114.058484  "
      ]
     },
     "execution_count": 43,
     "metadata": {},
     "output_type": "execute_result"
    }
   ],
   "source": [
    "df_listing.head(3)"
   ]
  },
  {
   "cell_type": "markdown",
   "metadata": {},
   "source": [
    "apply value_counts(dropna=False) to examine the data in each column:"
   ]
  },
  {
   "cell_type": "code",
   "execution_count": 44,
   "metadata": {},
   "outputs": [
    {
     "data": {
      "text/plain": [
       "cats  dogs\n",
       "0.0   0.0     2303\n",
       "2.0   2.0     1059\n",
       "      0.0      167\n",
       "0.0   2.0      146\n",
       "NaN   NaN       43\n",
       "Name: count, dtype: int64"
      ]
     },
     "execution_count": 44,
     "metadata": {},
     "output_type": "execute_result"
    }
   ],
   "source": [
    "df_listing[['cats','dogs']].value_counts(dropna=False)"
   ]
  },
  {
   "cell_type": "markdown",
   "metadata": {},
   "source": [
    "##### clean['baths'] column:"
   ]
  },
  {
   "cell_type": "code",
   "execution_count": 45,
   "metadata": {},
   "outputs": [
    {
     "data": {
      "text/plain": [
       "baths\n",
       "1       1793\n",
       "2.5      723\n",
       "2        624\n",
       "1.5      186\n",
       "3.5      177\n",
       "3        120\n",
       "4         26\n",
       "4.5       19\n",
       "5          5\n",
       "None       1\n",
       "7.5        1\n",
       "Name: count, dtype: int64"
      ]
     },
     "execution_count": 45,
     "metadata": {},
     "output_type": "execute_result"
    }
   ],
   "source": [
    "df_listing['baths'].value_counts()"
   ]
  },
  {
   "cell_type": "code",
   "execution_count": 46,
   "metadata": {},
   "outputs": [],
   "source": [
    "# Replace \"None\" with NaN\n",
    "df_listing['baths'] = df_listing['baths'].replace('None', np.nan)\n",
    "\n",
    "# Convert the column to float\n",
    "df_listing['baths'] = df_listing['baths'].astype(float)\n"
   ]
  },
  {
   "cell_type": "code",
   "execution_count": 47,
   "metadata": {},
   "outputs": [
    {
     "data": {
      "text/plain": [
       "baths\n",
       "1.0    1793\n",
       "2.5     723\n",
       "2.0     624\n",
       "1.5     186\n",
       "3.5     177\n",
       "3.0     120\n",
       "4.0      26\n",
       "4.5      19\n",
       "5.0       5\n",
       "7.5       1\n",
       "Name: count, dtype: int64"
      ]
     },
     "execution_count": 47,
     "metadata": {},
     "output_type": "execute_result"
    }
   ],
   "source": [
    "df_listing['baths'].value_counts()"
   ]
  },
  {
   "cell_type": "markdown",
   "metadata": {},
   "source": [
    "##### clean ['beds'] column:\n",
    "\n",
    "it contains mixed data types. I need to convert all string before string manipulation, then converted back to int. The '+den\" information will be stored in a new column."
   ]
  },
  {
   "cell_type": "code",
   "execution_count": 48,
   "metadata": {},
   "outputs": [
    {
     "data": {
      "text/plain": [
       "beds\n",
       "2         1130\n",
       "1          844\n",
       "3          763\n",
       "4          238\n",
       "3+den      230\n",
       "2+den      151\n",
       "1+den      121\n",
       "4+den       75\n",
       "studio      46\n",
       "5           46\n",
       "5+den       20\n",
       "6           10\n",
       "7+den        1\n",
       "Name: count, dtype: int64"
      ]
     },
     "execution_count": 48,
     "metadata": {},
     "output_type": "execute_result"
    }
   ],
   "source": [
    "df_listing['beds'].value_counts()"
   ]
  },
  {
   "cell_type": "code",
   "execution_count": 49,
   "metadata": {},
   "outputs": [],
   "source": [
    "def clean_beds(df):\n",
    "    \"\"\"\n",
    "    Cleans the 'beds' column in a DataFrame by converting it to integers and adding a 'has_den' boolean column.\n",
    "    \n",
    "    This function updates the 'beds' column by converting all entries to integers, with 'studio' and 'None' being treated as 0.\n",
    "    A new boolean column 'has_den' is added to indicate whether the original entry included a '+den'.\n",
    "    \n",
    "    Parameters:\n",
    "    df (pd.DataFrame): The DataFrame with the 'beds' column to clean.\n",
    "    \n",
    "    Returns:\n",
    "    pd.DataFrame: The DataFrame with the cleaned 'beds' column and the new 'has_den' column.\n",
    "    \"\"\"\n",
    "    # Create 'has_den' column based on the presence of '+den' in the 'beds' column\n",
    "    df['has_den'] = df['beds'].astype(str).str.contains('+den', regex=False)\n",
    "    \n",
    "    # Convert all 'beds' values to strings, then replace '+den' with '' and 'studio' with '0'\n",
    "    df['beds'] = df['beds'].astype(str).replace({r'\\+den': '', 'studio': '0', 'None': '0'}, regex=True)\n",
    "    \n",
    "    # Convert the 'beds' column to integer\n",
    "    df['beds'] = pd.to_numeric(df['beds'], errors='coerce', downcast='integer')\n",
    "    \n",
    "    return df"
   ]
  },
  {
   "cell_type": "code",
   "execution_count": 50,
   "metadata": {},
   "outputs": [
    {
     "data": {
      "text/plain": [
       "beds\n",
       "2    1281\n",
       "3     993\n",
       "1     965\n",
       "4     313\n",
       "0      89\n",
       "5      66\n",
       "6      10\n",
       "7       1\n",
       "Name: count, dtype: int64"
      ]
     },
     "execution_count": 50,
     "metadata": {},
     "output_type": "execute_result"
    }
   ],
   "source": [
    "clean_beds(df_listing).beds.value_counts()"
   ]
  },
  {
   "cell_type": "markdown",
   "metadata": {},
   "source": [
    "##### clean 'sq_feet' column"
   ]
  },
  {
   "cell_type": "code",
   "execution_count": 51,
   "metadata": {},
   "outputs": [
    {
     "data": {
      "text/plain": [
       "sq_feet\n",
       "<class 'int'>         2686\n",
       "<class 'str'>          973\n",
       "<class 'NoneType'>      43\n",
       "<class 'float'>         16\n",
       "Name: count, dtype: int64"
      ]
     },
     "execution_count": 51,
     "metadata": {},
     "output_type": "execute_result"
    }
   ],
   "source": [
    "df_listing['sq_feet'].apply(type).value_counts()"
   ]
  },
  {
   "cell_type": "code",
   "execution_count": 52,
   "metadata": {},
   "outputs": [],
   "source": [
    "# Function to clean and extract square footage from various data types\n",
    "def clean_sq_feet(value):\n",
    "    \"\"\"\n",
    "    Cleans the square feet data by handling integers, floats, NoneType, and strings differently.\n",
    "    NaN is set for NoneType and empty strings. Floats are rounded to the nearest integer.\n",
    "    Strings are processed using extract_square_feet function to extract numeric value.\n",
    "    \n",
    "    Parameters:\n",
    "    value: The data value to be cleaned.\n",
    "    \n",
    "    Returns:\n",
    "    int or NaN: The cleaned square feet as an integer or NaN.\n",
    "    \"\"\"\n",
    "    # If the value is None (NoneType), return NaN\n",
    "    if value is None:\n",
    "        return np.nan\n",
    "    \n",
    "    # If the value is an integer, return it as it is\n",
    "    elif isinstance(value, int):\n",
    "        return value\n",
    "    \n",
    "    # If the value is a float, round it to the nearest integer\n",
    "    elif isinstance(value, float):\n",
    "        return round(value)\n",
    "    \n",
    "    # If the value is a string, use the extract_square_feet function\n",
    "    elif isinstance(value, str):\n",
    "        # If the string is empty, return NaN\n",
    "        if value.strip() == '':\n",
    "            return np.nan\n",
    "        else:\n",
    "            return extract_square_feet(value)\n",
    "    \n",
    "    # If the value is of any other type, return NaN\n",
    "    else:\n",
    "        return np.nan\n",
    "\n",
    "# Function to clean and extract square footage from strings\n",
    "def extract_square_feet(value):\n",
    "    # Regular expression to find the first number in the string with VERBOSE mode for commenting\n",
    "    pattern = re.compile(r\"\"\"\n",
    "        \\d+              # Match one or more digits\n",
    "        \\s*              # Match any whitespace characters (zero or more)\n",
    "        (?:              # Non-capturing group for the following:\n",
    "            sq           # Match 'sq'\n",
    "            (?:uare)?    # Optionally match 'uare' for 'square'\n",
    "            \\.?          # Optionally match a literal '.' for abbreviation\n",
    "            \\s*ft        # Match ' ft' with optional space before 'ft'\n",
    "            \\.?          # Optionally match a literal '.' for abbreviation\n",
    "        |                # OR\n",
    "            sf           # Match 'sf' for square feet\n",
    "        |                # OR\n",
    "            ft²          # Match 'ft²' for square feet in square notation\n",
    "        |                # OR\n",
    "            sqft         # Match 'sqft' for square feet\n",
    "        )?               # Make the entire group optional\n",
    "        \"\"\", re.VERBOSE)\n",
    "\n",
    "    # Remove commas for consistency\n",
    "    value = value.lower().replace(',', '')\n",
    "\n",
    "    # Search for the pattern in the cleaned string\n",
    "    match = pattern.search(value)\n",
    "    \n",
    "    if match:\n",
    "        # Extract the number and remove any non-numeric characters\n",
    "        square_feet = re.sub(r'[^\\d]', '', match.group())\n",
    "        try:\n",
    "            # Convert to integer\n",
    "            return int(square_feet)\n",
    "        except ValueError:\n",
    "            # If conversion fails, return NaN\n",
    "            return np.nan\n",
    "    else:\n",
    "        # If no number found or if it's a complex description, return NaN\n",
    "        return np.nan\n"
   ]
  },
  {
   "cell_type": "code",
   "execution_count": 53,
   "metadata": {},
   "outputs": [],
   "source": [
    "df_listing['sq_feet'] = df_listing['sq_feet'].apply(clean_sq_feet).astype('Int64')"
   ]
  },
  {
   "cell_type": "code",
   "execution_count": 54,
   "metadata": {},
   "outputs": [
    {
     "data": {
      "text/html": [
       "<div>\n",
       "<style scoped>\n",
       "    .dataframe tbody tr th:only-of-type {\n",
       "        vertical-align: middle;\n",
       "    }\n",
       "\n",
       "    .dataframe tbody tr th {\n",
       "        vertical-align: top;\n",
       "    }\n",
       "\n",
       "    .dataframe thead th {\n",
       "        text-align: right;\n",
       "    }\n",
       "</style>\n",
       "<table border=\"1\" class=\"dataframe\">\n",
       "  <thead>\n",
       "    <tr style=\"text-align: right;\">\n",
       "      <th></th>\n",
       "      <th>community</th>\n",
       "      <th>type</th>\n",
       "      <th>beds</th>\n",
       "      <th>sq_feet</th>\n",
       "      <th>price</th>\n",
       "      <th>baths</th>\n",
       "      <th>cats</th>\n",
       "      <th>dogs</th>\n",
       "      <th>utilities_included</th>\n",
       "      <th>latitude</th>\n",
       "      <th>longitude</th>\n",
       "      <th>has_den</th>\n",
       "    </tr>\n",
       "  </thead>\n",
       "  <tbody>\n",
       "    <tr>\n",
       "      <th>0</th>\n",
       "      <td>Eau Claire</td>\n",
       "      <td>Condo Unit</td>\n",
       "      <td>1</td>\n",
       "      <td>600</td>\n",
       "      <td>1900</td>\n",
       "      <td>1.0</td>\n",
       "      <td>0.0</td>\n",
       "      <td>0.0</td>\n",
       "      <td>[\"Heat\", \"Electricity\", \"Water\", \"Cable\", \"Int...</td>\n",
       "      <td>51.050855</td>\n",
       "      <td>-114.077663</td>\n",
       "      <td>False</td>\n",
       "    </tr>\n",
       "    <tr>\n",
       "      <th>1</th>\n",
       "      <td>Hamptons</td>\n",
       "      <td>Townhouse</td>\n",
       "      <td>3</td>\n",
       "      <td>1700</td>\n",
       "      <td>2350</td>\n",
       "      <td>2.5</td>\n",
       "      <td>0.0</td>\n",
       "      <td>0.0</td>\n",
       "      <td>[\"See Full Description\", \"\"]</td>\n",
       "      <td>51.145227</td>\n",
       "      <td>-114.142047</td>\n",
       "      <td>False</td>\n",
       "    </tr>\n",
       "    <tr>\n",
       "      <th>2</th>\n",
       "      <td>Huntington Hills</td>\n",
       "      <td>Room For Rent</td>\n",
       "      <td>1</td>\n",
       "      <td>&lt;NA&gt;</td>\n",
       "      <td>750</td>\n",
       "      <td>1.0</td>\n",
       "      <td>0.0</td>\n",
       "      <td>0.0</td>\n",
       "      <td>[\"Heat\", \"Electricity\", \"Water\", \"Cable\", \"\"]</td>\n",
       "      <td>51.123184</td>\n",
       "      <td>-114.058484</td>\n",
       "      <td>False</td>\n",
       "    </tr>\n",
       "    <tr>\n",
       "      <th>3</th>\n",
       "      <td>Evergreen</td>\n",
       "      <td>Townhouse</td>\n",
       "      <td>3</td>\n",
       "      <td>1200</td>\n",
       "      <td>2050</td>\n",
       "      <td>1.5</td>\n",
       "      <td>2.0</td>\n",
       "      <td>0.0</td>\n",
       "      <td>[\"\"]</td>\n",
       "      <td>50.912098</td>\n",
       "      <td>-114.105428</td>\n",
       "      <td>False</td>\n",
       "    </tr>\n",
       "    <tr>\n",
       "      <th>4</th>\n",
       "      <td>Scarboro</td>\n",
       "      <td>Basement</td>\n",
       "      <td>0</td>\n",
       "      <td>600</td>\n",
       "      <td>1200</td>\n",
       "      <td>1.0</td>\n",
       "      <td>0.0</td>\n",
       "      <td>0.0</td>\n",
       "      <td>[\"Electricity\", \"Water\", \"Cable\", \" \", \"Heat\",...</td>\n",
       "      <td>51.040318</td>\n",
       "      <td>-114.112280</td>\n",
       "      <td>False</td>\n",
       "    </tr>\n",
       "    <tr>\n",
       "      <th>...</th>\n",
       "      <td>...</td>\n",
       "      <td>...</td>\n",
       "      <td>...</td>\n",
       "      <td>...</td>\n",
       "      <td>...</td>\n",
       "      <td>...</td>\n",
       "      <td>...</td>\n",
       "      <td>...</td>\n",
       "      <td>...</td>\n",
       "      <td>...</td>\n",
       "      <td>...</td>\n",
       "      <td>...</td>\n",
       "    </tr>\n",
       "    <tr>\n",
       "      <th>3713</th>\n",
       "      <td>Copperfield</td>\n",
       "      <td>House</td>\n",
       "      <td>4</td>\n",
       "      <td>1866</td>\n",
       "      <td>2950</td>\n",
       "      <td>3.5</td>\n",
       "      <td>0.0</td>\n",
       "      <td>0.0</td>\n",
       "      <td>[\"\"]</td>\n",
       "      <td>50.909535</td>\n",
       "      <td>-113.936320</td>\n",
       "      <td>False</td>\n",
       "    </tr>\n",
       "    <tr>\n",
       "      <th>3714</th>\n",
       "      <td>Highland Park</td>\n",
       "      <td>Main Floor</td>\n",
       "      <td>2</td>\n",
       "      <td>1000</td>\n",
       "      <td>1700</td>\n",
       "      <td>1.0</td>\n",
       "      <td>0.0</td>\n",
       "      <td>0.0</td>\n",
       "      <td>[\"\"]</td>\n",
       "      <td>51.083453</td>\n",
       "      <td>-114.055931</td>\n",
       "      <td>True</td>\n",
       "    </tr>\n",
       "    <tr>\n",
       "      <th>3715</th>\n",
       "      <td>Mission</td>\n",
       "      <td>Condo Unit</td>\n",
       "      <td>1</td>\n",
       "      <td>809</td>\n",
       "      <td>2350</td>\n",
       "      <td>1.0</td>\n",
       "      <td>0.0</td>\n",
       "      <td>0.0</td>\n",
       "      <td>[\"Heat\", \"Cable\", \"Electricity\", \"Internet\", \"...</td>\n",
       "      <td>51.037200</td>\n",
       "      <td>-114.064131</td>\n",
       "      <td>False</td>\n",
       "    </tr>\n",
       "    <tr>\n",
       "      <th>3716</th>\n",
       "      <td>Livingston</td>\n",
       "      <td>Townhouse</td>\n",
       "      <td>3</td>\n",
       "      <td>1300</td>\n",
       "      <td>2300</td>\n",
       "      <td>1.5</td>\n",
       "      <td>2.0</td>\n",
       "      <td>2.0</td>\n",
       "      <td>[\"\"]</td>\n",
       "      <td>51.186828</td>\n",
       "      <td>-114.049578</td>\n",
       "      <td>False</td>\n",
       "    </tr>\n",
       "    <tr>\n",
       "      <th>3717</th>\n",
       "      <td>Altadore</td>\n",
       "      <td>Duplex</td>\n",
       "      <td>4</td>\n",
       "      <td>&lt;NA&gt;</td>\n",
       "      <td>4095</td>\n",
       "      <td>4.5</td>\n",
       "      <td>0.0</td>\n",
       "      <td>2.0</td>\n",
       "      <td>[\"\"]</td>\n",
       "      <td>51.017179</td>\n",
       "      <td>-114.103098</td>\n",
       "      <td>False</td>\n",
       "    </tr>\n",
       "  </tbody>\n",
       "</table>\n",
       "<p>3718 rows × 12 columns</p>\n",
       "</div>"
      ],
      "text/plain": [
       "             community           type  beds  sq_feet price  baths  cats  dogs  \\\n",
       "0           Eau Claire     Condo Unit     1      600  1900    1.0   0.0   0.0   \n",
       "1             Hamptons      Townhouse     3     1700  2350    2.5   0.0   0.0   \n",
       "2     Huntington Hills  Room For Rent     1     <NA>   750    1.0   0.0   0.0   \n",
       "3            Evergreen      Townhouse     3     1200  2050    1.5   2.0   0.0   \n",
       "4             Scarboro       Basement     0      600  1200    1.0   0.0   0.0   \n",
       "...                ...            ...   ...      ...   ...    ...   ...   ...   \n",
       "3713       Copperfield          House     4     1866  2950    3.5   0.0   0.0   \n",
       "3714     Highland Park     Main Floor     2     1000  1700    1.0   0.0   0.0   \n",
       "3715           Mission     Condo Unit     1      809  2350    1.0   0.0   0.0   \n",
       "3716        Livingston      Townhouse     3     1300  2300    1.5   2.0   2.0   \n",
       "3717          Altadore         Duplex     4     <NA>  4095    4.5   0.0   2.0   \n",
       "\n",
       "                                     utilities_included   latitude  \\\n",
       "0     [\"Heat\", \"Electricity\", \"Water\", \"Cable\", \"Int...  51.050855   \n",
       "1                          [\"See Full Description\", \"\"]  51.145227   \n",
       "2         [\"Heat\", \"Electricity\", \"Water\", \"Cable\", \"\"]  51.123184   \n",
       "3                                                  [\"\"]  50.912098   \n",
       "4     [\"Electricity\", \"Water\", \"Cable\", \" \", \"Heat\",...  51.040318   \n",
       "...                                                 ...        ...   \n",
       "3713                                               [\"\"]  50.909535   \n",
       "3714                                               [\"\"]  51.083453   \n",
       "3715  [\"Heat\", \"Cable\", \"Electricity\", \"Internet\", \"...  51.037200   \n",
       "3716                                               [\"\"]  51.186828   \n",
       "3717                                               [\"\"]  51.017179   \n",
       "\n",
       "       longitude  has_den  \n",
       "0    -114.077663    False  \n",
       "1    -114.142047    False  \n",
       "2    -114.058484    False  \n",
       "3    -114.105428    False  \n",
       "4    -114.112280    False  \n",
       "...          ...      ...  \n",
       "3713 -113.936320    False  \n",
       "3714 -114.055931     True  \n",
       "3715 -114.064131    False  \n",
       "3716 -114.049578    False  \n",
       "3717 -114.103098    False  \n",
       "\n",
       "[3718 rows x 12 columns]"
      ]
     },
     "execution_count": 54,
     "metadata": {},
     "output_type": "execute_result"
    }
   ],
   "source": [
    "df_listing"
   ]
  },
  {
   "cell_type": "markdown",
   "metadata": {},
   "source": [
    "##### Clean ['cat'] and ['dogs'] columns. \n",
    "\n",
    "They are either 2 or 0 or Null.  So make them as boolean columns instead. "
   ]
  },
  {
   "cell_type": "code",
   "execution_count": 55,
   "metadata": {},
   "outputs": [
    {
     "data": {
      "text/plain": [
       "cats  dogs\n",
       "0.0   0.0     2303\n",
       "2.0   2.0     1059\n",
       "      0.0      167\n",
       "0.0   2.0      146\n",
       "NaN   NaN       43\n",
       "Name: count, dtype: int64"
      ]
     },
     "execution_count": 55,
     "metadata": {},
     "output_type": "execute_result"
    }
   ],
   "source": [
    "df_listing[['cats','dogs']].value_counts(dropna=False)"
   ]
  },
  {
   "cell_type": "code",
   "execution_count": 56,
   "metadata": {},
   "outputs": [],
   "source": [
    "\n",
    "def clean_pet(value):\n",
    "    # Check if the value is NaN or 0.0 and return False, otherwise return True\n",
    "    return not (pd.isna(value) or value == 0.0)\n"
   ]
  },
  {
   "cell_type": "code",
   "execution_count": 57,
   "metadata": {},
   "outputs": [],
   "source": [
    "df_listing['cats'] = df_listing['cats'].apply(clean_pet)\n",
    "df_listing['dogs'] = df_listing['dogs'].apply(clean_pet)"
   ]
  },
  {
   "cell_type": "code",
   "execution_count": 58,
   "metadata": {},
   "outputs": [
    {
     "data": {
      "text/html": [
       "<div>\n",
       "<style scoped>\n",
       "    .dataframe tbody tr th:only-of-type {\n",
       "        vertical-align: middle;\n",
       "    }\n",
       "\n",
       "    .dataframe tbody tr th {\n",
       "        vertical-align: top;\n",
       "    }\n",
       "\n",
       "    .dataframe thead th {\n",
       "        text-align: right;\n",
       "    }\n",
       "</style>\n",
       "<table border=\"1\" class=\"dataframe\">\n",
       "  <thead>\n",
       "    <tr style=\"text-align: right;\">\n",
       "      <th></th>\n",
       "      <th>community</th>\n",
       "      <th>type</th>\n",
       "      <th>beds</th>\n",
       "      <th>sq_feet</th>\n",
       "      <th>price</th>\n",
       "      <th>baths</th>\n",
       "      <th>cats</th>\n",
       "      <th>dogs</th>\n",
       "      <th>utilities_included</th>\n",
       "      <th>latitude</th>\n",
       "      <th>longitude</th>\n",
       "      <th>has_den</th>\n",
       "    </tr>\n",
       "  </thead>\n",
       "  <tbody>\n",
       "    <tr>\n",
       "      <th>0</th>\n",
       "      <td>Eau Claire</td>\n",
       "      <td>Condo Unit</td>\n",
       "      <td>1</td>\n",
       "      <td>600</td>\n",
       "      <td>1900</td>\n",
       "      <td>1.0</td>\n",
       "      <td>False</td>\n",
       "      <td>False</td>\n",
       "      <td>[\"Heat\", \"Electricity\", \"Water\", \"Cable\", \"Int...</td>\n",
       "      <td>51.050855</td>\n",
       "      <td>-114.077663</td>\n",
       "      <td>False</td>\n",
       "    </tr>\n",
       "    <tr>\n",
       "      <th>1</th>\n",
       "      <td>Hamptons</td>\n",
       "      <td>Townhouse</td>\n",
       "      <td>3</td>\n",
       "      <td>1700</td>\n",
       "      <td>2350</td>\n",
       "      <td>2.5</td>\n",
       "      <td>False</td>\n",
       "      <td>False</td>\n",
       "      <td>[\"See Full Description\", \"\"]</td>\n",
       "      <td>51.145227</td>\n",
       "      <td>-114.142047</td>\n",
       "      <td>False</td>\n",
       "    </tr>\n",
       "    <tr>\n",
       "      <th>2</th>\n",
       "      <td>Huntington Hills</td>\n",
       "      <td>Room For Rent</td>\n",
       "      <td>1</td>\n",
       "      <td>&lt;NA&gt;</td>\n",
       "      <td>750</td>\n",
       "      <td>1.0</td>\n",
       "      <td>False</td>\n",
       "      <td>False</td>\n",
       "      <td>[\"Heat\", \"Electricity\", \"Water\", \"Cable\", \"\"]</td>\n",
       "      <td>51.123184</td>\n",
       "      <td>-114.058484</td>\n",
       "      <td>False</td>\n",
       "    </tr>\n",
       "    <tr>\n",
       "      <th>3</th>\n",
       "      <td>Evergreen</td>\n",
       "      <td>Townhouse</td>\n",
       "      <td>3</td>\n",
       "      <td>1200</td>\n",
       "      <td>2050</td>\n",
       "      <td>1.5</td>\n",
       "      <td>True</td>\n",
       "      <td>False</td>\n",
       "      <td>[\"\"]</td>\n",
       "      <td>50.912098</td>\n",
       "      <td>-114.105428</td>\n",
       "      <td>False</td>\n",
       "    </tr>\n",
       "    <tr>\n",
       "      <th>4</th>\n",
       "      <td>Scarboro</td>\n",
       "      <td>Basement</td>\n",
       "      <td>0</td>\n",
       "      <td>600</td>\n",
       "      <td>1200</td>\n",
       "      <td>1.0</td>\n",
       "      <td>False</td>\n",
       "      <td>False</td>\n",
       "      <td>[\"Electricity\", \"Water\", \"Cable\", \" \", \"Heat\",...</td>\n",
       "      <td>51.040318</td>\n",
       "      <td>-114.112280</td>\n",
       "      <td>False</td>\n",
       "    </tr>\n",
       "  </tbody>\n",
       "</table>\n",
       "</div>"
      ],
      "text/plain": [
       "          community           type  beds  sq_feet price  baths   cats   dogs  \\\n",
       "0        Eau Claire     Condo Unit     1      600  1900    1.0  False  False   \n",
       "1          Hamptons      Townhouse     3     1700  2350    2.5  False  False   \n",
       "2  Huntington Hills  Room For Rent     1     <NA>   750    1.0  False  False   \n",
       "3         Evergreen      Townhouse     3     1200  2050    1.5   True  False   \n",
       "4          Scarboro       Basement     0      600  1200    1.0  False  False   \n",
       "\n",
       "                                  utilities_included   latitude   longitude  \\\n",
       "0  [\"Heat\", \"Electricity\", \"Water\", \"Cable\", \"Int...  51.050855 -114.077663   \n",
       "1                       [\"See Full Description\", \"\"]  51.145227 -114.142047   \n",
       "2      [\"Heat\", \"Electricity\", \"Water\", \"Cable\", \"\"]  51.123184 -114.058484   \n",
       "3                                               [\"\"]  50.912098 -114.105428   \n",
       "4  [\"Electricity\", \"Water\", \"Cable\", \" \", \"Heat\",...  51.040318 -114.112280   \n",
       "\n",
       "   has_den  \n",
       "0    False  \n",
       "1    False  \n",
       "2    False  \n",
       "3    False  \n",
       "4    False  "
      ]
     },
     "execution_count": 58,
     "metadata": {},
     "output_type": "execute_result"
    }
   ],
   "source": [
    "df_listing.head()"
   ]
  },
  {
   "cell_type": "markdown",
   "metadata": {},
   "source": [
    "#### Drop ['utilities_included'] column"
   ]
  },
  {
   "cell_type": "code",
   "execution_count": 59,
   "metadata": {},
   "outputs": [
    {
     "data": {
      "text/plain": [
       "utilities_included\n",
       "[\"\"]                                                                             0.386767\n",
       "[\"Heat\", \"Water\"]                                                                0.137708\n",
       "[\"See Full Description\"]                                                         0.090371\n",
       "[\"Heat\", \"Electricity\", \"Water\"]                                                 0.038999\n",
       "[\"Heat\", \"Electricity\", \"Water\", \"Internet\"]                                     0.035772\n",
       "                                                                                   ...   \n",
       "[\"Heat\", \"Cable\", \"Water\", \"Internet\", \"Electricity\"]                            0.000269\n",
       "[\"Water\", \"See Full Description\", \"Electricity\", \"Heat\", \"Internet\"]             0.000269\n",
       "[\"Heat\", \"Cable\", \"Electricity\", \"Water\", \"Internet\", \"See Full Description\"]    0.000269\n",
       "[\"Internet\", \"Water\", \"Electricity\", \"Heat\", \"Cable\"]                            0.000269\n",
       "[\"Heat\", \"Internet\", \"Water\", \"See Full Description\"]                            0.000269\n",
       "Name: proportion, Length: 238, dtype: float64"
      ]
     },
     "execution_count": 59,
     "metadata": {},
     "output_type": "execute_result"
    }
   ],
   "source": [
    "df_listing['utilities_included'].value_counts(normalize=True)"
   ]
  },
  {
   "cell_type": "markdown",
   "metadata": {},
   "source": [
    "38.7% of data is empty string, 9% is \"See Full Description\". Looking at the rest of the data, many list also has an item called \"See Full Description\". Given such large proportion of missing data, I will simply drop the column. "
   ]
  },
  {
   "cell_type": "code",
   "execution_count": 60,
   "metadata": {},
   "outputs": [],
   "source": [
    "df_listing.drop(columns=['utilities_included'], axis = 1, inplace=True)"
   ]
  },
  {
   "cell_type": "code",
   "execution_count": 63,
   "metadata": {},
   "outputs": [
    {
     "data": {
      "text/html": [
       "<div>\n",
       "<style scoped>\n",
       "    .dataframe tbody tr th:only-of-type {\n",
       "        vertical-align: middle;\n",
       "    }\n",
       "\n",
       "    .dataframe tbody tr th {\n",
       "        vertical-align: top;\n",
       "    }\n",
       "\n",
       "    .dataframe thead th {\n",
       "        text-align: right;\n",
       "    }\n",
       "</style>\n",
       "<table border=\"1\" class=\"dataframe\">\n",
       "  <thead>\n",
       "    <tr style=\"text-align: right;\">\n",
       "      <th></th>\n",
       "      <th>community</th>\n",
       "      <th>type</th>\n",
       "      <th>beds</th>\n",
       "      <th>sq_feet</th>\n",
       "      <th>price</th>\n",
       "      <th>baths</th>\n",
       "      <th>cats</th>\n",
       "      <th>dogs</th>\n",
       "      <th>latitude</th>\n",
       "      <th>longitude</th>\n",
       "      <th>has_den</th>\n",
       "    </tr>\n",
       "  </thead>\n",
       "  <tbody>\n",
       "    <tr>\n",
       "      <th>0</th>\n",
       "      <td>Eau Claire</td>\n",
       "      <td>Condo Unit</td>\n",
       "      <td>1</td>\n",
       "      <td>600</td>\n",
       "      <td>1900</td>\n",
       "      <td>1.0</td>\n",
       "      <td>False</td>\n",
       "      <td>False</td>\n",
       "      <td>51.050855</td>\n",
       "      <td>-114.077663</td>\n",
       "      <td>False</td>\n",
       "    </tr>\n",
       "    <tr>\n",
       "      <th>1</th>\n",
       "      <td>Hamptons</td>\n",
       "      <td>Townhouse</td>\n",
       "      <td>3</td>\n",
       "      <td>1700</td>\n",
       "      <td>2350</td>\n",
       "      <td>2.5</td>\n",
       "      <td>False</td>\n",
       "      <td>False</td>\n",
       "      <td>51.145227</td>\n",
       "      <td>-114.142047</td>\n",
       "      <td>False</td>\n",
       "    </tr>\n",
       "    <tr>\n",
       "      <th>2</th>\n",
       "      <td>Huntington Hills</td>\n",
       "      <td>Room For Rent</td>\n",
       "      <td>1</td>\n",
       "      <td>&lt;NA&gt;</td>\n",
       "      <td>750</td>\n",
       "      <td>1.0</td>\n",
       "      <td>False</td>\n",
       "      <td>False</td>\n",
       "      <td>51.123184</td>\n",
       "      <td>-114.058484</td>\n",
       "      <td>False</td>\n",
       "    </tr>\n",
       "    <tr>\n",
       "      <th>3</th>\n",
       "      <td>Evergreen</td>\n",
       "      <td>Townhouse</td>\n",
       "      <td>3</td>\n",
       "      <td>1200</td>\n",
       "      <td>2050</td>\n",
       "      <td>1.5</td>\n",
       "      <td>True</td>\n",
       "      <td>False</td>\n",
       "      <td>50.912098</td>\n",
       "      <td>-114.105428</td>\n",
       "      <td>False</td>\n",
       "    </tr>\n",
       "    <tr>\n",
       "      <th>4</th>\n",
       "      <td>Scarboro</td>\n",
       "      <td>Basement</td>\n",
       "      <td>0</td>\n",
       "      <td>600</td>\n",
       "      <td>1200</td>\n",
       "      <td>1.0</td>\n",
       "      <td>False</td>\n",
       "      <td>False</td>\n",
       "      <td>51.040318</td>\n",
       "      <td>-114.112280</td>\n",
       "      <td>False</td>\n",
       "    </tr>\n",
       "  </tbody>\n",
       "</table>\n",
       "</div>"
      ],
      "text/plain": [
       "          community           type  beds  sq_feet price  baths   cats   dogs  \\\n",
       "0        Eau Claire     Condo Unit     1      600  1900    1.0  False  False   \n",
       "1          Hamptons      Townhouse     3     1700  2350    2.5  False  False   \n",
       "2  Huntington Hills  Room For Rent     1     <NA>   750    1.0  False  False   \n",
       "3         Evergreen      Townhouse     3     1200  2050    1.5   True  False   \n",
       "4          Scarboro       Basement     0      600  1200    1.0  False  False   \n",
       "\n",
       "    latitude   longitude  has_den  \n",
       "0  51.050855 -114.077663    False  \n",
       "1  51.145227 -114.142047    False  \n",
       "2  51.123184 -114.058484    False  \n",
       "3  50.912098 -114.105428    False  \n",
       "4  51.040318 -114.112280    False  "
      ]
     },
     "execution_count": 63,
     "metadata": {},
     "output_type": "execute_result"
    }
   ],
   "source": [
    "df_listing.head()"
   ]
  },
  {
   "cell_type": "markdown",
   "metadata": {},
   "source": [
    "#### Scatter Matrix"
   ]
  },
  {
   "cell_type": "markdown",
   "metadata": {},
   "source": [
    "### Distribution of Property Type\n",
    "\n",
    "bar chart\n",
    "\n",
    "box-and-whisker plot\n"
   ]
  },
  {
   "cell_type": "code",
   "execution_count": 68,
   "metadata": {},
   "outputs": [
    {
     "data": {
      "text/plain": [
       "type\n",
       "Condo Unit       613\n",
       "House            609\n",
       "Basement         591\n",
       "Townhouse        487\n",
       "Apartment        460\n",
       "Main Floor       346\n",
       "Room For Rent    337\n",
       "Duplex           215\n",
       "Storage           29\n",
       "Parking Spot      14\n",
       "Loft              12\n",
       "Acreage            3\n",
       "Mobile             1\n",
       "Vacation Home      1\n",
       "Name: count, dtype: int64"
      ]
     },
     "execution_count": 68,
     "metadata": {},
     "output_type": "execute_result"
    }
   ],
   "source": [
    "df_listing['type'].value_counts()"
   ]
  },
  {
   "cell_type": "code",
   "execution_count": 18,
   "metadata": {},
   "outputs": [
    {
     "name": "stdout",
     "output_type": "stream",
     "text": [
      "Pandas(Index='dog', num_legs=4, num_wings=1)\n",
      "Pandas(Index='hawk', num_legs=2, num_wings=<NA>)\n"
     ]
    }
   ],
   "source": [
    "\n",
    "df = pd.DataFrame({'num_legs': [4, 2], 'num_wings': [1, np.nan]},\n",
    "                  index=['dog', 'hawk'])\n",
    "\n",
    "# Set data types for each column separately\n",
    "df['num_legs'] = df['num_legs'].astype(int)\n",
    "df['num_wings'] = df['num_wings'].astype('Int64')\n",
    "\n",
    "for row in df.itertuples():\n",
    "    print(row)"
   ]
  },
  {
   "cell_type": "code",
   "execution_count": 21,
   "metadata": {},
   "outputs": [
    {
     "data": {
      "text/plain": [
       "pandas._libs.missing.NAType"
      ]
     },
     "execution_count": 21,
     "metadata": {},
     "output_type": "execute_result"
    }
   ],
   "source": [
    "type(pd.NA)"
   ]
  },
  {
   "cell_type": "code",
   "execution_count": 26,
   "metadata": {},
   "outputs": [
    {
     "data": {
      "text/plain": [
       "{2, 4}"
      ]
     },
     "execution_count": 26,
     "metadata": {},
     "output_type": "execute_result"
    }
   ],
   "source": [
    "set(df['num_legs'].unique())"
   ]
  },
  {
   "cell_type": "markdown",
   "metadata": {},
   "source": [
    "### Property Prices\n",
    "\n",
    "- Price per area? in scatter plot\n",
    "in subplots\n",
    "\n",
    "- Price histogram\n",
    "\n",
    "- Area in square meters histogram"
   ]
  },
  {
   "cell_type": "markdown",
   "metadata": {},
   "source": [
    "### Utilities cost / Deposit / Property publisher (whether listed by agent or individuals) / Floor number? "
   ]
  },
  {
   "cell_type": "markdown",
   "metadata": {},
   "source": [
    "### Geo Visualization using Folium\n",
    "\n",
    "- convert address to coordinate using GeoPy library."
   ]
  },
  {
   "cell_type": "markdown",
   "metadata": {},
   "source": [
    "### Rent Dynamics (how fast listings disappear?)"
   ]
  },
  {
   "cell_type": "markdown",
   "metadata": {},
   "source": [
    "### Word Cloud of the listing titles"
   ]
  }
 ],
 "metadata": {
  "kernelspec": {
   "display_name": "py310",
   "language": "python",
   "name": "python3"
  },
  "language_info": {
   "codemirror_mode": {
    "name": "ipython",
    "version": 3
   },
   "file_extension": ".py",
   "mimetype": "text/x-python",
   "name": "python",
   "nbconvert_exporter": "python",
   "pygments_lexer": "ipython3",
   "version": "3.10.13"
  }
 },
 "nbformat": 4,
 "nbformat_minor": 2
}
