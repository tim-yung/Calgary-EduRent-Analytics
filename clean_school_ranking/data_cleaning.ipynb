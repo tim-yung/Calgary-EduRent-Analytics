{
 "cells": [
  {
   "cell_type": "markdown",
   "metadata": {},
   "source": [
    "# Import and load into dataframe"
   ]
  },
  {
   "cell_type": "code",
   "execution_count": 293,
   "metadata": {},
   "outputs": [],
   "source": [
    "import sqlite3\n",
    "import pandas as pd\n",
    "\n",
    "# Connect to your SQLite database\n",
    "conn = sqlite3.connect('../database.db')\n",
    "\n",
    "# Load the school data from the database into a DataFrame\n",
    "df_school = pd.read_sql_query(\"SELECT * FROM schools\", conn)\n",
    "conn.close()\n"
   ]
  },
  {
   "cell_type": "code",
   "execution_count": 294,
   "metadata": {},
   "outputs": [],
   "source": [
    "\n",
    "# Load the school ranking data from the CSV file into a DataFrame\n",
    "df_ranking = pd.read_csv('../playwright/school_ranking.csv', encoding='ISO-8859-1')\n"
   ]
  },
  {
   "cell_type": "markdown",
   "metadata": {},
   "source": [
    "# EDA"
   ]
  },
  {
   "cell_type": "markdown",
   "metadata": {},
   "source": [
    "## 1) Looking at the data"
   ]
  },
  {
   "cell_type": "code",
   "execution_count": 295,
   "metadata": {},
   "outputs": [
    {
     "data": {
      "text/html": [
       "<div>\n",
       "<style scoped>\n",
       "    .dataframe tbody tr th:only-of-type {\n",
       "        vertical-align: middle;\n",
       "    }\n",
       "\n",
       "    .dataframe tbody tr th {\n",
       "        vertical-align: top;\n",
       "    }\n",
       "\n",
       "    .dataframe thead th {\n",
       "        text-align: right;\n",
       "    }\n",
       "</style>\n",
       "<table border=\"1\" class=\"dataframe\">\n",
       "  <thead>\n",
       "    <tr style=\"text-align: right;\">\n",
       "      <th></th>\n",
       "      <th>school_id</th>\n",
       "      <th>name</th>\n",
       "    </tr>\n",
       "  </thead>\n",
       "  <tbody>\n",
       "    <tr>\n",
       "      <th>137</th>\n",
       "      <td>142</td>\n",
       "      <td>A. E. Cross School</td>\n",
       "    </tr>\n",
       "    <tr>\n",
       "      <th>106</th>\n",
       "      <td>108</td>\n",
       "      <td>Abbeydale School</td>\n",
       "    </tr>\n",
       "    <tr>\n",
       "      <th>64</th>\n",
       "      <td>66</td>\n",
       "      <td>Acadia School</td>\n",
       "    </tr>\n",
       "    <tr>\n",
       "      <th>117</th>\n",
       "      <td>120</td>\n",
       "      <td>Adolescent Mental Health Services</td>\n",
       "    </tr>\n",
       "    <tr>\n",
       "      <th>56</th>\n",
       "      <td>58</td>\n",
       "      <td>Alex Munro School</td>\n",
       "    </tr>\n",
       "  </tbody>\n",
       "</table>\n",
       "</div>"
      ],
      "text/plain": [
       "     school_id                               name\n",
       "137        142                 A. E. Cross School\n",
       "106        108                   Abbeydale School\n",
       "64          66                      Acadia School\n",
       "117        120  Adolescent Mental Health Services\n",
       "56          58                  Alex Munro School"
      ]
     },
     "execution_count": 295,
     "metadata": {},
     "output_type": "execute_result"
    }
   ],
   "source": [
    "df_school[['school_id','name',]].sort_values(by='name').head()"
   ]
  },
  {
   "cell_type": "code",
   "execution_count": 296,
   "metadata": {},
   "outputs": [
    {
     "name": "stdout",
     "output_type": "stream",
     "text": [
      "<class 'pandas.core.frame.DataFrame'>\n",
      "RangeIndex: 250 entries, 0 to 249\n",
      "Data columns (total 27 columns):\n",
      " #   Column                  Non-Null Count  Dtype \n",
      "---  ------                  --------------  ----- \n",
      " 0   school_id               250 non-null    int64 \n",
      " 1   name                    250 non-null    object\n",
      " 2   address                 250 non-null    object\n",
      " 3   phone                   250 non-null    object\n",
      " 4   fax                     250 non-null    object\n",
      " 5   email                   250 non-null    object\n",
      " 6   website                 250 non-null    object\n",
      " 7   school_hour             250 non-null    object\n",
      " 8   grades                  250 non-null    object\n",
      " 9   ward                    250 non-null    object\n",
      " 10  area                    250 non-null    object\n",
      " 11  total_enrolment         250 non-null    int64 \n",
      " 12  programs_list           250 non-null    object\n",
      " 13  desc                    250 non-null    object\n",
      " 14  kindergarten_enrolment  250 non-null    int64 \n",
      " 15  grade_1_enrolment       250 non-null    int64 \n",
      " 16  grade_2_enrolment       250 non-null    int64 \n",
      " 17  grade_3_enrolment       250 non-null    int64 \n",
      " 18  grade_4_enrolment       250 non-null    int64 \n",
      " 19  grade_5_enrolment       250 non-null    int64 \n",
      " 20  grade_6_enrolment       250 non-null    int64 \n",
      " 21  grade_7_enrolment       250 non-null    int64 \n",
      " 22  grade_8_enrolment       250 non-null    int64 \n",
      " 23  grade_9_enrolment       250 non-null    int64 \n",
      " 24  grade_10_enrolment      250 non-null    int64 \n",
      " 25  grade_11_enrolment      250 non-null    int64 \n",
      " 26  grade_12_enrolment      250 non-null    int64 \n",
      "dtypes: int64(15), object(12)\n",
      "memory usage: 52.9+ KB\n"
     ]
    }
   ],
   "source": [
    "df_school.info()"
   ]
  },
  {
   "cell_type": "code",
   "execution_count": 297,
   "metadata": {},
   "outputs": [
    {
     "data": {
      "text/plain": [
       "0                          BCS@Home\n",
       "1                Bearspaw Christian\n",
       "2        Calgary Academy Collegiate\n",
       "3    Calgary French & International\n",
       "4                    Calgary Jewish\n",
       "Name: school_name, dtype: object"
      ]
     },
     "execution_count": 297,
     "metadata": {},
     "output_type": "execute_result"
    }
   ],
   "source": [
    "df_ranking['school_name'].head()"
   ]
  },
  {
   "cell_type": "code",
   "execution_count": 298,
   "metadata": {},
   "outputs": [
    {
     "name": "stdout",
     "output_type": "stream",
     "text": [
      "<class 'pandas.core.frame.DataFrame'>\n",
      "RangeIndex: 272 entries, 0 to 271\n",
      "Data columns (total 7 columns):\n",
      " #   Column           Non-Null Count  Dtype  \n",
      "---  ------           --------------  -----  \n",
      " 0   school_name      272 non-null    object \n",
      " 1   rank_detail_url  272 non-null    object \n",
      " 2   school_rating    272 non-null    float64\n",
      " 3   school_rank      272 non-null    object \n",
      " 4   city             272 non-null    object \n",
      " 5   school_group     272 non-null    object \n",
      " 6   school_type      272 non-null    object \n",
      "dtypes: float64(1), object(6)\n",
      "memory usage: 15.0+ KB\n"
     ]
    }
   ],
   "source": [
    "df_ranking.info()"
   ]
  },
  {
   "cell_type": "markdown",
   "metadata": {},
   "source": [
    "By looking at \"Acadia\", the school names in df_ranking are all missing suffix like \"School\". Also, it appears that not all schools have data in df_ranking."
   ]
  },
  {
   "cell_type": "markdown",
   "metadata": {},
   "source": [
    "## 2) Cleaning"
   ]
  },
  {
   "cell_type": "markdown",
   "metadata": {},
   "source": [
    "### 2a) Simple matching"
   ]
  },
  {
   "cell_type": "markdown",
   "metadata": {},
   "source": [
    "Convert all names to lowercase, then check if the short version of school names is contained in the full version of school names in database."
   ]
  },
  {
   "cell_type": "code",
   "execution_count": 299,
   "metadata": {},
   "outputs": [],
   "source": [
    "df_ranking['is_in'] = df_ranking['school_name'].str.lower().apply(lambda x: any(x in name for name in df_school['name'].str.lower()))"
   ]
  },
  {
   "cell_type": "code",
   "execution_count": 300,
   "metadata": {},
   "outputs": [
    {
     "data": {
      "text/plain": [
       "is_in\n",
       "False    166\n",
       "True     106\n",
       "Name: count, dtype: int64"
      ]
     },
     "execution_count": 300,
     "metadata": {},
     "output_type": "execute_result"
    }
   ],
   "source": [
    "df_ranking['is_in'].value_counts()"
   ]
  },
  {
   "cell_type": "code",
   "execution_count": 301,
   "metadata": {},
   "outputs": [
    {
     "data": {
      "text/plain": [
       "is_in\n",
       "False    0.610294\n",
       "True     0.389706\n",
       "Name: proportion, dtype: float64"
      ]
     },
     "execution_count": 301,
     "metadata": {},
     "output_type": "execute_result"
    }
   ],
   "source": [
    "df_ranking['is_in'].value_counts(normalize= True)"
   ]
  },
  {
   "cell_type": "markdown",
   "metadata": {},
   "source": [
    "Only 39% of school names matched."
   ]
  },
  {
   "cell_type": "code",
   "execution_count": 302,
   "metadata": {},
   "outputs": [
    {
     "data": {
      "text/html": [
       "<div>\n",
       "<style scoped>\n",
       "    .dataframe tbody tr th:only-of-type {\n",
       "        vertical-align: middle;\n",
       "    }\n",
       "\n",
       "    .dataframe tbody tr th {\n",
       "        vertical-align: top;\n",
       "    }\n",
       "\n",
       "    .dataframe thead th {\n",
       "        text-align: right;\n",
       "    }\n",
       "</style>\n",
       "<table border=\"1\" class=\"dataframe\">\n",
       "  <thead>\n",
       "    <tr style=\"text-align: right;\">\n",
       "      <th></th>\n",
       "      <th>school_name</th>\n",
       "      <th>rank_detail_url</th>\n",
       "      <th>school_rating</th>\n",
       "      <th>school_rank</th>\n",
       "      <th>city</th>\n",
       "      <th>school_group</th>\n",
       "      <th>school_type</th>\n",
       "      <th>is_in</th>\n",
       "    </tr>\n",
       "  </thead>\n",
       "  <tbody>\n",
       "    <tr>\n",
       "      <th>19</th>\n",
       "      <td>Acadia</td>\n",
       "      <td>/school/ab/elementary/9300</td>\n",
       "      <td>5.9</td>\n",
       "      <td>456/848</td>\n",
       "      <td>Calgary</td>\n",
       "      <td>elementary</td>\n",
       "      <td>Public</td>\n",
       "      <td>True</td>\n",
       "    </tr>\n",
       "    <tr>\n",
       "      <th>22</th>\n",
       "      <td>Alex Munro</td>\n",
       "      <td>/school/ab/elementary/9261</td>\n",
       "      <td>2.7</td>\n",
       "      <td>807/848</td>\n",
       "      <td>Calgary</td>\n",
       "      <td>elementary</td>\n",
       "      <td>Public</td>\n",
       "      <td>True</td>\n",
       "    </tr>\n",
       "    <tr>\n",
       "      <th>23</th>\n",
       "      <td>Altadore</td>\n",
       "      <td>/school/ab/elementary/9109</td>\n",
       "      <td>7.8</td>\n",
       "      <td>122/848</td>\n",
       "      <td>Calgary</td>\n",
       "      <td>elementary</td>\n",
       "      <td>Public</td>\n",
       "      <td>True</td>\n",
       "    </tr>\n",
       "    <tr>\n",
       "      <th>24</th>\n",
       "      <td>Andrew Sibbald</td>\n",
       "      <td>/school/ab/elementary/9336</td>\n",
       "      <td>7.8</td>\n",
       "      <td>122/848</td>\n",
       "      <td>Calgary</td>\n",
       "      <td>elementary</td>\n",
       "      <td>Public</td>\n",
       "      <td>True</td>\n",
       "    </tr>\n",
       "    <tr>\n",
       "      <th>25</th>\n",
       "      <td>Annie Foote</td>\n",
       "      <td>/school/ab/elementary/9377</td>\n",
       "      <td>5.3</td>\n",
       "      <td>577/848</td>\n",
       "      <td>Calgary</td>\n",
       "      <td>elementary</td>\n",
       "      <td>Public</td>\n",
       "      <td>True</td>\n",
       "    </tr>\n",
       "    <tr>\n",
       "      <th>...</th>\n",
       "      <td>...</td>\n",
       "      <td>...</td>\n",
       "      <td>...</td>\n",
       "      <td>...</td>\n",
       "      <td>...</td>\n",
       "      <td>...</td>\n",
       "      <td>...</td>\n",
       "      <td>...</td>\n",
       "    </tr>\n",
       "    <tr>\n",
       "      <th>255</th>\n",
       "      <td>Queen Elizabeth</td>\n",
       "      <td>/school/ab/secondary/9806</td>\n",
       "      <td>6.8</td>\n",
       "      <td>73/253</td>\n",
       "      <td>Calgary</td>\n",
       "      <td>secondary</td>\n",
       "      <td>Public</td>\n",
       "      <td>True</td>\n",
       "    </tr>\n",
       "    <tr>\n",
       "      <th>256</th>\n",
       "      <td>Robert Thirsk</td>\n",
       "      <td>/school/ab/secondary/1679</td>\n",
       "      <td>5.6</td>\n",
       "      <td>148/253</td>\n",
       "      <td>Calgary</td>\n",
       "      <td>secondary</td>\n",
       "      <td>Public</td>\n",
       "      <td>True</td>\n",
       "    </tr>\n",
       "    <tr>\n",
       "      <th>257</th>\n",
       "      <td>Sir Winston Churchill</td>\n",
       "      <td>/school/ab/secondary/9857</td>\n",
       "      <td>8.4</td>\n",
       "      <td>23/253</td>\n",
       "      <td>Calgary</td>\n",
       "      <td>secondary</td>\n",
       "      <td>Public</td>\n",
       "      <td>True</td>\n",
       "    </tr>\n",
       "    <tr>\n",
       "      <th>259</th>\n",
       "      <td>Western Canada</td>\n",
       "      <td>/school/ab/secondary/9816</td>\n",
       "      <td>8.8</td>\n",
       "      <td>15/253</td>\n",
       "      <td>Calgary</td>\n",
       "      <td>secondary</td>\n",
       "      <td>Public</td>\n",
       "      <td>True</td>\n",
       "    </tr>\n",
       "    <tr>\n",
       "      <th>260</th>\n",
       "      <td>William Aberhart</td>\n",
       "      <td>/school/ab/secondary/9829</td>\n",
       "      <td>8.4</td>\n",
       "      <td>23/253</td>\n",
       "      <td>Calgary</td>\n",
       "      <td>secondary</td>\n",
       "      <td>Public</td>\n",
       "      <td>True</td>\n",
       "    </tr>\n",
       "  </tbody>\n",
       "</table>\n",
       "<p>106 rows × 8 columns</p>\n",
       "</div>"
      ],
      "text/plain": [
       "               school_name             rank_detail_url  school_rating  \\\n",
       "19                  Acadia  /school/ab/elementary/9300            5.9   \n",
       "22              Alex Munro  /school/ab/elementary/9261            2.7   \n",
       "23                Altadore  /school/ab/elementary/9109            7.8   \n",
       "24          Andrew Sibbald  /school/ab/elementary/9336            7.8   \n",
       "25             Annie Foote  /school/ab/elementary/9377            5.3   \n",
       "..                     ...                         ...            ...   \n",
       "255        Queen Elizabeth   /school/ab/secondary/9806            6.8   \n",
       "256          Robert Thirsk   /school/ab/secondary/1679            5.6   \n",
       "257  Sir Winston Churchill   /school/ab/secondary/9857            8.4   \n",
       "259         Western Canada   /school/ab/secondary/9816            8.8   \n",
       "260       William Aberhart   /school/ab/secondary/9829            8.4   \n",
       "\n",
       "    school_rank     city school_group school_type  is_in  \n",
       "19      456/848  Calgary   elementary      Public   True  \n",
       "22      807/848  Calgary   elementary      Public   True  \n",
       "23      122/848  Calgary   elementary      Public   True  \n",
       "24      122/848  Calgary   elementary      Public   True  \n",
       "25      577/848  Calgary   elementary      Public   True  \n",
       "..          ...      ...          ...         ...    ...  \n",
       "255      73/253  Calgary    secondary      Public   True  \n",
       "256     148/253  Calgary    secondary      Public   True  \n",
       "257      23/253  Calgary    secondary      Public   True  \n",
       "259      15/253  Calgary    secondary      Public   True  \n",
       "260      23/253  Calgary    secondary      Public   True  \n",
       "\n",
       "[106 rows x 8 columns]"
      ]
     },
     "execution_count": 302,
     "metadata": {},
     "output_type": "execute_result"
    }
   ],
   "source": [
    "df_ranking[df_ranking['is_in'] == True]"
   ]
  },
  {
   "cell_type": "markdown",
   "metadata": {},
   "source": [
    "### 2b) Looking at the matched and unmatched schools"
   ]
  },
  {
   "cell_type": "markdown",
   "metadata": {},
   "source": [
    "Create a function to check if a school name in ranking is contained in any of the names in df_school"
   ]
  },
  {
   "cell_type": "code",
   "execution_count": 303,
   "metadata": {},
   "outputs": [],
   "source": [
    "\n",
    "def check_school(ranking_school):\n",
    "    for school in df_school['name']:\n",
    "        if ranking_school.lower() in school.lower():\n",
    "            return school\n",
    "    return None\n",
    "\n",
    "# Apply the function to df_ranking\n",
    "df_ranking['matching_school'] = df_ranking['school_name'].apply(check_school)\n",
    "\n"
   ]
  },
  {
   "cell_type": "markdown",
   "metadata": {},
   "source": [
    "Print out the school names from both dataframes where there was a match"
   ]
  },
  {
   "cell_type": "code",
   "execution_count": 304,
   "metadata": {},
   "outputs": [
    {
     "data": {
      "text/html": [
       "<div>\n",
       "<style scoped>\n",
       "    .dataframe tbody tr th:only-of-type {\n",
       "        vertical-align: middle;\n",
       "    }\n",
       "\n",
       "    .dataframe tbody tr th {\n",
       "        vertical-align: top;\n",
       "    }\n",
       "\n",
       "    .dataframe thead th {\n",
       "        text-align: right;\n",
       "    }\n",
       "</style>\n",
       "<table border=\"1\" class=\"dataframe\">\n",
       "  <thead>\n",
       "    <tr style=\"text-align: right;\">\n",
       "      <th></th>\n",
       "      <th>school_name</th>\n",
       "      <th>matching_school</th>\n",
       "    </tr>\n",
       "  </thead>\n",
       "  <tbody>\n",
       "    <tr>\n",
       "      <th>19</th>\n",
       "      <td>Acadia</td>\n",
       "      <td>Acadia School</td>\n",
       "    </tr>\n",
       "    <tr>\n",
       "      <th>22</th>\n",
       "      <td>Alex Munro</td>\n",
       "      <td>Alex Munro School</td>\n",
       "    </tr>\n",
       "    <tr>\n",
       "      <th>23</th>\n",
       "      <td>Altadore</td>\n",
       "      <td>Altadore School</td>\n",
       "    </tr>\n",
       "    <tr>\n",
       "      <th>24</th>\n",
       "      <td>Andrew Sibbald</td>\n",
       "      <td>Andrew Sibbald School</td>\n",
       "    </tr>\n",
       "    <tr>\n",
       "      <th>25</th>\n",
       "      <td>Annie Foote</td>\n",
       "      <td>Annie Foote School</td>\n",
       "    </tr>\n",
       "    <tr>\n",
       "      <th>...</th>\n",
       "      <td>...</td>\n",
       "      <td>...</td>\n",
       "    </tr>\n",
       "    <tr>\n",
       "      <th>255</th>\n",
       "      <td>Queen Elizabeth</td>\n",
       "      <td>Queen Elizabeth School</td>\n",
       "    </tr>\n",
       "    <tr>\n",
       "      <th>256</th>\n",
       "      <td>Robert Thirsk</td>\n",
       "      <td>Robert Thirsk High School</td>\n",
       "    </tr>\n",
       "    <tr>\n",
       "      <th>257</th>\n",
       "      <td>Sir Winston Churchill</td>\n",
       "      <td>Sir Winston Churchill High School</td>\n",
       "    </tr>\n",
       "    <tr>\n",
       "      <th>259</th>\n",
       "      <td>Western Canada</td>\n",
       "      <td>Western Canada High School</td>\n",
       "    </tr>\n",
       "    <tr>\n",
       "      <th>260</th>\n",
       "      <td>William Aberhart</td>\n",
       "      <td>William Aberhart High School</td>\n",
       "    </tr>\n",
       "  </tbody>\n",
       "</table>\n",
       "<p>106 rows × 2 columns</p>\n",
       "</div>"
      ],
      "text/plain": [
       "               school_name                    matching_school\n",
       "19                  Acadia                      Acadia School\n",
       "22              Alex Munro                  Alex Munro School\n",
       "23                Altadore                    Altadore School\n",
       "24          Andrew Sibbald              Andrew Sibbald School\n",
       "25             Annie Foote                 Annie Foote School\n",
       "..                     ...                                ...\n",
       "255        Queen Elizabeth             Queen Elizabeth School\n",
       "256          Robert Thirsk          Robert Thirsk High School\n",
       "257  Sir Winston Churchill  Sir Winston Churchill High School\n",
       "259         Western Canada         Western Canada High School\n",
       "260       William Aberhart       William Aberhart High School\n",
       "\n",
       "[106 rows x 2 columns]"
      ]
     },
     "execution_count": 304,
     "metadata": {},
     "output_type": "execute_result"
    }
   ],
   "source": [
    "matched_schools_in_df_ranking = df_ranking[df_ranking['matching_school'].notna()][['school_name', 'matching_school']]\n",
    "matched_schools_in_df_ranking\n",
    "\n"
   ]
  },
  {
   "cell_type": "code",
   "execution_count": 305,
   "metadata": {},
   "outputs": [
    {
     "data": {
      "text/plain": [
       "(106, 2)"
      ]
     },
     "execution_count": 305,
     "metadata": {},
     "output_type": "execute_result"
    }
   ],
   "source": [
    "matched_schools_in_df_ranking.shape"
   ]
  },
  {
   "cell_type": "markdown",
   "metadata": {},
   "source": [
    "106 schools successfully matched."
   ]
  },
  {
   "cell_type": "markdown",
   "metadata": {},
   "source": [
    "And where there was no match"
   ]
  },
  {
   "cell_type": "code",
   "execution_count": 306,
   "metadata": {},
   "outputs": [
    {
     "data": {
      "text/html": [
       "<div>\n",
       "<style scoped>\n",
       "    .dataframe tbody tr th:only-of-type {\n",
       "        vertical-align: middle;\n",
       "    }\n",
       "\n",
       "    .dataframe tbody tr th {\n",
       "        vertical-align: top;\n",
       "    }\n",
       "\n",
       "    .dataframe thead th {\n",
       "        text-align: right;\n",
       "    }\n",
       "</style>\n",
       "<table border=\"1\" class=\"dataframe\">\n",
       "  <thead>\n",
       "    <tr style=\"text-align: right;\">\n",
       "      <th></th>\n",
       "      <th>school_name</th>\n",
       "      <th>school_rank</th>\n",
       "      <th>school_type</th>\n",
       "    </tr>\n",
       "  </thead>\n",
       "  <tbody>\n",
       "    <tr>\n",
       "      <th>231</th>\n",
       "      <td>Renert School</td>\n",
       "      <td>1/253</td>\n",
       "      <td>Private</td>\n",
       "    </tr>\n",
       "    <tr>\n",
       "      <th>234</th>\n",
       "      <td>Webber</td>\n",
       "      <td>1/253</td>\n",
       "      <td>Private</td>\n",
       "    </tr>\n",
       "    <tr>\n",
       "      <th>132</th>\n",
       "      <td>Clear Water</td>\n",
       "      <td>1/848</td>\n",
       "      <td>Separate</td>\n",
       "    </tr>\n",
       "    <tr>\n",
       "      <th>232</th>\n",
       "      <td>Rundle College</td>\n",
       "      <td>1/253</td>\n",
       "      <td>Private</td>\n",
       "    </tr>\n",
       "    <tr>\n",
       "      <th>18</th>\n",
       "      <td>Webber</td>\n",
       "      <td>1/848</td>\n",
       "      <td>Private</td>\n",
       "    </tr>\n",
       "    <tr>\n",
       "      <th>83</th>\n",
       "      <td>Master's</td>\n",
       "      <td>1/848</td>\n",
       "      <td>Public</td>\n",
       "    </tr>\n",
       "    <tr>\n",
       "      <th>3</th>\n",
       "      <td>Calgary French &amp; International</td>\n",
       "      <td>1/848</td>\n",
       "      <td>Private</td>\n",
       "    </tr>\n",
       "    <tr>\n",
       "      <th>235</th>\n",
       "      <td>West Island College</td>\n",
       "      <td>5/253</td>\n",
       "      <td>Private</td>\n",
       "    </tr>\n",
       "    <tr>\n",
       "      <th>14</th>\n",
       "      <td>Renert</td>\n",
       "      <td>10/848</td>\n",
       "      <td>Private</td>\n",
       "    </tr>\n",
       "    <tr>\n",
       "      <th>144</th>\n",
       "      <td>Holy Name</td>\n",
       "      <td>12/848</td>\n",
       "      <td>Separate</td>\n",
       "    </tr>\n",
       "  </tbody>\n",
       "</table>\n",
       "</div>"
      ],
      "text/plain": [
       "                        school_name school_rank school_type\n",
       "231                   Renert School       1/253     Private\n",
       "234                          Webber       1/253     Private\n",
       "132                     Clear Water       1/848    Separate\n",
       "232                  Rundle College       1/253     Private\n",
       "18                           Webber       1/848     Private\n",
       "83                         Master's       1/848      Public\n",
       "3    Calgary French & International       1/848     Private\n",
       "235             West Island College       5/253     Private\n",
       "14                           Renert      10/848     Private\n",
       "144                       Holy Name      12/848    Separate"
      ]
     },
     "execution_count": 306,
     "metadata": {},
     "output_type": "execute_result"
    }
   ],
   "source": [
    "unmatched_schools_in_df_ranking = df_ranking[df_ranking['matching_school'].isna()]\n",
    "unmatched_schools_in_df_ranking.sort_values(by='school_rating', ascending=False)[['school_name','school_rank','school_type']].head(10)"
   ]
  },
  {
   "cell_type": "code",
   "execution_count": 307,
   "metadata": {},
   "outputs": [
    {
     "data": {
      "text/plain": [
       "school_type\n",
       "Separate       100\n",
       "Private         28\n",
       "Public          26\n",
       "Charter          6\n",
       "Francophone      6\n",
       "Name: count, dtype: int64"
      ]
     },
     "execution_count": 307,
     "metadata": {},
     "output_type": "execute_result"
    }
   ],
   "source": [
    "unmatched_schools_in_df_ranking.value_counts('school_type')"
   ]
  },
  {
   "cell_type": "code",
   "execution_count": 308,
   "metadata": {},
   "outputs": [
    {
     "data": {
      "text/plain": [
       "(166, 9)"
      ]
     },
     "execution_count": 308,
     "metadata": {},
     "output_type": "execute_result"
    }
   ],
   "source": [
    "unmatched_schools_in_df_ranking.shape"
   ]
  },
  {
   "cell_type": "markdown",
   "metadata": {},
   "source": [
    "The school data in the database was obtained from Calgary Board of Education, which is the largest school board in Alberta for public schools. Therefore, most of the unmatched schools belong to non-public schools. However, there are still 26 unmatched public school, which necessitates further cleaning."
   ]
  },
  {
   "cell_type": "markdown",
   "metadata": {},
   "source": [
    "### 2c) More closer look at the unmatched public schools"
   ]
  },
  {
   "cell_type": "code",
   "execution_count": 309,
   "metadata": {},
   "outputs": [
    {
     "data": {
      "text/plain": [
       "20      Al-Amal Academy\n",
       "21        Alex Ferguson\n",
       "27             Bearspaw\n",
       "36    Calgary Christian\n",
       "37      Calgary Islamic\n",
       "Name: school_name, dtype: object"
      ]
     },
     "execution_count": 309,
     "metadata": {},
     "output_type": "execute_result"
    }
   ],
   "source": [
    "unmatched_public_schools_in_df_ranking = unmatched_schools_in_df_ranking[unmatched_schools_in_df_ranking['school_type'] == 'Public']\n",
    "unmatched_public_schools_in_df_ranking['school_name'].head()"
   ]
  },
  {
   "cell_type": "code",
   "execution_count": 310,
   "metadata": {},
   "outputs": [
    {
     "data": {
      "text/plain": [
       "\"for name in unmatched_schools_in_df_school['name'].str.replace(' High School','').str.replace(' School',''):\\n    print(name)\""
      ]
     },
     "execution_count": 310,
     "metadata": {},
     "output_type": "execute_result"
    }
   ],
   "source": [
    "matched_schools_in_df_school = df_ranking['matching_school'].dropna().unique()\n",
    "unmatched_schools_in_df_school = df_school[~df_school['name'].isin(matched_schools_in_df_school)].sort_values(by='name')\n",
    "'''for name in unmatched_schools_in_df_school['name'].str.replace(' High School','').str.replace(' School',''):\n",
    "    print(name)'''"
   ]
  },
  {
   "cell_type": "markdown",
   "metadata": {},
   "source": [
    "Make a side-by-side comparison for the unmatched schools, group by alphabets."
   ]
  },
  {
   "cell_type": "code",
   "execution_count": 311,
   "metadata": {},
   "outputs": [
    {
     "data": {
      "text/html": [
       "<h1 style=\"color:grey;\">Names starting with A</h1>"
      ],
      "text/plain": [
       "<IPython.core.display.HTML object>"
      ]
     },
     "metadata": {},
     "output_type": "display_data"
    },
    {
     "data": {
      "text/html": [
       "<table style=\"background-color:black;color:white;\"><tr><td><table border=\"1\" class=\"dataframe\">\n",
       "  <thead>\n",
       "    <tr style=\"text-align: right;\">\n",
       "      <th>name</th>\n",
       "    </tr>\n",
       "  </thead>\n",
       "  <tbody>\n",
       "    <tr>\n",
       "      <td>A. E. Cross School</td>\n",
       "    </tr>\n",
       "    <tr>\n",
       "      <td>Abbeydale School</td>\n",
       "    </tr>\n",
       "    <tr>\n",
       "      <td>Adolescent Mental Health Services</td>\n",
       "    </tr>\n",
       "    <tr>\n",
       "      <td>Alexander Ferguson School</td>\n",
       "    </tr>\n",
       "    <tr>\n",
       "      <td>All Boys Program</td>\n",
       "    </tr>\n",
       "    <tr>\n",
       "      <td>Alternative High School</td>\n",
       "    </tr>\n",
       "    <tr>\n",
       "      <td>Annie Gale School</td>\n",
       "    </tr>\n",
       "    <tr>\n",
       "      <td>Arbour Lake School</td>\n",
       "    </tr>\n",
       "    <tr>\n",
       "      <td>Auburn Bay School</td>\n",
       "    </tr>\n",
       "  </tbody>\n",
       "</table></td><td><table border=\"1\" class=\"dataframe\">\n",
       "  <thead>\n",
       "    <tr style=\"text-align: right;\">\n",
       "      <th>school_name</th>\n",
       "      <th>rank_detail_url</th>\n",
       "    </tr>\n",
       "  </thead>\n",
       "  <tbody>\n",
       "    <tr>\n",
       "      <td>Al-Amal Academy</td>\n",
       "      <td>https://www.compareschoolrankings.org/school/ab/elementary/2374</td>\n",
       "    </tr>\n",
       "    <tr>\n",
       "      <td>Alex Ferguson</td>\n",
       "      <td>https://www.compareschoolrankings.org/school/ab/elementary/9101</td>\n",
       "    </tr>\n",
       "  </tbody>\n",
       "</table></td></tr></table>"
      ],
      "text/plain": [
       "<IPython.core.display.HTML object>"
      ]
     },
     "metadata": {},
     "output_type": "display_data"
    },
    {
     "data": {
      "text/html": [
       "<h1 style=\"color:grey;\">Names starting with B</h1>"
      ],
      "text/plain": [
       "<IPython.core.display.HTML object>"
      ]
     },
     "metadata": {},
     "output_type": "display_data"
    },
    {
     "data": {
      "text/html": [
       "<table style=\"background-color:black;color:white;\"><tr><td><table border=\"1\" class=\"dataframe\">\n",
       "  <thead>\n",
       "    <tr style=\"text-align: right;\">\n",
       "      <th>name</th>\n",
       "    </tr>\n",
       "  </thead>\n",
       "  <tbody>\n",
       "    <tr>\n",
       "      <td>Balmoral School</td>\n",
       "    </tr>\n",
       "    <tr>\n",
       "      <td>Banff Trail School</td>\n",
       "    </tr>\n",
       "    <tr>\n",
       "      <td>Banting and Best School</td>\n",
       "    </tr>\n",
       "    <tr>\n",
       "      <td>Bayside School</td>\n",
       "    </tr>\n",
       "    <tr>\n",
       "      <td>Bishop Pinkham School</td>\n",
       "    </tr>\n",
       "    <tr>\n",
       "      <td>Bob Edwards School</td>\n",
       "    </tr>\n",
       "    <tr>\n",
       "      <td>Branton School</td>\n",
       "    </tr>\n",
       "    <tr>\n",
       "      <td>Brentwood School</td>\n",
       "    </tr>\n",
       "    <tr>\n",
       "      <td>Buffalo Rubbing Stone School</td>\n",
       "    </tr>\n",
       "  </tbody>\n",
       "</table></td><td><table border=\"1\" class=\"dataframe\">\n",
       "  <thead>\n",
       "    <tr style=\"text-align: right;\">\n",
       "      <th>school_name</th>\n",
       "      <th>rank_detail_url</th>\n",
       "    </tr>\n",
       "  </thead>\n",
       "  <tbody>\n",
       "    <tr>\n",
       "      <td>Bearspaw</td>\n",
       "      <td>https://www.compareschoolrankings.org/school/ab/elementary/1030</td>\n",
       "    </tr>\n",
       "  </tbody>\n",
       "</table></td></tr></table>"
      ],
      "text/plain": [
       "<IPython.core.display.HTML object>"
      ]
     },
     "metadata": {},
     "output_type": "display_data"
    },
    {
     "data": {
      "text/html": [
       "<h1 style=\"color:grey;\">Names starting with C</h1>"
      ],
      "text/plain": [
       "<IPython.core.display.HTML object>"
      ]
     },
     "metadata": {},
     "output_type": "display_data"
    },
    {
     "data": {
      "text/html": [
       "<table style=\"background-color:black;color:white;\"><tr><td><table border=\"1\" class=\"dataframe\">\n",
       "  <thead>\n",
       "    <tr style=\"text-align: right;\">\n",
       "      <th>name</th>\n",
       "    </tr>\n",
       "  </thead>\n",
       "  <tbody>\n",
       "    <tr>\n",
       "      <td>CBE Home Education</td>\n",
       "    </tr>\n",
       "    <tr>\n",
       "      <td>CBe-learn</td>\n",
       "    </tr>\n",
       "    <tr>\n",
       "      <td>Canyon Meadows School</td>\n",
       "    </tr>\n",
       "    <tr>\n",
       "      <td>Cappy Smart School</td>\n",
       "    </tr>\n",
       "    <tr>\n",
       "      <td>Captain Nichola Goddard School</td>\n",
       "    </tr>\n",
       "    <tr>\n",
       "      <td>Children's Village School</td>\n",
       "    </tr>\n",
       "    <tr>\n",
       "      <td>Chinook Learning Services</td>\n",
       "    </tr>\n",
       "    <tr>\n",
       "      <td>Chris Akkerman School</td>\n",
       "    </tr>\n",
       "    <tr>\n",
       "      <td>Christine Meikle School</td>\n",
       "    </tr>\n",
       "    <tr>\n",
       "      <td>Citadel Park School</td>\n",
       "    </tr>\n",
       "    <tr>\n",
       "      <td>Clarence Sansom School</td>\n",
       "    </tr>\n",
       "    <tr>\n",
       "      <td>Collingwood School</td>\n",
       "    </tr>\n",
       "    <tr>\n",
       "      <td>Colonel Irvine School</td>\n",
       "    </tr>\n",
       "    <tr>\n",
       "      <td>Colonel Macleod School</td>\n",
       "    </tr>\n",
       "    <tr>\n",
       "      <td>Colonel Sanders School</td>\n",
       "    </tr>\n",
       "    <tr>\n",
       "      <td>Colonel Walker School</td>\n",
       "    </tr>\n",
       "    <tr>\n",
       "      <td>Copperfield School</td>\n",
       "    </tr>\n",
       "    <tr>\n",
       "      <td>Coventry Hills School</td>\n",
       "    </tr>\n",
       "    <tr>\n",
       "      <td>Cranston School</td>\n",
       "    </tr>\n",
       "  </tbody>\n",
       "</table></td><td><table border=\"1\" class=\"dataframe\">\n",
       "  <thead>\n",
       "    <tr style=\"text-align: right;\">\n",
       "      <th>school_name</th>\n",
       "      <th>rank_detail_url</th>\n",
       "    </tr>\n",
       "  </thead>\n",
       "  <tbody>\n",
       "    <tr>\n",
       "      <td>Calgary Christian</td>\n",
       "      <td>https://www.compareschoolrankings.org/school/ab/elementary/9903</td>\n",
       "    </tr>\n",
       "    <tr>\n",
       "      <td>Calgary Islamic</td>\n",
       "      <td>https://www.compareschoolrankings.org/school/ab/elementary/9969</td>\n",
       "    </tr>\n",
       "    <tr>\n",
       "      <td>Calgary Islamic, OBK</td>\n",
       "      <td>https://www.compareschoolrankings.org/school/ab/elementary/1722</td>\n",
       "    </tr>\n",
       "    <tr>\n",
       "      <td>Calgary Christian</td>\n",
       "      <td>https://www.compareschoolrankings.org/school/ab/secondary/9978</td>\n",
       "    </tr>\n",
       "    <tr>\n",
       "      <td>Calgary Islamic</td>\n",
       "      <td>https://www.compareschoolrankings.org/school/ab/secondary/9969</td>\n",
       "    </tr>\n",
       "    <tr>\n",
       "      <td>Chestermere</td>\n",
       "      <td>https://www.compareschoolrankings.org/school/ab/secondary/5208</td>\n",
       "    </tr>\n",
       "  </tbody>\n",
       "</table></td></tr></table>"
      ],
      "text/plain": [
       "<IPython.core.display.HTML object>"
      ]
     },
     "metadata": {},
     "output_type": "display_data"
    },
    {
     "data": {
      "text/html": [
       "<h1 style=\"color:grey;\">Names starting with D</h1>"
      ],
      "text/plain": [
       "<IPython.core.display.HTML object>"
      ]
     },
     "metadata": {},
     "output_type": "display_data"
    },
    {
     "data": {
      "text/html": [
       "<table style=\"background-color:black;color:white;\"><tr><td><table border=\"1\" class=\"dataframe\">\n",
       "  <thead>\n",
       "    <tr style=\"text-align: right;\">\n",
       "      <th>name</th>\n",
       "    </tr>\n",
       "  </thead>\n",
       "  <tbody>\n",
       "    <tr>\n",
       "      <td>Dalhousie School</td>\n",
       "    </tr>\n",
       "    <tr>\n",
       "      <td>David Thompson School</td>\n",
       "    </tr>\n",
       "    <tr>\n",
       "      <td>Discovering Choices - CACY</td>\n",
       "    </tr>\n",
       "    <tr>\n",
       "      <td>Discovering Choices II</td>\n",
       "    </tr>\n",
       "    <tr>\n",
       "      <td>Douglasdale School</td>\n",
       "    </tr>\n",
       "    <tr>\n",
       "      <td>Dr. E.P. Scarlett High School</td>\n",
       "    </tr>\n",
       "    <tr>\n",
       "      <td>Dr. E.W. Coffin School</td>\n",
       "    </tr>\n",
       "    <tr>\n",
       "      <td>Dr. Freda Miller School</td>\n",
       "    </tr>\n",
       "    <tr>\n",
       "      <td>Dr. George Stanley School</td>\n",
       "    </tr>\n",
       "    <tr>\n",
       "      <td>Dr. Gladys McKelvie Egbert School</td>\n",
       "    </tr>\n",
       "    <tr>\n",
       "      <td>Dr. Gordon Higgins School</td>\n",
       "    </tr>\n",
       "    <tr>\n",
       "      <td>Dr. Gordon Townsend School</td>\n",
       "    </tr>\n",
       "    <tr>\n",
       "      <td>Dr. J.K. Mulloy School</td>\n",
       "    </tr>\n",
       "    <tr>\n",
       "      <td>Dr. Martha Cohen School</td>\n",
       "    </tr>\n",
       "    <tr>\n",
       "      <td>Dr. Oakley School</td>\n",
       "    </tr>\n",
       "  </tbody>\n",
       "</table></td><td><table border=\"1\" class=\"dataframe\">\n",
       "  <thead>\n",
       "    <tr style=\"text-align: right;\">\n",
       "      <th>school_name</th>\n",
       "      <th>rank_detail_url</th>\n",
       "    </tr>\n",
       "  </thead>\n",
       "  <tbody>\n",
       "    <tr>\n",
       "      <td>Dr. E. W. Coffin</td>\n",
       "      <td>https://www.compareschoolrankings.org/school/ab/elementary/9214</td>\n",
       "    </tr>\n",
       "    <tr>\n",
       "      <td>Dr. E. P. Scarlett</td>\n",
       "      <td>https://www.compareschoolrankings.org/school/ab/secondary/9858</td>\n",
       "    </tr>\n",
       "  </tbody>\n",
       "</table></td></tr></table>"
      ],
      "text/plain": [
       "<IPython.core.display.HTML object>"
      ]
     },
     "metadata": {},
     "output_type": "display_data"
    },
    {
     "data": {
      "text/html": [
       "<h1 style=\"color:grey;\">Names starting with E</h1>"
      ],
      "text/plain": [
       "<IPython.core.display.HTML object>"
      ]
     },
     "metadata": {},
     "output_type": "display_data"
    },
    {
     "data": {
      "text/html": [
       "<table style=\"background-color:black;color:white;\"><tr><td><table border=\"1\" class=\"dataframe\">\n",
       "  <thead>\n",
       "    <tr style=\"text-align: right;\">\n",
       "      <th>name</th>\n",
       "    </tr>\n",
       "  </thead>\n",
       "  <tbody>\n",
       "    <tr>\n",
       "      <td>Emily Follensbee School</td>\n",
       "    </tr>\n",
       "    <tr>\n",
       "      <td>Eric Harvie School</td>\n",
       "    </tr>\n",
       "    <tr>\n",
       "      <td>Erin Woods School</td>\n",
       "    </tr>\n",
       "    <tr>\n",
       "      <td>Ernest Morrow School</td>\n",
       "    </tr>\n",
       "    <tr>\n",
       "      <td>Eugene Coste School</td>\n",
       "    </tr>\n",
       "    <tr>\n",
       "      <td>Evergreen School</td>\n",
       "    </tr>\n",
       "  </tbody>\n",
       "</table></td></tr></table>"
      ],
      "text/plain": [
       "<IPython.core.display.HTML object>"
      ]
     },
     "metadata": {},
     "output_type": "display_data"
    },
    {
     "data": {
      "text/html": [
       "<h1 style=\"color:grey;\">Names starting with F</h1>"
      ],
      "text/plain": [
       "<IPython.core.display.HTML object>"
      ]
     },
     "metadata": {},
     "output_type": "display_data"
    },
    {
     "data": {
      "text/html": [
       "<table style=\"background-color:black;color:white;\"><tr><td><table border=\"1\" class=\"dataframe\">\n",
       "  <thead>\n",
       "    <tr style=\"text-align: right;\">\n",
       "      <th>name</th>\n",
       "    </tr>\n",
       "  </thead>\n",
       "  <tbody>\n",
       "    <tr>\n",
       "      <td>F.E. Osborne School</td>\n",
       "    </tr>\n",
       "    <tr>\n",
       "      <td>Fairview School</td>\n",
       "    </tr>\n",
       "  </tbody>\n",
       "</table></td></tr></table>"
      ],
      "text/plain": [
       "<IPython.core.display.HTML object>"
      ]
     },
     "metadata": {},
     "output_type": "display_data"
    },
    {
     "data": {
      "text/html": [
       "<h1 style=\"color:grey;\">Names starting with G</h1>"
      ],
      "text/plain": [
       "<IPython.core.display.HTML object>"
      ]
     },
     "metadata": {},
     "output_type": "display_data"
    },
    {
     "data": {
      "text/html": [
       "<table style=\"background-color:black;color:white;\"><tr><td><table border=\"1\" class=\"dataframe\">\n",
       "  <thead>\n",
       "    <tr style=\"text-align: right;\">\n",
       "      <th>name</th>\n",
       "    </tr>\n",
       "  </thead>\n",
       "  <tbody>\n",
       "    <tr>\n",
       "      <td>G.W. Skene School</td>\n",
       "    </tr>\n",
       "    <tr>\n",
       "      <td>Georges P. Vanier School</td>\n",
       "    </tr>\n",
       "  </tbody>\n",
       "</table></td></tr></table>"
      ],
      "text/plain": [
       "<IPython.core.display.HTML object>"
      ]
     },
     "metadata": {},
     "output_type": "display_data"
    },
    {
     "data": {
      "text/html": [
       "<h1 style=\"color:grey;\">Names starting with H</h1>"
      ],
      "text/plain": [
       "<IPython.core.display.HTML object>"
      ]
     },
     "metadata": {},
     "output_type": "display_data"
    },
    {
     "data": {
      "text/html": [
       "<table style=\"background-color:black;color:white;\"><tr><td><table border=\"1\" class=\"dataframe\">\n",
       "  <thead>\n",
       "    <tr style=\"text-align: right;\">\n",
       "      <th>name</th>\n",
       "    </tr>\n",
       "  </thead>\n",
       "  <tbody>\n",
       "    <tr>\n",
       "      <td>H.D. Cartwright School</td>\n",
       "    </tr>\n",
       "    <tr>\n",
       "      <td>Harold Panabaker School</td>\n",
       "    </tr>\n",
       "    <tr>\n",
       "      <td>Hidden Valley School</td>\n",
       "    </tr>\n",
       "    <tr>\n",
       "      <td>Highwood School</td>\n",
       "    </tr>\n",
       "    <tr>\n",
       "      <td>Hugh A. Bennett School</td>\n",
       "    </tr>\n",
       "  </tbody>\n",
       "</table></td><td><table border=\"1\" class=\"dataframe\">\n",
       "  <thead>\n",
       "    <tr style=\"text-align: right;\">\n",
       "      <th>school_name</th>\n",
       "      <th>rank_detail_url</th>\n",
       "    </tr>\n",
       "  </thead>\n",
       "  <tbody>\n",
       "    <tr>\n",
       "      <td>Heritage Christian</td>\n",
       "      <td>https://www.compareschoolrankings.org/school/ab/elementary/9906</td>\n",
       "    </tr>\n",
       "    <tr>\n",
       "      <td>Horizon</td>\n",
       "      <td>https://www.compareschoolrankings.org/school/ab/elementary/2164</td>\n",
       "    </tr>\n",
       "    <tr>\n",
       "      <td>Heritage Christian</td>\n",
       "      <td>https://www.compareschoolrankings.org/school/ab/secondary/9906</td>\n",
       "    </tr>\n",
       "  </tbody>\n",
       "</table></td></tr></table>"
      ],
      "text/plain": [
       "<IPython.core.display.HTML object>"
      ]
     },
     "metadata": {},
     "output_type": "display_data"
    },
    {
     "data": {
      "text/html": [
       "<h1 style=\"color:grey;\">Names starting with I</h1>"
      ],
      "text/plain": [
       "<IPython.core.display.HTML object>"
      ]
     },
     "metadata": {},
     "output_type": "display_data"
    },
    {
     "data": {
      "text/html": [
       "<table style=\"background-color:black;color:white;\"><tr><td><table border=\"1\" class=\"dataframe\">\n",
       "  <thead>\n",
       "    <tr style=\"text-align: right;\">\n",
       "      <th>name</th>\n",
       "    </tr>\n",
       "  </thead>\n",
       "  <tbody>\n",
       "    <tr>\n",
       "      <td>Ian Bazalgette School</td>\n",
       "    </tr>\n",
       "  </tbody>\n",
       "</table></td><td><table border=\"1\" class=\"dataframe\">\n",
       "  <thead>\n",
       "    <tr style=\"text-align: right;\">\n",
       "      <th>school_name</th>\n",
       "      <th>rank_detail_url</th>\n",
       "    </tr>\n",
       "  </thead>\n",
       "  <tbody>\n",
       "    <tr>\n",
       "      <td>Indus</td>\n",
       "      <td>https://www.compareschoolrankings.org/school/ab/elementary/5213</td>\n",
       "    </tr>\n",
       "  </tbody>\n",
       "</table></td></tr></table>"
      ],
      "text/plain": [
       "<IPython.core.display.HTML object>"
      ]
     },
     "metadata": {},
     "output_type": "display_data"
    },
    {
     "data": {
      "text/html": [
       "<h1 style=\"color:grey;\">Names starting with J</h1>"
      ],
      "text/plain": [
       "<IPython.core.display.HTML object>"
      ]
     },
     "metadata": {},
     "output_type": "display_data"
    },
    {
     "data": {
      "text/html": [
       "<table style=\"background-color:black;color:white;\"><tr><td><table border=\"1\" class=\"dataframe\">\n",
       "  <thead>\n",
       "    <tr style=\"text-align: right;\">\n",
       "      <th>name</th>\n",
       "    </tr>\n",
       "  </thead>\n",
       "  <tbody>\n",
       "    <tr>\n",
       "      <td>Jack James High School</td>\n",
       "    </tr>\n",
       "    <tr>\n",
       "      <td>James Short Memorial School</td>\n",
       "    </tr>\n",
       "    <tr>\n",
       "      <td>Janet Johnstone School</td>\n",
       "    </tr>\n",
       "    <tr>\n",
       "      <td>Joane Cardinal-Schubert High School</td>\n",
       "    </tr>\n",
       "    <tr>\n",
       "      <td>John G. Diefenbaker High School</td>\n",
       "    </tr>\n",
       "    <tr>\n",
       "      <td>John Ware School</td>\n",
       "    </tr>\n",
       "  </tbody>\n",
       "</table></td><td><table border=\"1\" class=\"dataframe\">\n",
       "  <thead>\n",
       "    <tr style=\"text-align: right;\">\n",
       "      <th>school_name</th>\n",
       "      <th>rank_detail_url</th>\n",
       "    </tr>\n",
       "  </thead>\n",
       "  <tbody>\n",
       "    <tr>\n",
       "      <td>John G Diefenbaker</td>\n",
       "      <td>https://www.compareschoolrankings.org/school/ab/secondary/9860</td>\n",
       "    </tr>\n",
       "  </tbody>\n",
       "</table></td></tr></table>"
      ],
      "text/plain": [
       "<IPython.core.display.HTML object>"
      ]
     },
     "metadata": {},
     "output_type": "display_data"
    },
    {
     "data": {
      "text/html": [
       "<h1 style=\"color:grey;\">Names starting with K</h1>"
      ],
      "text/plain": [
       "<IPython.core.display.HTML object>"
      ]
     },
     "metadata": {},
     "output_type": "display_data"
    },
    {
     "data": {
      "text/html": [
       "<table style=\"background-color:black;color:white;\"><tr><td><table border=\"1\" class=\"dataframe\">\n",
       "  <thead>\n",
       "    <tr style=\"text-align: right;\">\n",
       "      <th>name</th>\n",
       "    </tr>\n",
       "  </thead>\n",
       "  <tbody>\n",
       "    <tr>\n",
       "      <td>Keeler School</td>\n",
       "    </tr>\n",
       "    <tr>\n",
       "      <td>Kenneth D. Taylor School</td>\n",
       "    </tr>\n",
       "    <tr>\n",
       "      <td>King George School</td>\n",
       "    </tr>\n",
       "  </tbody>\n",
       "</table></td></tr></table>"
      ],
      "text/plain": [
       "<IPython.core.display.HTML object>"
      ]
     },
     "metadata": {},
     "output_type": "display_data"
    },
    {
     "data": {
      "text/html": [
       "<h1 style=\"color:grey;\">Names starting with L</h1>"
      ],
      "text/plain": [
       "<IPython.core.display.HTML object>"
      ]
     },
     "metadata": {},
     "output_type": "display_data"
    },
    {
     "data": {
      "text/html": [
       "<table style=\"background-color:black;color:white;\"><tr><td><table border=\"1\" class=\"dataframe\">\n",
       "  <thead>\n",
       "    <tr style=\"text-align: right;\">\n",
       "      <th>name</th>\n",
       "    </tr>\n",
       "  </thead>\n",
       "  <tbody>\n",
       "    <tr>\n",
       "      <td>Lakeshore School</td>\n",
       "    </tr>\n",
       "    <tr>\n",
       "      <td>Le Roi Daniels School</td>\n",
       "    </tr>\n",
       "    <tr>\n",
       "      <td>Louise Dean School</td>\n",
       "    </tr>\n",
       "  </tbody>\n",
       "</table></td><td><table border=\"1\" class=\"dataframe\">\n",
       "  <thead>\n",
       "    <tr style=\"text-align: right;\">\n",
       "      <th>school_name</th>\n",
       "      <th>rank_detail_url</th>\n",
       "    </tr>\n",
       "  </thead>\n",
       "  <tbody>\n",
       "    <tr>\n",
       "      <td>Langevin</td>\n",
       "      <td>https://www.compareschoolrankings.org/school/ab/elementary/9609</td>\n",
       "    </tr>\n",
       "  </tbody>\n",
       "</table></td></tr></table>"
      ],
      "text/plain": [
       "<IPython.core.display.HTML object>"
      ]
     },
     "metadata": {},
     "output_type": "display_data"
    },
    {
     "data": {
      "text/html": [
       "<h1 style=\"color:grey;\">Names starting with M</h1>"
      ],
      "text/plain": [
       "<IPython.core.display.HTML object>"
      ]
     },
     "metadata": {},
     "output_type": "display_data"
    },
    {
     "data": {
      "text/html": [
       "<table style=\"background-color:black;color:white;\"><tr><td><table border=\"1\" class=\"dataframe\">\n",
       "  <thead>\n",
       "    <tr style=\"text-align: right;\">\n",
       "      <th>name</th>\n",
       "    </tr>\n",
       "  </thead>\n",
       "  <tbody>\n",
       "    <tr>\n",
       "      <td>Mahogany School</td>\n",
       "    </tr>\n",
       "    <tr>\n",
       "      <td>Maple Ridge School</td>\n",
       "    </tr>\n",
       "    <tr>\n",
       "      <td>Marlborough School</td>\n",
       "    </tr>\n",
       "    <tr>\n",
       "      <td>Marshall Springs School</td>\n",
       "    </tr>\n",
       "    <tr>\n",
       "      <td>McKenzie Highlands School</td>\n",
       "    </tr>\n",
       "    <tr>\n",
       "      <td>McKenzie Lake School</td>\n",
       "    </tr>\n",
       "    <tr>\n",
       "      <td>McKenzie Towne School</td>\n",
       "    </tr>\n",
       "    <tr>\n",
       "      <td>MidSun School</td>\n",
       "    </tr>\n",
       "    <tr>\n",
       "      <td>Mount Royal School</td>\n",
       "    </tr>\n",
       "    <tr>\n",
       "      <td>Mountain Park School</td>\n",
       "    </tr>\n",
       "  </tbody>\n",
       "</table></td><td><table border=\"1\" class=\"dataframe\">\n",
       "  <thead>\n",
       "    <tr style=\"text-align: right;\">\n",
       "      <th>school_name</th>\n",
       "      <th>rank_detail_url</th>\n",
       "    </tr>\n",
       "  </thead>\n",
       "  <tbody>\n",
       "    <tr>\n",
       "      <td>Master's</td>\n",
       "      <td>https://www.compareschoolrankings.org/school/ab/elementary/30</td>\n",
       "    </tr>\n",
       "    <tr>\n",
       "      <td>Menno Simons Christian</td>\n",
       "      <td>https://www.compareschoolrankings.org/school/ab/elementary/9936</td>\n",
       "    </tr>\n",
       "    <tr>\n",
       "      <td>Master's College</td>\n",
       "      <td>https://www.compareschoolrankings.org/school/ab/secondary/1562</td>\n",
       "    </tr>\n",
       "  </tbody>\n",
       "</table></td></tr></table>"
      ],
      "text/plain": [
       "<IPython.core.display.HTML object>"
      ]
     },
     "metadata": {},
     "output_type": "display_data"
    },
    {
     "data": {
      "text/html": [
       "<h1 style=\"color:grey;\">Names starting with N</h1>"
      ],
      "text/plain": [
       "<IPython.core.display.HTML object>"
      ]
     },
     "metadata": {},
     "output_type": "display_data"
    },
    {
     "data": {
      "text/html": [
       "<table style=\"background-color:black;color:white;\"><tr><td><table border=\"1\" class=\"dataframe\">\n",
       "  <thead>\n",
       "    <tr style=\"text-align: right;\">\n",
       "      <th>name</th>\n",
       "    </tr>\n",
       "  </thead>\n",
       "  <tbody>\n",
       "    <tr>\n",
       "      <td>New Brighton School</td>\n",
       "    </tr>\n",
       "    <tr>\n",
       "      <td>Nickle School</td>\n",
       "    </tr>\n",
       "    <tr>\n",
       "      <td>Niitsitapi Learning Centre</td>\n",
       "    </tr>\n",
       "    <tr>\n",
       "      <td>North Trail High School</td>\n",
       "    </tr>\n",
       "    <tr>\n",
       "      <td>Northern Lights School</td>\n",
       "    </tr>\n",
       "    <tr>\n",
       "      <td>Nose Creek School</td>\n",
       "    </tr>\n",
       "  </tbody>\n",
       "</table></td><td><table border=\"1\" class=\"dataframe\">\n",
       "  <thead>\n",
       "    <tr style=\"text-align: right;\">\n",
       "      <th>school_name</th>\n",
       "      <th>rank_detail_url</th>\n",
       "    </tr>\n",
       "  </thead>\n",
       "  <tbody>\n",
       "    <tr>\n",
       "      <td>National Sport</td>\n",
       "      <td>https://www.compareschoolrankings.org/school/ab/secondary/9830</td>\n",
       "    </tr>\n",
       "  </tbody>\n",
       "</table></td></tr></table>"
      ],
      "text/plain": [
       "<IPython.core.display.HTML object>"
      ]
     },
     "metadata": {},
     "output_type": "display_data"
    },
    {
     "data": {
      "text/html": [
       "<h1 style=\"color:grey;\">Names starting with O</h1>"
      ],
      "text/plain": [
       "<IPython.core.display.HTML object>"
      ]
     },
     "metadata": {},
     "output_type": "display_data"
    },
    {
     "data": {
      "text/html": [
       "<table style=\"background-color:black;color:white;\"><tr><td><table border=\"1\" class=\"dataframe\">\n",
       "  <thead>\n",
       "    <tr style=\"text-align: right;\">\n",
       "      <th>name</th>\n",
       "    </tr>\n",
       "  </thead>\n",
       "  <tbody>\n",
       "    <tr>\n",
       "      <td>O.S. Geiger School</td>\n",
       "    </tr>\n",
       "  </tbody>\n",
       "</table></td><td><table border=\"1\" class=\"dataframe\">\n",
       "  <thead>\n",
       "    <tr style=\"text-align: right;\">\n",
       "      <th>school_name</th>\n",
       "      <th>rank_detail_url</th>\n",
       "    </tr>\n",
       "  </thead>\n",
       "  <tbody>\n",
       "    <tr>\n",
       "      <td>O. S. Geiger</td>\n",
       "      <td>https://www.compareschoolrankings.org/school/ab/elementary/9271</td>\n",
       "    </tr>\n",
       "  </tbody>\n",
       "</table></td></tr></table>"
      ],
      "text/plain": [
       "<IPython.core.display.HTML object>"
      ]
     },
     "metadata": {},
     "output_type": "display_data"
    },
    {
     "data": {
      "text/html": [
       "<h1 style=\"color:grey;\">Names starting with P</h1>"
      ],
      "text/plain": [
       "<IPython.core.display.HTML object>"
      ]
     },
     "metadata": {},
     "output_type": "display_data"
    },
    {
     "data": {
      "text/html": [
       "<table style=\"background-color:black;color:white;\"><tr><td><table border=\"1\" class=\"dataframe\">\n",
       "  <thead>\n",
       "    <tr style=\"text-align: right;\">\n",
       "      <th>name</th>\n",
       "    </tr>\n",
       "  </thead>\n",
       "  <tbody>\n",
       "    <tr>\n",
       "      <td>Panorama Hills School</td>\n",
       "    </tr>\n",
       "    <tr>\n",
       "      <td>Patrick Airlie School</td>\n",
       "    </tr>\n",
       "    <tr>\n",
       "      <td>Penbrooke Meadows School</td>\n",
       "    </tr>\n",
       "    <tr>\n",
       "      <td>Peter Lougheed School</td>\n",
       "    </tr>\n",
       "    <tr>\n",
       "      <td>Prairie Sky School</td>\n",
       "    </tr>\n",
       "  </tbody>\n",
       "</table></td><td><table border=\"1\" class=\"dataframe\">\n",
       "  <thead>\n",
       "    <tr style=\"text-align: right;\">\n",
       "      <th>school_name</th>\n",
       "      <th>rank_detail_url</th>\n",
       "    </tr>\n",
       "  </thead>\n",
       "  <tbody>\n",
       "    <tr>\n",
       "      <td>Prince of Peace Lutheran</td>\n",
       "      <td>https://www.compareschoolrankings.org/school/ab/elementary/5397</td>\n",
       "    </tr>\n",
       "  </tbody>\n",
       "</table></td></tr></table>"
      ],
      "text/plain": [
       "<IPython.core.display.HTML object>"
      ]
     },
     "metadata": {},
     "output_type": "display_data"
    },
    {
     "data": {
      "text/html": [
       "<h1 style=\"color:grey;\">Names starting with Q</h1>"
      ],
      "text/plain": [
       "<IPython.core.display.HTML object>"
      ]
     },
     "metadata": {},
     "output_type": "display_data"
    },
    {
     "data": {
      "text/html": [
       "<table style=\"background-color:black;color:white;\"><tr><td><table border=\"1\" class=\"dataframe\">\n",
       "  <thead>\n",
       "    <tr style=\"text-align: right;\">\n",
       "      <th>name</th>\n",
       "    </tr>\n",
       "  </thead>\n",
       "  <tbody>\n",
       "    <tr>\n",
       "      <td>Queen Elizabeth High School</td>\n",
       "    </tr>\n",
       "  </tbody>\n",
       "</table></td></tr></table>"
      ],
      "text/plain": [
       "<IPython.core.display.HTML object>"
      ]
     },
     "metadata": {},
     "output_type": "display_data"
    },
    {
     "data": {
      "text/html": [
       "<h1 style=\"color:grey;\">Names starting with R</h1>"
      ],
      "text/plain": [
       "<IPython.core.display.HTML object>"
      ]
     },
     "metadata": {},
     "output_type": "display_data"
    },
    {
     "data": {
      "text/html": [
       "<table style=\"background-color:black;color:white;\"><tr><td><table border=\"1\" class=\"dataframe\">\n",
       "  <thead>\n",
       "    <tr style=\"text-align: right;\">\n",
       "      <th>name</th>\n",
       "    </tr>\n",
       "  </thead>\n",
       "  <tbody>\n",
       "    <tr>\n",
       "      <td>R.T. Alderman School</td>\n",
       "    </tr>\n",
       "    <tr>\n",
       "      <td>Radisson Park School</td>\n",
       "    </tr>\n",
       "    <tr>\n",
       "      <td>Riverside School</td>\n",
       "    </tr>\n",
       "    <tr>\n",
       "      <td>Robert Warren School</td>\n",
       "    </tr>\n",
       "    <tr>\n",
       "      <td>Roland Michener School</td>\n",
       "    </tr>\n",
       "    <tr>\n",
       "      <td>Royal Oak School</td>\n",
       "    </tr>\n",
       "  </tbody>\n",
       "</table></td><td><table border=\"1\" class=\"dataframe\">\n",
       "  <thead>\n",
       "    <tr style=\"text-align: right;\">\n",
       "      <th>school_name</th>\n",
       "      <th>rank_detail_url</th>\n",
       "    </tr>\n",
       "  </thead>\n",
       "  <tbody>\n",
       "    <tr>\n",
       "      <td>Red Deer Lake</td>\n",
       "      <td>https://www.compareschoolrankings.org/school/ab/elementary/5309</td>\n",
       "    </tr>\n",
       "  </tbody>\n",
       "</table></td></tr></table>"
      ],
      "text/plain": [
       "<IPython.core.display.HTML object>"
      ]
     },
     "metadata": {},
     "output_type": "display_data"
    },
    {
     "data": {
      "text/html": [
       "<h1 style=\"color:grey;\">Names starting with S</h1>"
      ],
      "text/plain": [
       "<IPython.core.display.HTML object>"
      ]
     },
     "metadata": {},
     "output_type": "display_data"
    },
    {
     "data": {
      "text/html": [
       "<table style=\"background-color:black;color:white;\"><tr><td><table border=\"1\" class=\"dataframe\">\n",
       "  <thead>\n",
       "    <tr style=\"text-align: right;\">\n",
       "      <th>name</th>\n",
       "    </tr>\n",
       "  </thead>\n",
       "  <tbody>\n",
       "    <tr>\n",
       "      <td>START Outreach</td>\n",
       "    </tr>\n",
       "    <tr>\n",
       "      <td>Saddle Ridge School</td>\n",
       "    </tr>\n",
       "    <tr>\n",
       "      <td>Sam Livingston School</td>\n",
       "    </tr>\n",
       "    <tr>\n",
       "      <td>Samuel W. Shaw School</td>\n",
       "    </tr>\n",
       "    <tr>\n",
       "      <td>Scenic Acres School</td>\n",
       "    </tr>\n",
       "    <tr>\n",
       "      <td>Senator Patrick Burns School</td>\n",
       "    </tr>\n",
       "    <tr>\n",
       "      <td>Sherwood School</td>\n",
       "    </tr>\n",
       "    <tr>\n",
       "      <td>Sibylla Kiddle School</td>\n",
       "    </tr>\n",
       "    <tr>\n",
       "      <td>Simon Fraser School</td>\n",
       "    </tr>\n",
       "    <tr>\n",
       "      <td>Sir John A. Macdonald School</td>\n",
       "    </tr>\n",
       "    <tr>\n",
       "      <td>Sir John Franklin School</td>\n",
       "    </tr>\n",
       "    <tr>\n",
       "      <td>Sir Wilfrid Laurier School</td>\n",
       "    </tr>\n",
       "    <tr>\n",
       "      <td>Somerset School</td>\n",
       "    </tr>\n",
       "  </tbody>\n",
       "</table></td><td><table border=\"1\" class=\"dataframe\">\n",
       "  <thead>\n",
       "    <tr style=\"text-align: right;\">\n",
       "      <th>school_name</th>\n",
       "      <th>rank_detail_url</th>\n",
       "    </tr>\n",
       "  </thead>\n",
       "  <tbody>\n",
       "    <tr>\n",
       "      <td>Springbank</td>\n",
       "      <td>https://www.compareschoolrankings.org/school/ab/secondary/5223</td>\n",
       "    </tr>\n",
       "  </tbody>\n",
       "</table></td></tr></table>"
      ],
      "text/plain": [
       "<IPython.core.display.HTML object>"
      ]
     },
     "metadata": {},
     "output_type": "display_data"
    },
    {
     "data": {
      "text/html": [
       "<h1 style=\"color:grey;\">Names starting with T</h1>"
      ],
      "text/plain": [
       "<IPython.core.display.HTML object>"
      ]
     },
     "metadata": {},
     "output_type": "display_data"
    },
    {
     "data": {
      "text/html": [
       "<table style=\"background-color:black;color:white;\"><tr><td><table border=\"1\" class=\"dataframe\">\n",
       "  <thead>\n",
       "    <tr style=\"text-align: right;\">\n",
       "      <th>name</th>\n",
       "    </tr>\n",
       "  </thead>\n",
       "  <tbody>\n",
       "    <tr>\n",
       "      <td>Taradale School</td>\n",
       "    </tr>\n",
       "    <tr>\n",
       "      <td>Ted Harrison School</td>\n",
       "    </tr>\n",
       "    <tr>\n",
       "      <td>Terry Fox School</td>\n",
       "    </tr>\n",
       "    <tr>\n",
       "      <td>The Hamptons School</td>\n",
       "    </tr>\n",
       "    <tr>\n",
       "      <td>Thomas B. Riley School</td>\n",
       "    </tr>\n",
       "    <tr>\n",
       "      <td>Tom Baines School</td>\n",
       "    </tr>\n",
       "    <tr>\n",
       "      <td>Tuscany School</td>\n",
       "    </tr>\n",
       "    <tr>\n",
       "      <td>Twelve Mile Coulee School</td>\n",
       "    </tr>\n",
       "  </tbody>\n",
       "</table></td><td><table border=\"1\" class=\"dataframe\">\n",
       "  <thead>\n",
       "    <tr style=\"text-align: right;\">\n",
       "      <th>school_name</th>\n",
       "      <th>rank_detail_url</th>\n",
       "    </tr>\n",
       "  </thead>\n",
       "  <tbody>\n",
       "    <tr>\n",
       "      <td>Trinity Christian</td>\n",
       "      <td>https://www.compareschoolrankings.org/school/ab/elementary/9973</td>\n",
       "    </tr>\n",
       "  </tbody>\n",
       "</table></td></tr></table>"
      ],
      "text/plain": [
       "<IPython.core.display.HTML object>"
      ]
     },
     "metadata": {},
     "output_type": "display_data"
    },
    {
     "data": {
      "text/html": [
       "<h1 style=\"color:grey;\">Names starting with V</h1>"
      ],
      "text/plain": [
       "<IPython.core.display.HTML object>"
      ]
     },
     "metadata": {},
     "output_type": "display_data"
    },
    {
     "data": {
      "text/html": [
       "<table style=\"background-color:black;color:white;\"><tr><td><table border=\"1\" class=\"dataframe\">\n",
       "  <thead>\n",
       "    <tr style=\"text-align: right;\">\n",
       "      <th>name</th>\n",
       "    </tr>\n",
       "  </thead>\n",
       "  <tbody>\n",
       "    <tr>\n",
       "      <td>Valley Creek School</td>\n",
       "    </tr>\n",
       "    <tr>\n",
       "      <td>Valley View School</td>\n",
       "    </tr>\n",
       "    <tr>\n",
       "      <td>Varsity Acres School</td>\n",
       "    </tr>\n",
       "    <tr>\n",
       "      <td>Vincent Massey School</td>\n",
       "    </tr>\n",
       "  </tbody>\n",
       "</table></td></tr></table>"
      ],
      "text/plain": [
       "<IPython.core.display.HTML object>"
      ]
     },
     "metadata": {},
     "output_type": "display_data"
    },
    {
     "data": {
      "text/html": [
       "<h1 style=\"color:grey;\">Names starting with W</h1>"
      ],
      "text/plain": [
       "<IPython.core.display.HTML object>"
      ]
     },
     "metadata": {},
     "output_type": "display_data"
    },
    {
     "data": {
      "text/html": [
       "<table style=\"background-color:black;color:white;\"><tr><td><table border=\"1\" class=\"dataframe\">\n",
       "  <thead>\n",
       "    <tr style=\"text-align: right;\">\n",
       "      <th>name</th>\n",
       "    </tr>\n",
       "  </thead>\n",
       "  <tbody>\n",
       "    <tr>\n",
       "      <td>W.O. Mitchell School</td>\n",
       "    </tr>\n",
       "    <tr>\n",
       "      <td>West Dover School</td>\n",
       "    </tr>\n",
       "    <tr>\n",
       "      <td>West Ridge School</td>\n",
       "    </tr>\n",
       "    <tr>\n",
       "      <td>West Springs School</td>\n",
       "    </tr>\n",
       "    <tr>\n",
       "      <td>Westbrook Outreach</td>\n",
       "    </tr>\n",
       "    <tr>\n",
       "      <td>William D. Pratt School</td>\n",
       "    </tr>\n",
       "    <tr>\n",
       "      <td>William Reid School</td>\n",
       "    </tr>\n",
       "    <tr>\n",
       "      <td>William Roper Hull School</td>\n",
       "    </tr>\n",
       "    <tr>\n",
       "      <td>Willow Park School</td>\n",
       "    </tr>\n",
       "    <tr>\n",
       "      <td>Wilma Hansen School</td>\n",
       "    </tr>\n",
       "    <tr>\n",
       "      <td>Wood's Homes - William Taylor Learning Centre</td>\n",
       "    </tr>\n",
       "    <tr>\n",
       "      <td>Woodman School</td>\n",
       "    </tr>\n",
       "  </tbody>\n",
       "</table></td></tr></table>"
      ],
      "text/plain": [
       "<IPython.core.display.HTML object>"
      ]
     },
     "metadata": {},
     "output_type": "display_data"
    }
   ],
   "source": [
    "from IPython.display import display, HTML\n",
    "\n",
    "def display_side_by_side(df_list):\n",
    "    base_url = 'https://www.compareschoolrankings.org'\n",
    "    html_str = '<table style=\"background-color:black;color:white;\"><tr>'\n",
    "    for df, cols in df_list:\n",
    "        if not df.empty:\n",
    "            if 'rank_detail_url' in cols:\n",
    "                df = df.copy()  # To avoid modifying the original dataframe\n",
    "                df['rank_detail_url'] = base_url + df['rank_detail_url'].astype(str)\n",
    "            html_str += '<td>' + df[cols].to_html(index=False) + '</td>'\n",
    "    html_str += '</tr></table>'\n",
    "    return HTML(html_str)\n",
    "\n",
    "def display_alphabetical(df_list):\n",
    "    for letter in 'abcdefghijklmnopqrstuvwxyz':\n",
    "        dfs = []\n",
    "        for df, cols in df_list:\n",
    "            filtered_df = df[df[cols[0]].str.lower().str.startswith(letter, na=False)]\n",
    "            if not filtered_df.empty:\n",
    "                dfs.append((filtered_df, cols))\n",
    "        if dfs:\n",
    "            display(HTML('<h1 style=\"color:grey;\">Names starting with ' + letter.upper() + '</h1>'))\n",
    "            display(display_side_by_side(dfs))\n",
    "\n",
    "# Define a list of your DataFrame and column name pairings\n",
    "df_list = [\n",
    "    (unmatched_schools_in_df_school, ['name']), \n",
    "    (unmatched_public_schools_in_df_ranking, ['school_name', 'rank_detail_url'])\n",
    "]\n",
    "\n",
    "# Call the function to display dataframes alphabetically\n",
    "display_alphabetical(df_list)"
   ]
  },
  {
   "cell_type": "markdown",
   "metadata": {},
   "source": [
    "It is found that some of the names in df_ranking.school_name has extra spaces around apostrophe as compared to df_school.name. \n",
    "\n",
    "For example,\n",
    "'Dr. E.W. Coffin' vs 'Dr. E. W. Coffin'\n",
    "\n",
    "Also, in one case, an incomplete word is spotted, i.e. 'Alexander Ferguson' vs 'Alex Ferguson'."
   ]
  },
  {
   "cell_type": "markdown",
   "metadata": {},
   "source": [
    "### 2d) Optimize cleaning function"
   ]
  },
  {
   "cell_type": "code",
   "execution_count": 312,
   "metadata": {},
   "outputs": [],
   "source": [
    "import re\n",
    "\n",
    "def clean_name(name):\n",
    "    \"\"\"Clean the school name by removing spaces around periods, converting to lower case, and handling specific cases.\"\"\"\n",
    "    name = name.lower()  # Convert to lower case\n",
    "    name = re.sub('\\s*\\.\\s*', '.', name) # Remove spaces around periods\n",
    "    \n",
    "    # Handle specific cases:\n",
    "    name = name.replace(\"alex ferguson\", \"alexander ferguson school\") \n",
    "    name = name.replace(\"john g diefenbaker\",\"john g.diefenbaker\") \n",
    "    return name\n",
    "\n",
    "# Apply the cleaning function to the school names in both dataframes\n",
    "df_school['name_cleaned'] = df_school['name'].apply(clean_name)\n",
    "df_ranking['school_name_cleaned'] = df_ranking['school_name'].apply(clean_name)"
   ]
  },
  {
   "cell_type": "markdown",
   "metadata": {},
   "source": [
    "Revise the check_school function"
   ]
  },
  {
   "cell_type": "code",
   "execution_count": 313,
   "metadata": {},
   "outputs": [],
   "source": [
    "\n",
    "def check_school(ranking_school):\n",
    "    for school in df_school['name_cleaned']:\n",
    "        if ranking_school in school:\n",
    "            return school\n",
    "    return None\n",
    "\n",
    "\n",
    "\n",
    "# Apply the function to df_ranking\n",
    "df_ranking['matching_school_cleaned'] = df_ranking['school_name_cleaned'].apply(check_school)\n",
    "\n"
   ]
  },
  {
   "cell_type": "code",
   "execution_count": 314,
   "metadata": {},
   "outputs": [
    {
     "data": {
      "text/plain": [
       "(161, 11)"
      ]
     },
     "execution_count": 314,
     "metadata": {},
     "output_type": "execute_result"
    }
   ],
   "source": [
    "unmatched_schools_in_df_ranking_cleaned = df_ranking[df_ranking['matching_school_cleaned'].isna()]\n",
    "unmatched_schools_in_df_ranking_cleaned.shape"
   ]
  },
  {
   "cell_type": "code",
   "execution_count": 315,
   "metadata": {},
   "outputs": [
    {
     "data": {
      "text/plain": [
       "school_type\n",
       "Separate       100\n",
       "Private         28\n",
       "Public          21\n",
       "Charter          6\n",
       "Francophone      6\n",
       "Name: count, dtype: int64"
      ]
     },
     "execution_count": 315,
     "metadata": {},
     "output_type": "execute_result"
    }
   ],
   "source": [
    "unmatched_schools_in_df_ranking_cleaned.value_counts('school_type')"
   ]
  },
  {
   "cell_type": "code",
   "execution_count": 316,
   "metadata": {},
   "outputs": [],
   "source": [
    "unmatched_public_schools_in_df_ranking_cleaned = unmatched_schools_in_df_ranking_cleaned[unmatched_schools_in_df_ranking_cleaned['school_type']=='Public']"
   ]
  },
  {
   "cell_type": "markdown",
   "metadata": {},
   "source": [
    "With the current cleaning function, the number of unmatched public school reduced from 26 to 21 only."
   ]
  },
  {
   "cell_type": "code",
   "execution_count": 317,
   "metadata": {},
   "outputs": [],
   "source": [
    "matched_schools_in_df_school_cleaned = df_ranking['matching_school_cleaned'].dropna().unique()\n",
    "unmatched_schools_in_df_school_cleaned = df_school[~df_school['name_cleaned'].isin(matched_schools_in_df_school_cleaned)].sort_values(by='name')"
   ]
  },
  {
   "cell_type": "code",
   "execution_count": 318,
   "metadata": {},
   "outputs": [
    {
     "data": {
      "text/html": [
       "<h1 style=\"color:grey;\">Names starting with A</h1>"
      ],
      "text/plain": [
       "<IPython.core.display.HTML object>"
      ]
     },
     "metadata": {},
     "output_type": "display_data"
    },
    {
     "data": {
      "text/html": [
       "<table style=\"background-color:black;color:white;\"><tr><td><table border=\"1\" class=\"dataframe\">\n",
       "  <thead>\n",
       "    <tr style=\"text-align: right;\">\n",
       "      <th>name_cleaned</th>\n",
       "    </tr>\n",
       "  </thead>\n",
       "  <tbody>\n",
       "    <tr>\n",
       "      <td>a.e.cross school</td>\n",
       "    </tr>\n",
       "    <tr>\n",
       "      <td>abbeydale school</td>\n",
       "    </tr>\n",
       "    <tr>\n",
       "      <td>adolescent mental health services</td>\n",
       "    </tr>\n",
       "    <tr>\n",
       "      <td>all boys program</td>\n",
       "    </tr>\n",
       "    <tr>\n",
       "      <td>alternative high school</td>\n",
       "    </tr>\n",
       "    <tr>\n",
       "      <td>annie gale school</td>\n",
       "    </tr>\n",
       "    <tr>\n",
       "      <td>arbour lake school</td>\n",
       "    </tr>\n",
       "    <tr>\n",
       "      <td>auburn bay school</td>\n",
       "    </tr>\n",
       "  </tbody>\n",
       "</table></td><td><table border=\"1\" class=\"dataframe\">\n",
       "  <thead>\n",
       "    <tr style=\"text-align: right;\">\n",
       "      <th>school_name_cleaned</th>\n",
       "      <th>rank_detail_url</th>\n",
       "    </tr>\n",
       "  </thead>\n",
       "  <tbody>\n",
       "    <tr>\n",
       "      <td>al-amal academy</td>\n",
       "      <td>https://www.compareschoolrankings.org/school/ab/elementary/2374</td>\n",
       "    </tr>\n",
       "  </tbody>\n",
       "</table></td></tr></table>"
      ],
      "text/plain": [
       "<IPython.core.display.HTML object>"
      ]
     },
     "metadata": {},
     "output_type": "display_data"
    },
    {
     "data": {
      "text/html": [
       "<h1 style=\"color:grey;\">Names starting with B</h1>"
      ],
      "text/plain": [
       "<IPython.core.display.HTML object>"
      ]
     },
     "metadata": {},
     "output_type": "display_data"
    },
    {
     "data": {
      "text/html": [
       "<table style=\"background-color:black;color:white;\"><tr><td><table border=\"1\" class=\"dataframe\">\n",
       "  <thead>\n",
       "    <tr style=\"text-align: right;\">\n",
       "      <th>name_cleaned</th>\n",
       "    </tr>\n",
       "  </thead>\n",
       "  <tbody>\n",
       "    <tr>\n",
       "      <td>balmoral school</td>\n",
       "    </tr>\n",
       "    <tr>\n",
       "      <td>banff trail school</td>\n",
       "    </tr>\n",
       "    <tr>\n",
       "      <td>banting and best school</td>\n",
       "    </tr>\n",
       "    <tr>\n",
       "      <td>bayside school</td>\n",
       "    </tr>\n",
       "    <tr>\n",
       "      <td>bishop pinkham school</td>\n",
       "    </tr>\n",
       "    <tr>\n",
       "      <td>bob edwards school</td>\n",
       "    </tr>\n",
       "    <tr>\n",
       "      <td>branton school</td>\n",
       "    </tr>\n",
       "    <tr>\n",
       "      <td>brentwood school</td>\n",
       "    </tr>\n",
       "    <tr>\n",
       "      <td>buffalo rubbing stone school</td>\n",
       "    </tr>\n",
       "  </tbody>\n",
       "</table></td><td><table border=\"1\" class=\"dataframe\">\n",
       "  <thead>\n",
       "    <tr style=\"text-align: right;\">\n",
       "      <th>school_name_cleaned</th>\n",
       "      <th>rank_detail_url</th>\n",
       "    </tr>\n",
       "  </thead>\n",
       "  <tbody>\n",
       "    <tr>\n",
       "      <td>bearspaw</td>\n",
       "      <td>https://www.compareschoolrankings.org/school/ab/elementary/1030</td>\n",
       "    </tr>\n",
       "  </tbody>\n",
       "</table></td></tr></table>"
      ],
      "text/plain": [
       "<IPython.core.display.HTML object>"
      ]
     },
     "metadata": {},
     "output_type": "display_data"
    },
    {
     "data": {
      "text/html": [
       "<h1 style=\"color:grey;\">Names starting with C</h1>"
      ],
      "text/plain": [
       "<IPython.core.display.HTML object>"
      ]
     },
     "metadata": {},
     "output_type": "display_data"
    },
    {
     "data": {
      "text/html": [
       "<table style=\"background-color:black;color:white;\"><tr><td><table border=\"1\" class=\"dataframe\">\n",
       "  <thead>\n",
       "    <tr style=\"text-align: right;\">\n",
       "      <th>name_cleaned</th>\n",
       "    </tr>\n",
       "  </thead>\n",
       "  <tbody>\n",
       "    <tr>\n",
       "      <td>cbe home education</td>\n",
       "    </tr>\n",
       "    <tr>\n",
       "      <td>cbe-learn</td>\n",
       "    </tr>\n",
       "    <tr>\n",
       "      <td>canyon meadows school</td>\n",
       "    </tr>\n",
       "    <tr>\n",
       "      <td>cappy smart school</td>\n",
       "    </tr>\n",
       "    <tr>\n",
       "      <td>captain nichola goddard school</td>\n",
       "    </tr>\n",
       "    <tr>\n",
       "      <td>children's village school</td>\n",
       "    </tr>\n",
       "    <tr>\n",
       "      <td>chinook learning services</td>\n",
       "    </tr>\n",
       "    <tr>\n",
       "      <td>chris akkerman school</td>\n",
       "    </tr>\n",
       "    <tr>\n",
       "      <td>christine meikle school</td>\n",
       "    </tr>\n",
       "    <tr>\n",
       "      <td>citadel park school</td>\n",
       "    </tr>\n",
       "    <tr>\n",
       "      <td>clarence sansom school</td>\n",
       "    </tr>\n",
       "    <tr>\n",
       "      <td>collingwood school</td>\n",
       "    </tr>\n",
       "    <tr>\n",
       "      <td>colonel irvine school</td>\n",
       "    </tr>\n",
       "    <tr>\n",
       "      <td>colonel macleod school</td>\n",
       "    </tr>\n",
       "    <tr>\n",
       "      <td>colonel sanders school</td>\n",
       "    </tr>\n",
       "    <tr>\n",
       "      <td>colonel walker school</td>\n",
       "    </tr>\n",
       "    <tr>\n",
       "      <td>copperfield school</td>\n",
       "    </tr>\n",
       "    <tr>\n",
       "      <td>coventry hills school</td>\n",
       "    </tr>\n",
       "    <tr>\n",
       "      <td>cranston school</td>\n",
       "    </tr>\n",
       "  </tbody>\n",
       "</table></td><td><table border=\"1\" class=\"dataframe\">\n",
       "  <thead>\n",
       "    <tr style=\"text-align: right;\">\n",
       "      <th>school_name_cleaned</th>\n",
       "      <th>rank_detail_url</th>\n",
       "    </tr>\n",
       "  </thead>\n",
       "  <tbody>\n",
       "    <tr>\n",
       "      <td>calgary christian</td>\n",
       "      <td>https://www.compareschoolrankings.org/school/ab/elementary/9903</td>\n",
       "    </tr>\n",
       "    <tr>\n",
       "      <td>calgary islamic</td>\n",
       "      <td>https://www.compareschoolrankings.org/school/ab/elementary/9969</td>\n",
       "    </tr>\n",
       "    <tr>\n",
       "      <td>calgary islamic, obk</td>\n",
       "      <td>https://www.compareschoolrankings.org/school/ab/elementary/1722</td>\n",
       "    </tr>\n",
       "    <tr>\n",
       "      <td>calgary christian</td>\n",
       "      <td>https://www.compareschoolrankings.org/school/ab/secondary/9978</td>\n",
       "    </tr>\n",
       "    <tr>\n",
       "      <td>calgary islamic</td>\n",
       "      <td>https://www.compareschoolrankings.org/school/ab/secondary/9969</td>\n",
       "    </tr>\n",
       "    <tr>\n",
       "      <td>chestermere</td>\n",
       "      <td>https://www.compareschoolrankings.org/school/ab/secondary/5208</td>\n",
       "    </tr>\n",
       "  </tbody>\n",
       "</table></td></tr></table>"
      ],
      "text/plain": [
       "<IPython.core.display.HTML object>"
      ]
     },
     "metadata": {},
     "output_type": "display_data"
    },
    {
     "data": {
      "text/html": [
       "<h1 style=\"color:grey;\">Names starting with D</h1>"
      ],
      "text/plain": [
       "<IPython.core.display.HTML object>"
      ]
     },
     "metadata": {},
     "output_type": "display_data"
    },
    {
     "data": {
      "text/html": [
       "<table style=\"background-color:black;color:white;\"><tr><td><table border=\"1\" class=\"dataframe\">\n",
       "  <thead>\n",
       "    <tr style=\"text-align: right;\">\n",
       "      <th>name_cleaned</th>\n",
       "    </tr>\n",
       "  </thead>\n",
       "  <tbody>\n",
       "    <tr>\n",
       "      <td>dalhousie school</td>\n",
       "    </tr>\n",
       "    <tr>\n",
       "      <td>david thompson school</td>\n",
       "    </tr>\n",
       "    <tr>\n",
       "      <td>discovering choices - cacy</td>\n",
       "    </tr>\n",
       "    <tr>\n",
       "      <td>discovering choices ii</td>\n",
       "    </tr>\n",
       "    <tr>\n",
       "      <td>douglasdale school</td>\n",
       "    </tr>\n",
       "    <tr>\n",
       "      <td>dr.freda miller school</td>\n",
       "    </tr>\n",
       "    <tr>\n",
       "      <td>dr.george stanley school</td>\n",
       "    </tr>\n",
       "    <tr>\n",
       "      <td>dr.gladys mckelvie egbert school</td>\n",
       "    </tr>\n",
       "    <tr>\n",
       "      <td>dr.gordon higgins school</td>\n",
       "    </tr>\n",
       "    <tr>\n",
       "      <td>dr.gordon townsend school</td>\n",
       "    </tr>\n",
       "    <tr>\n",
       "      <td>dr.j.k.mulloy school</td>\n",
       "    </tr>\n",
       "    <tr>\n",
       "      <td>dr.martha cohen school</td>\n",
       "    </tr>\n",
       "    <tr>\n",
       "      <td>dr.oakley school</td>\n",
       "    </tr>\n",
       "  </tbody>\n",
       "</table></td></tr></table>"
      ],
      "text/plain": [
       "<IPython.core.display.HTML object>"
      ]
     },
     "metadata": {},
     "output_type": "display_data"
    },
    {
     "data": {
      "text/html": [
       "<h1 style=\"color:grey;\">Names starting with E</h1>"
      ],
      "text/plain": [
       "<IPython.core.display.HTML object>"
      ]
     },
     "metadata": {},
     "output_type": "display_data"
    },
    {
     "data": {
      "text/html": [
       "<table style=\"background-color:black;color:white;\"><tr><td><table border=\"1\" class=\"dataframe\">\n",
       "  <thead>\n",
       "    <tr style=\"text-align: right;\">\n",
       "      <th>name_cleaned</th>\n",
       "    </tr>\n",
       "  </thead>\n",
       "  <tbody>\n",
       "    <tr>\n",
       "      <td>emily follensbee school</td>\n",
       "    </tr>\n",
       "    <tr>\n",
       "      <td>eric harvie school</td>\n",
       "    </tr>\n",
       "    <tr>\n",
       "      <td>erin woods school</td>\n",
       "    </tr>\n",
       "    <tr>\n",
       "      <td>ernest morrow school</td>\n",
       "    </tr>\n",
       "    <tr>\n",
       "      <td>eugene coste school</td>\n",
       "    </tr>\n",
       "    <tr>\n",
       "      <td>evergreen school</td>\n",
       "    </tr>\n",
       "  </tbody>\n",
       "</table></td></tr></table>"
      ],
      "text/plain": [
       "<IPython.core.display.HTML object>"
      ]
     },
     "metadata": {},
     "output_type": "display_data"
    },
    {
     "data": {
      "text/html": [
       "<h1 style=\"color:grey;\">Names starting with F</h1>"
      ],
      "text/plain": [
       "<IPython.core.display.HTML object>"
      ]
     },
     "metadata": {},
     "output_type": "display_data"
    },
    {
     "data": {
      "text/html": [
       "<table style=\"background-color:black;color:white;\"><tr><td><table border=\"1\" class=\"dataframe\">\n",
       "  <thead>\n",
       "    <tr style=\"text-align: right;\">\n",
       "      <th>name_cleaned</th>\n",
       "    </tr>\n",
       "  </thead>\n",
       "  <tbody>\n",
       "    <tr>\n",
       "      <td>f.e.osborne school</td>\n",
       "    </tr>\n",
       "    <tr>\n",
       "      <td>fairview school</td>\n",
       "    </tr>\n",
       "  </tbody>\n",
       "</table></td></tr></table>"
      ],
      "text/plain": [
       "<IPython.core.display.HTML object>"
      ]
     },
     "metadata": {},
     "output_type": "display_data"
    },
    {
     "data": {
      "text/html": [
       "<h1 style=\"color:grey;\">Names starting with G</h1>"
      ],
      "text/plain": [
       "<IPython.core.display.HTML object>"
      ]
     },
     "metadata": {},
     "output_type": "display_data"
    },
    {
     "data": {
      "text/html": [
       "<table style=\"background-color:black;color:white;\"><tr><td><table border=\"1\" class=\"dataframe\">\n",
       "  <thead>\n",
       "    <tr style=\"text-align: right;\">\n",
       "      <th>name_cleaned</th>\n",
       "    </tr>\n",
       "  </thead>\n",
       "  <tbody>\n",
       "    <tr>\n",
       "      <td>g.w.skene school</td>\n",
       "    </tr>\n",
       "    <tr>\n",
       "      <td>georges p.vanier school</td>\n",
       "    </tr>\n",
       "  </tbody>\n",
       "</table></td></tr></table>"
      ],
      "text/plain": [
       "<IPython.core.display.HTML object>"
      ]
     },
     "metadata": {},
     "output_type": "display_data"
    },
    {
     "data": {
      "text/html": [
       "<h1 style=\"color:grey;\">Names starting with H</h1>"
      ],
      "text/plain": [
       "<IPython.core.display.HTML object>"
      ]
     },
     "metadata": {},
     "output_type": "display_data"
    },
    {
     "data": {
      "text/html": [
       "<table style=\"background-color:black;color:white;\"><tr><td><table border=\"1\" class=\"dataframe\">\n",
       "  <thead>\n",
       "    <tr style=\"text-align: right;\">\n",
       "      <th>name_cleaned</th>\n",
       "    </tr>\n",
       "  </thead>\n",
       "  <tbody>\n",
       "    <tr>\n",
       "      <td>h.d.cartwright school</td>\n",
       "    </tr>\n",
       "    <tr>\n",
       "      <td>harold panabaker school</td>\n",
       "    </tr>\n",
       "    <tr>\n",
       "      <td>hidden valley school</td>\n",
       "    </tr>\n",
       "    <tr>\n",
       "      <td>highwood school</td>\n",
       "    </tr>\n",
       "    <tr>\n",
       "      <td>hugh a.bennett school</td>\n",
       "    </tr>\n",
       "  </tbody>\n",
       "</table></td><td><table border=\"1\" class=\"dataframe\">\n",
       "  <thead>\n",
       "    <tr style=\"text-align: right;\">\n",
       "      <th>school_name_cleaned</th>\n",
       "      <th>rank_detail_url</th>\n",
       "    </tr>\n",
       "  </thead>\n",
       "  <tbody>\n",
       "    <tr>\n",
       "      <td>heritage christian</td>\n",
       "      <td>https://www.compareschoolrankings.org/school/ab/elementary/9906</td>\n",
       "    </tr>\n",
       "    <tr>\n",
       "      <td>horizon</td>\n",
       "      <td>https://www.compareschoolrankings.org/school/ab/elementary/2164</td>\n",
       "    </tr>\n",
       "    <tr>\n",
       "      <td>heritage christian</td>\n",
       "      <td>https://www.compareschoolrankings.org/school/ab/secondary/9906</td>\n",
       "    </tr>\n",
       "  </tbody>\n",
       "</table></td></tr></table>"
      ],
      "text/plain": [
       "<IPython.core.display.HTML object>"
      ]
     },
     "metadata": {},
     "output_type": "display_data"
    },
    {
     "data": {
      "text/html": [
       "<h1 style=\"color:grey;\">Names starting with I</h1>"
      ],
      "text/plain": [
       "<IPython.core.display.HTML object>"
      ]
     },
     "metadata": {},
     "output_type": "display_data"
    },
    {
     "data": {
      "text/html": [
       "<table style=\"background-color:black;color:white;\"><tr><td><table border=\"1\" class=\"dataframe\">\n",
       "  <thead>\n",
       "    <tr style=\"text-align: right;\">\n",
       "      <th>name_cleaned</th>\n",
       "    </tr>\n",
       "  </thead>\n",
       "  <tbody>\n",
       "    <tr>\n",
       "      <td>ian bazalgette school</td>\n",
       "    </tr>\n",
       "  </tbody>\n",
       "</table></td><td><table border=\"1\" class=\"dataframe\">\n",
       "  <thead>\n",
       "    <tr style=\"text-align: right;\">\n",
       "      <th>school_name_cleaned</th>\n",
       "      <th>rank_detail_url</th>\n",
       "    </tr>\n",
       "  </thead>\n",
       "  <tbody>\n",
       "    <tr>\n",
       "      <td>indus</td>\n",
       "      <td>https://www.compareschoolrankings.org/school/ab/elementary/5213</td>\n",
       "    </tr>\n",
       "  </tbody>\n",
       "</table></td></tr></table>"
      ],
      "text/plain": [
       "<IPython.core.display.HTML object>"
      ]
     },
     "metadata": {},
     "output_type": "display_data"
    },
    {
     "data": {
      "text/html": [
       "<h1 style=\"color:grey;\">Names starting with J</h1>"
      ],
      "text/plain": [
       "<IPython.core.display.HTML object>"
      ]
     },
     "metadata": {},
     "output_type": "display_data"
    },
    {
     "data": {
      "text/html": [
       "<table style=\"background-color:black;color:white;\"><tr><td><table border=\"1\" class=\"dataframe\">\n",
       "  <thead>\n",
       "    <tr style=\"text-align: right;\">\n",
       "      <th>name_cleaned</th>\n",
       "    </tr>\n",
       "  </thead>\n",
       "  <tbody>\n",
       "    <tr>\n",
       "      <td>jack james high school</td>\n",
       "    </tr>\n",
       "    <tr>\n",
       "      <td>james short memorial school</td>\n",
       "    </tr>\n",
       "    <tr>\n",
       "      <td>janet johnstone school</td>\n",
       "    </tr>\n",
       "    <tr>\n",
       "      <td>joane cardinal-schubert high school</td>\n",
       "    </tr>\n",
       "    <tr>\n",
       "      <td>john ware school</td>\n",
       "    </tr>\n",
       "  </tbody>\n",
       "</table></td></tr></table>"
      ],
      "text/plain": [
       "<IPython.core.display.HTML object>"
      ]
     },
     "metadata": {},
     "output_type": "display_data"
    },
    {
     "data": {
      "text/html": [
       "<h1 style=\"color:grey;\">Names starting with K</h1>"
      ],
      "text/plain": [
       "<IPython.core.display.HTML object>"
      ]
     },
     "metadata": {},
     "output_type": "display_data"
    },
    {
     "data": {
      "text/html": [
       "<table style=\"background-color:black;color:white;\"><tr><td><table border=\"1\" class=\"dataframe\">\n",
       "  <thead>\n",
       "    <tr style=\"text-align: right;\">\n",
       "      <th>name_cleaned</th>\n",
       "    </tr>\n",
       "  </thead>\n",
       "  <tbody>\n",
       "    <tr>\n",
       "      <td>keeler school</td>\n",
       "    </tr>\n",
       "    <tr>\n",
       "      <td>kenneth d.taylor school</td>\n",
       "    </tr>\n",
       "    <tr>\n",
       "      <td>king george school</td>\n",
       "    </tr>\n",
       "  </tbody>\n",
       "</table></td></tr></table>"
      ],
      "text/plain": [
       "<IPython.core.display.HTML object>"
      ]
     },
     "metadata": {},
     "output_type": "display_data"
    },
    {
     "data": {
      "text/html": [
       "<h1 style=\"color:grey;\">Names starting with L</h1>"
      ],
      "text/plain": [
       "<IPython.core.display.HTML object>"
      ]
     },
     "metadata": {},
     "output_type": "display_data"
    },
    {
     "data": {
      "text/html": [
       "<table style=\"background-color:black;color:white;\"><tr><td><table border=\"1\" class=\"dataframe\">\n",
       "  <thead>\n",
       "    <tr style=\"text-align: right;\">\n",
       "      <th>name_cleaned</th>\n",
       "    </tr>\n",
       "  </thead>\n",
       "  <tbody>\n",
       "    <tr>\n",
       "      <td>lakeshore school</td>\n",
       "    </tr>\n",
       "    <tr>\n",
       "      <td>le roi daniels school</td>\n",
       "    </tr>\n",
       "    <tr>\n",
       "      <td>louise dean school</td>\n",
       "    </tr>\n",
       "  </tbody>\n",
       "</table></td><td><table border=\"1\" class=\"dataframe\">\n",
       "  <thead>\n",
       "    <tr style=\"text-align: right;\">\n",
       "      <th>school_name_cleaned</th>\n",
       "      <th>rank_detail_url</th>\n",
       "    </tr>\n",
       "  </thead>\n",
       "  <tbody>\n",
       "    <tr>\n",
       "      <td>langevin</td>\n",
       "      <td>https://www.compareschoolrankings.org/school/ab/elementary/9609</td>\n",
       "    </tr>\n",
       "  </tbody>\n",
       "</table></td></tr></table>"
      ],
      "text/plain": [
       "<IPython.core.display.HTML object>"
      ]
     },
     "metadata": {},
     "output_type": "display_data"
    },
    {
     "data": {
      "text/html": [
       "<h1 style=\"color:grey;\">Names starting with M</h1>"
      ],
      "text/plain": [
       "<IPython.core.display.HTML object>"
      ]
     },
     "metadata": {},
     "output_type": "display_data"
    },
    {
     "data": {
      "text/html": [
       "<table style=\"background-color:black;color:white;\"><tr><td><table border=\"1\" class=\"dataframe\">\n",
       "  <thead>\n",
       "    <tr style=\"text-align: right;\">\n",
       "      <th>name_cleaned</th>\n",
       "    </tr>\n",
       "  </thead>\n",
       "  <tbody>\n",
       "    <tr>\n",
       "      <td>mahogany school</td>\n",
       "    </tr>\n",
       "    <tr>\n",
       "      <td>maple ridge school</td>\n",
       "    </tr>\n",
       "    <tr>\n",
       "      <td>marlborough school</td>\n",
       "    </tr>\n",
       "    <tr>\n",
       "      <td>marshall springs school</td>\n",
       "    </tr>\n",
       "    <tr>\n",
       "      <td>mckenzie highlands school</td>\n",
       "    </tr>\n",
       "    <tr>\n",
       "      <td>mckenzie lake school</td>\n",
       "    </tr>\n",
       "    <tr>\n",
       "      <td>mckenzie towne school</td>\n",
       "    </tr>\n",
       "    <tr>\n",
       "      <td>midsun school</td>\n",
       "    </tr>\n",
       "    <tr>\n",
       "      <td>mount royal school</td>\n",
       "    </tr>\n",
       "    <tr>\n",
       "      <td>mountain park school</td>\n",
       "    </tr>\n",
       "  </tbody>\n",
       "</table></td><td><table border=\"1\" class=\"dataframe\">\n",
       "  <thead>\n",
       "    <tr style=\"text-align: right;\">\n",
       "      <th>school_name_cleaned</th>\n",
       "      <th>rank_detail_url</th>\n",
       "    </tr>\n",
       "  </thead>\n",
       "  <tbody>\n",
       "    <tr>\n",
       "      <td>master's</td>\n",
       "      <td>https://www.compareschoolrankings.org/school/ab/elementary/30</td>\n",
       "    </tr>\n",
       "    <tr>\n",
       "      <td>menno simons christian</td>\n",
       "      <td>https://www.compareschoolrankings.org/school/ab/elementary/9936</td>\n",
       "    </tr>\n",
       "    <tr>\n",
       "      <td>master's college</td>\n",
       "      <td>https://www.compareschoolrankings.org/school/ab/secondary/1562</td>\n",
       "    </tr>\n",
       "  </tbody>\n",
       "</table></td></tr></table>"
      ],
      "text/plain": [
       "<IPython.core.display.HTML object>"
      ]
     },
     "metadata": {},
     "output_type": "display_data"
    },
    {
     "data": {
      "text/html": [
       "<h1 style=\"color:grey;\">Names starting with N</h1>"
      ],
      "text/plain": [
       "<IPython.core.display.HTML object>"
      ]
     },
     "metadata": {},
     "output_type": "display_data"
    },
    {
     "data": {
      "text/html": [
       "<table style=\"background-color:black;color:white;\"><tr><td><table border=\"1\" class=\"dataframe\">\n",
       "  <thead>\n",
       "    <tr style=\"text-align: right;\">\n",
       "      <th>name_cleaned</th>\n",
       "    </tr>\n",
       "  </thead>\n",
       "  <tbody>\n",
       "    <tr>\n",
       "      <td>new brighton school</td>\n",
       "    </tr>\n",
       "    <tr>\n",
       "      <td>nickle school</td>\n",
       "    </tr>\n",
       "    <tr>\n",
       "      <td>niitsitapi learning centre</td>\n",
       "    </tr>\n",
       "    <tr>\n",
       "      <td>north trail high school</td>\n",
       "    </tr>\n",
       "    <tr>\n",
       "      <td>northern lights school</td>\n",
       "    </tr>\n",
       "    <tr>\n",
       "      <td>nose creek school</td>\n",
       "    </tr>\n",
       "  </tbody>\n",
       "</table></td><td><table border=\"1\" class=\"dataframe\">\n",
       "  <thead>\n",
       "    <tr style=\"text-align: right;\">\n",
       "      <th>school_name_cleaned</th>\n",
       "      <th>rank_detail_url</th>\n",
       "    </tr>\n",
       "  </thead>\n",
       "  <tbody>\n",
       "    <tr>\n",
       "      <td>national sport</td>\n",
       "      <td>https://www.compareschoolrankings.org/school/ab/secondary/9830</td>\n",
       "    </tr>\n",
       "  </tbody>\n",
       "</table></td></tr></table>"
      ],
      "text/plain": [
       "<IPython.core.display.HTML object>"
      ]
     },
     "metadata": {},
     "output_type": "display_data"
    },
    {
     "data": {
      "text/html": [
       "<h1 style=\"color:grey;\">Names starting with P</h1>"
      ],
      "text/plain": [
       "<IPython.core.display.HTML object>"
      ]
     },
     "metadata": {},
     "output_type": "display_data"
    },
    {
     "data": {
      "text/html": [
       "<table style=\"background-color:black;color:white;\"><tr><td><table border=\"1\" class=\"dataframe\">\n",
       "  <thead>\n",
       "    <tr style=\"text-align: right;\">\n",
       "      <th>name_cleaned</th>\n",
       "    </tr>\n",
       "  </thead>\n",
       "  <tbody>\n",
       "    <tr>\n",
       "      <td>panorama hills school</td>\n",
       "    </tr>\n",
       "    <tr>\n",
       "      <td>patrick airlie school</td>\n",
       "    </tr>\n",
       "    <tr>\n",
       "      <td>penbrooke meadows school</td>\n",
       "    </tr>\n",
       "    <tr>\n",
       "      <td>peter lougheed school</td>\n",
       "    </tr>\n",
       "    <tr>\n",
       "      <td>prairie sky school</td>\n",
       "    </tr>\n",
       "  </tbody>\n",
       "</table></td><td><table border=\"1\" class=\"dataframe\">\n",
       "  <thead>\n",
       "    <tr style=\"text-align: right;\">\n",
       "      <th>school_name_cleaned</th>\n",
       "      <th>rank_detail_url</th>\n",
       "    </tr>\n",
       "  </thead>\n",
       "  <tbody>\n",
       "    <tr>\n",
       "      <td>prince of peace lutheran</td>\n",
       "      <td>https://www.compareschoolrankings.org/school/ab/elementary/5397</td>\n",
       "    </tr>\n",
       "  </tbody>\n",
       "</table></td></tr></table>"
      ],
      "text/plain": [
       "<IPython.core.display.HTML object>"
      ]
     },
     "metadata": {},
     "output_type": "display_data"
    },
    {
     "data": {
      "text/html": [
       "<h1 style=\"color:grey;\">Names starting with Q</h1>"
      ],
      "text/plain": [
       "<IPython.core.display.HTML object>"
      ]
     },
     "metadata": {},
     "output_type": "display_data"
    },
    {
     "data": {
      "text/html": [
       "<table style=\"background-color:black;color:white;\"><tr><td><table border=\"1\" class=\"dataframe\">\n",
       "  <thead>\n",
       "    <tr style=\"text-align: right;\">\n",
       "      <th>name_cleaned</th>\n",
       "    </tr>\n",
       "  </thead>\n",
       "  <tbody>\n",
       "    <tr>\n",
       "      <td>queen elizabeth high school</td>\n",
       "    </tr>\n",
       "  </tbody>\n",
       "</table></td></tr></table>"
      ],
      "text/plain": [
       "<IPython.core.display.HTML object>"
      ]
     },
     "metadata": {},
     "output_type": "display_data"
    },
    {
     "data": {
      "text/html": [
       "<h1 style=\"color:grey;\">Names starting with R</h1>"
      ],
      "text/plain": [
       "<IPython.core.display.HTML object>"
      ]
     },
     "metadata": {},
     "output_type": "display_data"
    },
    {
     "data": {
      "text/html": [
       "<table style=\"background-color:black;color:white;\"><tr><td><table border=\"1\" class=\"dataframe\">\n",
       "  <thead>\n",
       "    <tr style=\"text-align: right;\">\n",
       "      <th>name_cleaned</th>\n",
       "    </tr>\n",
       "  </thead>\n",
       "  <tbody>\n",
       "    <tr>\n",
       "      <td>r.t.alderman school</td>\n",
       "    </tr>\n",
       "    <tr>\n",
       "      <td>radisson park school</td>\n",
       "    </tr>\n",
       "    <tr>\n",
       "      <td>riverside school</td>\n",
       "    </tr>\n",
       "    <tr>\n",
       "      <td>robert warren school</td>\n",
       "    </tr>\n",
       "    <tr>\n",
       "      <td>roland michener school</td>\n",
       "    </tr>\n",
       "    <tr>\n",
       "      <td>royal oak school</td>\n",
       "    </tr>\n",
       "  </tbody>\n",
       "</table></td><td><table border=\"1\" class=\"dataframe\">\n",
       "  <thead>\n",
       "    <tr style=\"text-align: right;\">\n",
       "      <th>school_name_cleaned</th>\n",
       "      <th>rank_detail_url</th>\n",
       "    </tr>\n",
       "  </thead>\n",
       "  <tbody>\n",
       "    <tr>\n",
       "      <td>red deer lake</td>\n",
       "      <td>https://www.compareschoolrankings.org/school/ab/elementary/5309</td>\n",
       "    </tr>\n",
       "  </tbody>\n",
       "</table></td></tr></table>"
      ],
      "text/plain": [
       "<IPython.core.display.HTML object>"
      ]
     },
     "metadata": {},
     "output_type": "display_data"
    },
    {
     "data": {
      "text/html": [
       "<h1 style=\"color:grey;\">Names starting with S</h1>"
      ],
      "text/plain": [
       "<IPython.core.display.HTML object>"
      ]
     },
     "metadata": {},
     "output_type": "display_data"
    },
    {
     "data": {
      "text/html": [
       "<table style=\"background-color:black;color:white;\"><tr><td><table border=\"1\" class=\"dataframe\">\n",
       "  <thead>\n",
       "    <tr style=\"text-align: right;\">\n",
       "      <th>name_cleaned</th>\n",
       "    </tr>\n",
       "  </thead>\n",
       "  <tbody>\n",
       "    <tr>\n",
       "      <td>start outreach</td>\n",
       "    </tr>\n",
       "    <tr>\n",
       "      <td>saddle ridge school</td>\n",
       "    </tr>\n",
       "    <tr>\n",
       "      <td>sam livingston school</td>\n",
       "    </tr>\n",
       "    <tr>\n",
       "      <td>samuel w.shaw school</td>\n",
       "    </tr>\n",
       "    <tr>\n",
       "      <td>scenic acres school</td>\n",
       "    </tr>\n",
       "    <tr>\n",
       "      <td>senator patrick burns school</td>\n",
       "    </tr>\n",
       "    <tr>\n",
       "      <td>sherwood school</td>\n",
       "    </tr>\n",
       "    <tr>\n",
       "      <td>sibylla kiddle school</td>\n",
       "    </tr>\n",
       "    <tr>\n",
       "      <td>simon fraser school</td>\n",
       "    </tr>\n",
       "    <tr>\n",
       "      <td>sir john a.macdonald school</td>\n",
       "    </tr>\n",
       "    <tr>\n",
       "      <td>sir john franklin school</td>\n",
       "    </tr>\n",
       "    <tr>\n",
       "      <td>sir wilfrid laurier school</td>\n",
       "    </tr>\n",
       "    <tr>\n",
       "      <td>somerset school</td>\n",
       "    </tr>\n",
       "  </tbody>\n",
       "</table></td><td><table border=\"1\" class=\"dataframe\">\n",
       "  <thead>\n",
       "    <tr style=\"text-align: right;\">\n",
       "      <th>school_name_cleaned</th>\n",
       "      <th>rank_detail_url</th>\n",
       "    </tr>\n",
       "  </thead>\n",
       "  <tbody>\n",
       "    <tr>\n",
       "      <td>springbank</td>\n",
       "      <td>https://www.compareschoolrankings.org/school/ab/secondary/5223</td>\n",
       "    </tr>\n",
       "  </tbody>\n",
       "</table></td></tr></table>"
      ],
      "text/plain": [
       "<IPython.core.display.HTML object>"
      ]
     },
     "metadata": {},
     "output_type": "display_data"
    },
    {
     "data": {
      "text/html": [
       "<h1 style=\"color:grey;\">Names starting with T</h1>"
      ],
      "text/plain": [
       "<IPython.core.display.HTML object>"
      ]
     },
     "metadata": {},
     "output_type": "display_data"
    },
    {
     "data": {
      "text/html": [
       "<table style=\"background-color:black;color:white;\"><tr><td><table border=\"1\" class=\"dataframe\">\n",
       "  <thead>\n",
       "    <tr style=\"text-align: right;\">\n",
       "      <th>name_cleaned</th>\n",
       "    </tr>\n",
       "  </thead>\n",
       "  <tbody>\n",
       "    <tr>\n",
       "      <td>taradale school</td>\n",
       "    </tr>\n",
       "    <tr>\n",
       "      <td>ted harrison school</td>\n",
       "    </tr>\n",
       "    <tr>\n",
       "      <td>terry fox school</td>\n",
       "    </tr>\n",
       "    <tr>\n",
       "      <td>the hamptons school</td>\n",
       "    </tr>\n",
       "    <tr>\n",
       "      <td>thomas b.riley school</td>\n",
       "    </tr>\n",
       "    <tr>\n",
       "      <td>tom baines school</td>\n",
       "    </tr>\n",
       "    <tr>\n",
       "      <td>tuscany school</td>\n",
       "    </tr>\n",
       "    <tr>\n",
       "      <td>twelve mile coulee school</td>\n",
       "    </tr>\n",
       "  </tbody>\n",
       "</table></td><td><table border=\"1\" class=\"dataframe\">\n",
       "  <thead>\n",
       "    <tr style=\"text-align: right;\">\n",
       "      <th>school_name_cleaned</th>\n",
       "      <th>rank_detail_url</th>\n",
       "    </tr>\n",
       "  </thead>\n",
       "  <tbody>\n",
       "    <tr>\n",
       "      <td>trinity christian</td>\n",
       "      <td>https://www.compareschoolrankings.org/school/ab/elementary/9973</td>\n",
       "    </tr>\n",
       "  </tbody>\n",
       "</table></td></tr></table>"
      ],
      "text/plain": [
       "<IPython.core.display.HTML object>"
      ]
     },
     "metadata": {},
     "output_type": "display_data"
    },
    {
     "data": {
      "text/html": [
       "<h1 style=\"color:grey;\">Names starting with V</h1>"
      ],
      "text/plain": [
       "<IPython.core.display.HTML object>"
      ]
     },
     "metadata": {},
     "output_type": "display_data"
    },
    {
     "data": {
      "text/html": [
       "<table style=\"background-color:black;color:white;\"><tr><td><table border=\"1\" class=\"dataframe\">\n",
       "  <thead>\n",
       "    <tr style=\"text-align: right;\">\n",
       "      <th>name_cleaned</th>\n",
       "    </tr>\n",
       "  </thead>\n",
       "  <tbody>\n",
       "    <tr>\n",
       "      <td>valley creek school</td>\n",
       "    </tr>\n",
       "    <tr>\n",
       "      <td>valley view school</td>\n",
       "    </tr>\n",
       "    <tr>\n",
       "      <td>varsity acres school</td>\n",
       "    </tr>\n",
       "    <tr>\n",
       "      <td>vincent massey school</td>\n",
       "    </tr>\n",
       "  </tbody>\n",
       "</table></td></tr></table>"
      ],
      "text/plain": [
       "<IPython.core.display.HTML object>"
      ]
     },
     "metadata": {},
     "output_type": "display_data"
    },
    {
     "data": {
      "text/html": [
       "<h1 style=\"color:grey;\">Names starting with W</h1>"
      ],
      "text/plain": [
       "<IPython.core.display.HTML object>"
      ]
     },
     "metadata": {},
     "output_type": "display_data"
    },
    {
     "data": {
      "text/html": [
       "<table style=\"background-color:black;color:white;\"><tr><td><table border=\"1\" class=\"dataframe\">\n",
       "  <thead>\n",
       "    <tr style=\"text-align: right;\">\n",
       "      <th>name_cleaned</th>\n",
       "    </tr>\n",
       "  </thead>\n",
       "  <tbody>\n",
       "    <tr>\n",
       "      <td>w.o.mitchell school</td>\n",
       "    </tr>\n",
       "    <tr>\n",
       "      <td>west dover school</td>\n",
       "    </tr>\n",
       "    <tr>\n",
       "      <td>west ridge school</td>\n",
       "    </tr>\n",
       "    <tr>\n",
       "      <td>west springs school</td>\n",
       "    </tr>\n",
       "    <tr>\n",
       "      <td>westbrook outreach</td>\n",
       "    </tr>\n",
       "    <tr>\n",
       "      <td>william d.pratt school</td>\n",
       "    </tr>\n",
       "    <tr>\n",
       "      <td>william reid school</td>\n",
       "    </tr>\n",
       "    <tr>\n",
       "      <td>william roper hull school</td>\n",
       "    </tr>\n",
       "    <tr>\n",
       "      <td>willow park school</td>\n",
       "    </tr>\n",
       "    <tr>\n",
       "      <td>wilma hansen school</td>\n",
       "    </tr>\n",
       "    <tr>\n",
       "      <td>wood's homes - william taylor learning centre</td>\n",
       "    </tr>\n",
       "    <tr>\n",
       "      <td>woodman school</td>\n",
       "    </tr>\n",
       "  </tbody>\n",
       "</table></td></tr></table>"
      ],
      "text/plain": [
       "<IPython.core.display.HTML object>"
      ]
     },
     "metadata": {},
     "output_type": "display_data"
    }
   ],
   "source": [
    "# Define a list of your DataFrame and column name pairings\n",
    "df_list_cleaned = [(unmatched_schools_in_df_school_cleaned, ['name_cleaned']), (unmatched_public_schools_in_df_ranking_cleaned, ['school_name_cleaned','rank_detail_url'])]\n",
    "\n",
    "display_alphabetical(df_list_cleaned)"
   ]
  },
  {
   "cell_type": "markdown",
   "metadata": {},
   "source": [
    "Upon closer examination of the current filtered results, it appears that all the remaining public schools that have not been matched are not part of the Calgary Board of Education (CBE). After conducting a quick internet search, it was found that these schools belong to other school boards or districts, such as the Palliser School District.\n",
    "\n",
    "Please note that the attendance areas for these schools are not readily available, and in some cases, they may not have defined attendance areas. For practical reasons, this project will focus solely on schools within the Calgary Board of Education (CBE).\n",
    "\n",
    "https://www.pallisersd.ab.ca/schools/our-schools"
   ]
  },
  {
   "cell_type": "markdown",
   "metadata": {},
   "source": [
    "## Matching of school ID"
   ]
  },
  {
   "cell_type": "code",
   "execution_count": 319,
   "metadata": {},
   "outputs": [],
   "source": [
    "df_ranking_db= df_ranking[~df_ranking['matching_school_cleaned'].isna()].copy()\n"
   ]
  },
  {
   "cell_type": "markdown",
   "metadata": {},
   "source": [
    "Performing matching of school_id, which will serve as foreign keys."
   ]
  },
  {
   "cell_type": "code",
   "execution_count": 320,
   "metadata": {},
   "outputs": [],
   "source": [
    "def check_school_id(ranking_school):\n",
    "    for row in df_school.itertuples():\n",
    "        \n",
    "        if ranking_school in row.name_cleaned:\n",
    "            return row.school_id\n",
    "    return None\n",
    "\n",
    "df_ranking_db['school_id'] = df_ranking_db['school_name_cleaned'].apply(check_school_id)"
   ]
  },
  {
   "cell_type": "markdown",
   "metadata": {},
   "source": [
    "Check for duplicates."
   ]
  },
  {
   "cell_type": "code",
   "execution_count": 321,
   "metadata": {},
   "outputs": [
    {
     "data": {
      "text/plain": [
       "school_id\n",
       "43     3\n",
       "66     1\n",
       "6      1\n",
       "61     1\n",
       "101    1\n",
       "      ..\n",
       "135    1\n",
       "16     1\n",
       "15     1\n",
       "234    1\n",
       "174    1\n",
       "Name: count, Length: 109, dtype: int64"
      ]
     },
     "execution_count": 321,
     "metadata": {},
     "output_type": "execute_result"
    }
   ],
   "source": [
    "df_ranking_db['school_id'].value_counts()"
   ]
  },
  {
   "cell_type": "markdown",
   "metadata": {},
   "source": [
    "Look at the duplicates found at school_id 43."
   ]
  },
  {
   "cell_type": "code",
   "execution_count": 322,
   "metadata": {},
   "outputs": [
    {
     "data": {
      "text/html": [
       "<div>\n",
       "<style scoped>\n",
       "    .dataframe tbody tr th:only-of-type {\n",
       "        vertical-align: middle;\n",
       "    }\n",
       "\n",
       "    .dataframe tbody tr th {\n",
       "        vertical-align: top;\n",
       "    }\n",
       "\n",
       "    .dataframe thead th {\n",
       "        text-align: right;\n",
       "    }\n",
       "</style>\n",
       "<table border=\"1\" class=\"dataframe\">\n",
       "  <thead>\n",
       "    <tr style=\"text-align: right;\">\n",
       "      <th></th>\n",
       "      <th>school_name</th>\n",
       "      <th>rank_detail_url</th>\n",
       "      <th>school_rating</th>\n",
       "      <th>school_rank</th>\n",
       "      <th>city</th>\n",
       "      <th>school_group</th>\n",
       "      <th>school_type</th>\n",
       "      <th>is_in</th>\n",
       "      <th>matching_school</th>\n",
       "      <th>school_name_cleaned</th>\n",
       "      <th>matching_school_cleaned</th>\n",
       "      <th>school_id</th>\n",
       "    </tr>\n",
       "  </thead>\n",
       "  <tbody>\n",
       "    <tr>\n",
       "      <th>97</th>\n",
       "      <td>Queen Elizabeth</td>\n",
       "      <td>/school/ab/elementary/9227</td>\n",
       "      <td>7.5</td>\n",
       "      <td>167/848</td>\n",
       "      <td>Calgary</td>\n",
       "      <td>elementary</td>\n",
       "      <td>Public</td>\n",
       "      <td>True</td>\n",
       "      <td>Queen Elizabeth School</td>\n",
       "      <td>queen elizabeth</td>\n",
       "      <td>queen elizabeth school</td>\n",
       "      <td>43</td>\n",
       "    </tr>\n",
       "    <tr>\n",
       "      <th>98</th>\n",
       "      <td>Queen Elizabeth</td>\n",
       "      <td>/school/ab/elementary/3143</td>\n",
       "      <td>3.8</td>\n",
       "      <td>754/848</td>\n",
       "      <td>Calgary</td>\n",
       "      <td>elementary</td>\n",
       "      <td>Public</td>\n",
       "      <td>True</td>\n",
       "      <td>Queen Elizabeth School</td>\n",
       "      <td>queen elizabeth</td>\n",
       "      <td>queen elizabeth school</td>\n",
       "      <td>43</td>\n",
       "    </tr>\n",
       "    <tr>\n",
       "      <th>255</th>\n",
       "      <td>Queen Elizabeth</td>\n",
       "      <td>/school/ab/secondary/9806</td>\n",
       "      <td>6.8</td>\n",
       "      <td>73/253</td>\n",
       "      <td>Calgary</td>\n",
       "      <td>secondary</td>\n",
       "      <td>Public</td>\n",
       "      <td>True</td>\n",
       "      <td>Queen Elizabeth School</td>\n",
       "      <td>queen elizabeth</td>\n",
       "      <td>queen elizabeth school</td>\n",
       "      <td>43</td>\n",
       "    </tr>\n",
       "  </tbody>\n",
       "</table>\n",
       "</div>"
      ],
      "text/plain": [
       "         school_name             rank_detail_url  school_rating school_rank  \\\n",
       "97   Queen Elizabeth  /school/ab/elementary/9227            7.5     167/848   \n",
       "98   Queen Elizabeth  /school/ab/elementary/3143            3.8     754/848   \n",
       "255  Queen Elizabeth   /school/ab/secondary/9806            6.8      73/253   \n",
       "\n",
       "        city school_group school_type  is_in         matching_school  \\\n",
       "97   Calgary   elementary      Public   True  Queen Elizabeth School   \n",
       "98   Calgary   elementary      Public   True  Queen Elizabeth School   \n",
       "255  Calgary    secondary      Public   True  Queen Elizabeth School   \n",
       "\n",
       "    school_name_cleaned matching_school_cleaned  school_id  \n",
       "97      queen elizabeth  queen elizabeth school         43  \n",
       "98      queen elizabeth  queen elizabeth school         43  \n",
       "255     queen elizabeth  queen elizabeth school         43  "
      ]
     },
     "execution_count": 322,
     "metadata": {},
     "output_type": "execute_result"
    }
   ],
   "source": [
    "df_ranking_db[df_ranking_db['school_id']== 43]"
   ]
  },
  {
   "attachments": {
    "image.png": {
     "image/png": "[encoded data removed]"
    }
   },
   "cell_type": "markdown",
   "metadata": {},
   "source": [
    "![image.png](attachment:image.png)\n",
    "\n",
    "Checked from Fraser's website, there are indeed two entries in elementary school having the name \"Queen Elizabeth. As they have the same phone number and website, it is likely a data error.\n",
    "\n",
    "Since the secondary school has a rating of 6.8, I will keep the elementary school entry with index 97 for it having a rating closest to 6.8, and drop the entry with index 98."
   ]
  },
  {
   "cell_type": "code",
   "execution_count": 323,
   "metadata": {},
   "outputs": [],
   "source": [
    "df_ranking_db.drop(index=98, axis=0,inplace=True)"
   ]
  },
  {
   "cell_type": "markdown",
   "metadata": {},
   "source": [
    "Now the matching of school_id is finished, drop all unnecessary columns and double check for duplicates."
   ]
  },
  {
   "cell_type": "code",
   "execution_count": 324,
   "metadata": {},
   "outputs": [],
   "source": [
    "df_ranking_db.drop(['is_in','matching_school','school_name_cleaned','matching_school_cleaned'],axis=1, inplace=True)"
   ]
  },
  {
   "cell_type": "code",
   "execution_count": 325,
   "metadata": {},
   "outputs": [
    {
     "name": "stdout",
     "output_type": "stream",
     "text": [
      "<class 'pandas.core.frame.DataFrame'>\n",
      "Index: 110 entries, 19 to 260\n",
      "Data columns (total 8 columns):\n",
      " #   Column           Non-Null Count  Dtype  \n",
      "---  ------           --------------  -----  \n",
      " 0   school_name      110 non-null    object \n",
      " 1   rank_detail_url  110 non-null    object \n",
      " 2   school_rating    110 non-null    float64\n",
      " 3   school_rank      110 non-null    object \n",
      " 4   city             110 non-null    object \n",
      " 5   school_group     110 non-null    object \n",
      " 6   school_type      110 non-null    object \n",
      " 7   school_id        110 non-null    int64  \n",
      "dtypes: float64(1), int64(1), object(6)\n",
      "memory usage: 7.7+ KB\n"
     ]
    }
   ],
   "source": [
    "df_ranking_db.drop_duplicates()\n",
    "df_ranking_db.info()"
   ]
  },
  {
   "cell_type": "markdown",
   "metadata": {},
   "source": [
    "Now df_ranking_db is ready for insertion into the database."
   ]
  },
  {
   "cell_type": "code",
   "execution_count": 326,
   "metadata": {},
   "outputs": [],
   "source": [
    "df_ranking_db.to_csv('school_ranking_cleaned.csv', index=False)"
   ]
  }
 ],
 "metadata": {
  "kernelspec": {
   "display_name": "py310",
   "language": "python",
   "name": "python3"
  },
  "language_info": {
   "codemirror_mode": {
    "name": "ipython",
    "version": 3
   },
   "file_extension": ".py",
   "mimetype": "text/x-python",
   "name": "python",
   "nbconvert_exporter": "python",
   "pygments_lexer": "ipython3",
   "version": "3.10.13"
  }
 },
 "nbformat": 4,
 "nbformat_minor": 2
}
